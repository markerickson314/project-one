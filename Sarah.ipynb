{
 "cells": [
  {
   "cell_type": "markdown",
   "metadata": {},
   "source": [
    "# Team 12 - Project One - Census Data\n",
    "\n",
    "Our goal is to conduct predictive analysis and determine if the income of a random adult American citizen is based on given features, such as age, education, occupation, gender, race, work week, native region, family status, etc. We want to predict when a person will earn more than or less than 50,0000 dollars a year."
   ]
  },
  {
   "cell_type": "markdown",
   "metadata": {},
   "source": [
    "## Step 1:  Clean and transform the input dataset"
   ]
  },
  {
   "cell_type": "code",
   "execution_count": 1,
   "metadata": {},
   "outputs": [
    {
     "data": {
      "text/html": [
       "<div>\n",
       "<style scoped>\n",
       "    .dataframe tbody tr th:only-of-type {\n",
       "        vertical-align: middle;\n",
       "    }\n",
       "\n",
       "    .dataframe tbody tr th {\n",
       "        vertical-align: top;\n",
       "    }\n",
       "\n",
       "    .dataframe thead th {\n",
       "        text-align: right;\n",
       "    }\n",
       "</style>\n",
       "<table border=\"1\" class=\"dataframe\">\n",
       "  <thead>\n",
       "    <tr style=\"text-align: right;\">\n",
       "      <th></th>\n",
       "      <th>age</th>\n",
       "      <th>workclass</th>\n",
       "      <th>fnlwgt</th>\n",
       "      <th>education</th>\n",
       "      <th>education.num</th>\n",
       "      <th>marital.status</th>\n",
       "      <th>occupation</th>\n",
       "      <th>relationship</th>\n",
       "      <th>race</th>\n",
       "      <th>sex</th>\n",
       "      <th>capital.gain</th>\n",
       "      <th>capital.loss</th>\n",
       "      <th>hours.per.week</th>\n",
       "      <th>native.country</th>\n",
       "      <th>income</th>\n",
       "      <th>Age Category</th>\n",
       "      <th>Hours Per Week</th>\n",
       "      <th>Native Region</th>\n",
       "    </tr>\n",
       "  </thead>\n",
       "  <tbody>\n",
       "    <tr>\n",
       "      <th>0</th>\n",
       "      <td>90</td>\n",
       "      <td>Not-Available</td>\n",
       "      <td>77053</td>\n",
       "      <td>HS-grad</td>\n",
       "      <td>9</td>\n",
       "      <td>Widowed</td>\n",
       "      <td>Not-Available</td>\n",
       "      <td>Not-in-family</td>\n",
       "      <td>White</td>\n",
       "      <td>Female</td>\n",
       "      <td>0</td>\n",
       "      <td>4356</td>\n",
       "      <td>40</td>\n",
       "      <td>United-States</td>\n",
       "      <td>&lt;=50K</td>\n",
       "      <td>&gt; 78</td>\n",
       "      <td>40-45 hours</td>\n",
       "      <td>United States</td>\n",
       "    </tr>\n",
       "    <tr>\n",
       "      <th>1</th>\n",
       "      <td>82</td>\n",
       "      <td>Private</td>\n",
       "      <td>132870</td>\n",
       "      <td>HS-grad</td>\n",
       "      <td>9</td>\n",
       "      <td>Widowed</td>\n",
       "      <td>Exec-managerial</td>\n",
       "      <td>Not-in-family</td>\n",
       "      <td>White</td>\n",
       "      <td>Female</td>\n",
       "      <td>0</td>\n",
       "      <td>4356</td>\n",
       "      <td>18</td>\n",
       "      <td>United-States</td>\n",
       "      <td>&lt;=50K</td>\n",
       "      <td>&gt; 78</td>\n",
       "      <td>&lt; 40 hours</td>\n",
       "      <td>United States</td>\n",
       "    </tr>\n",
       "    <tr>\n",
       "      <th>2</th>\n",
       "      <td>66</td>\n",
       "      <td>Not-Available</td>\n",
       "      <td>186061</td>\n",
       "      <td>Some-college</td>\n",
       "      <td>10</td>\n",
       "      <td>Widowed</td>\n",
       "      <td>Not-Available</td>\n",
       "      <td>Unmarried</td>\n",
       "      <td>Black</td>\n",
       "      <td>Female</td>\n",
       "      <td>0</td>\n",
       "      <td>4356</td>\n",
       "      <td>40</td>\n",
       "      <td>United-States</td>\n",
       "      <td>&lt;=50K</td>\n",
       "      <td>66-78</td>\n",
       "      <td>40-45 hours</td>\n",
       "      <td>United States</td>\n",
       "    </tr>\n",
       "    <tr>\n",
       "      <th>3</th>\n",
       "      <td>54</td>\n",
       "      <td>Private</td>\n",
       "      <td>140359</td>\n",
       "      <td>7th-8th</td>\n",
       "      <td>4</td>\n",
       "      <td>Divorced</td>\n",
       "      <td>Machine-op-inspct</td>\n",
       "      <td>Unmarried</td>\n",
       "      <td>White</td>\n",
       "      <td>Female</td>\n",
       "      <td>0</td>\n",
       "      <td>3900</td>\n",
       "      <td>40</td>\n",
       "      <td>United-States</td>\n",
       "      <td>&lt;=50K</td>\n",
       "      <td>41-57</td>\n",
       "      <td>40-45 hours</td>\n",
       "      <td>United States</td>\n",
       "    </tr>\n",
       "    <tr>\n",
       "      <th>4</th>\n",
       "      <td>41</td>\n",
       "      <td>Private</td>\n",
       "      <td>264663</td>\n",
       "      <td>Some-college</td>\n",
       "      <td>10</td>\n",
       "      <td>Separated</td>\n",
       "      <td>Prof-specialty</td>\n",
       "      <td>Own-child</td>\n",
       "      <td>White</td>\n",
       "      <td>Female</td>\n",
       "      <td>0</td>\n",
       "      <td>3900</td>\n",
       "      <td>40</td>\n",
       "      <td>United-States</td>\n",
       "      <td>&lt;=50K</td>\n",
       "      <td>41-57</td>\n",
       "      <td>40-45 hours</td>\n",
       "      <td>United States</td>\n",
       "    </tr>\n",
       "    <tr>\n",
       "      <th>...</th>\n",
       "      <td>...</td>\n",
       "      <td>...</td>\n",
       "      <td>...</td>\n",
       "      <td>...</td>\n",
       "      <td>...</td>\n",
       "      <td>...</td>\n",
       "      <td>...</td>\n",
       "      <td>...</td>\n",
       "      <td>...</td>\n",
       "      <td>...</td>\n",
       "      <td>...</td>\n",
       "      <td>...</td>\n",
       "      <td>...</td>\n",
       "      <td>...</td>\n",
       "      <td>...</td>\n",
       "      <td>...</td>\n",
       "      <td>...</td>\n",
       "      <td>...</td>\n",
       "    </tr>\n",
       "    <tr>\n",
       "      <th>32525</th>\n",
       "      <td>22</td>\n",
       "      <td>Private</td>\n",
       "      <td>310152</td>\n",
       "      <td>Some-college</td>\n",
       "      <td>10</td>\n",
       "      <td>Never-married</td>\n",
       "      <td>Protective-serv</td>\n",
       "      <td>Not-in-family</td>\n",
       "      <td>White</td>\n",
       "      <td>Male</td>\n",
       "      <td>0</td>\n",
       "      <td>0</td>\n",
       "      <td>40</td>\n",
       "      <td>United-States</td>\n",
       "      <td>&lt;=50K</td>\n",
       "      <td>18-22</td>\n",
       "      <td>40-45 hours</td>\n",
       "      <td>United States</td>\n",
       "    </tr>\n",
       "    <tr>\n",
       "      <th>32526</th>\n",
       "      <td>27</td>\n",
       "      <td>Private</td>\n",
       "      <td>257302</td>\n",
       "      <td>Assoc-acdm</td>\n",
       "      <td>12</td>\n",
       "      <td>Married-civ-spouse</td>\n",
       "      <td>Tech-support</td>\n",
       "      <td>Wife</td>\n",
       "      <td>White</td>\n",
       "      <td>Female</td>\n",
       "      <td>0</td>\n",
       "      <td>0</td>\n",
       "      <td>38</td>\n",
       "      <td>United-States</td>\n",
       "      <td>&lt;=50K</td>\n",
       "      <td>23-33</td>\n",
       "      <td>&lt; 40 hours</td>\n",
       "      <td>United States</td>\n",
       "    </tr>\n",
       "    <tr>\n",
       "      <th>32527</th>\n",
       "      <td>40</td>\n",
       "      <td>Private</td>\n",
       "      <td>154374</td>\n",
       "      <td>HS-grad</td>\n",
       "      <td>9</td>\n",
       "      <td>Married-civ-spouse</td>\n",
       "      <td>Machine-op-inspct</td>\n",
       "      <td>Husband</td>\n",
       "      <td>White</td>\n",
       "      <td>Male</td>\n",
       "      <td>0</td>\n",
       "      <td>0</td>\n",
       "      <td>40</td>\n",
       "      <td>United-States</td>\n",
       "      <td>&gt;50K</td>\n",
       "      <td>34-40</td>\n",
       "      <td>40-45 hours</td>\n",
       "      <td>United States</td>\n",
       "    </tr>\n",
       "    <tr>\n",
       "      <th>32528</th>\n",
       "      <td>58</td>\n",
       "      <td>Private</td>\n",
       "      <td>151910</td>\n",
       "      <td>HS-grad</td>\n",
       "      <td>9</td>\n",
       "      <td>Widowed</td>\n",
       "      <td>Adm-clerical</td>\n",
       "      <td>Unmarried</td>\n",
       "      <td>White</td>\n",
       "      <td>Female</td>\n",
       "      <td>0</td>\n",
       "      <td>0</td>\n",
       "      <td>40</td>\n",
       "      <td>United-States</td>\n",
       "      <td>&lt;=50K</td>\n",
       "      <td>58-65</td>\n",
       "      <td>40-45 hours</td>\n",
       "      <td>United States</td>\n",
       "    </tr>\n",
       "    <tr>\n",
       "      <th>32529</th>\n",
       "      <td>22</td>\n",
       "      <td>Private</td>\n",
       "      <td>201490</td>\n",
       "      <td>HS-grad</td>\n",
       "      <td>9</td>\n",
       "      <td>Never-married</td>\n",
       "      <td>Adm-clerical</td>\n",
       "      <td>Own-child</td>\n",
       "      <td>White</td>\n",
       "      <td>Male</td>\n",
       "      <td>0</td>\n",
       "      <td>0</td>\n",
       "      <td>20</td>\n",
       "      <td>United-States</td>\n",
       "      <td>&lt;=50K</td>\n",
       "      <td>18-22</td>\n",
       "      <td>&lt; 40 hours</td>\n",
       "      <td>United States</td>\n",
       "    </tr>\n",
       "  </tbody>\n",
       "</table>\n",
       "<p>32530 rows × 18 columns</p>\n",
       "</div>"
      ],
      "text/plain": [
       "       age      workclass  fnlwgt     education  education.num  \\\n",
       "0       90  Not-Available   77053       HS-grad              9   \n",
       "1       82        Private  132870       HS-grad              9   \n",
       "2       66  Not-Available  186061  Some-college             10   \n",
       "3       54        Private  140359       7th-8th              4   \n",
       "4       41        Private  264663  Some-college             10   \n",
       "...    ...            ...     ...           ...            ...   \n",
       "32525   22        Private  310152  Some-college             10   \n",
       "32526   27        Private  257302    Assoc-acdm             12   \n",
       "32527   40        Private  154374       HS-grad              9   \n",
       "32528   58        Private  151910       HS-grad              9   \n",
       "32529   22        Private  201490       HS-grad              9   \n",
       "\n",
       "           marital.status         occupation   relationship   race     sex  \\\n",
       "0                 Widowed      Not-Available  Not-in-family  White  Female   \n",
       "1                 Widowed    Exec-managerial  Not-in-family  White  Female   \n",
       "2                 Widowed      Not-Available      Unmarried  Black  Female   \n",
       "3                Divorced  Machine-op-inspct      Unmarried  White  Female   \n",
       "4               Separated     Prof-specialty      Own-child  White  Female   \n",
       "...                   ...                ...            ...    ...     ...   \n",
       "32525       Never-married    Protective-serv  Not-in-family  White    Male   \n",
       "32526  Married-civ-spouse       Tech-support           Wife  White  Female   \n",
       "32527  Married-civ-spouse  Machine-op-inspct        Husband  White    Male   \n",
       "32528             Widowed       Adm-clerical      Unmarried  White  Female   \n",
       "32529       Never-married       Adm-clerical      Own-child  White    Male   \n",
       "\n",
       "       capital.gain  capital.loss  hours.per.week native.country income  \\\n",
       "0                 0          4356              40  United-States  <=50K   \n",
       "1                 0          4356              18  United-States  <=50K   \n",
       "2                 0          4356              40  United-States  <=50K   \n",
       "3                 0          3900              40  United-States  <=50K   \n",
       "4                 0          3900              40  United-States  <=50K   \n",
       "...             ...           ...             ...            ...    ...   \n",
       "32525             0             0              40  United-States  <=50K   \n",
       "32526             0             0              38  United-States  <=50K   \n",
       "32527             0             0              40  United-States   >50K   \n",
       "32528             0             0              40  United-States  <=50K   \n",
       "32529             0             0              20  United-States  <=50K   \n",
       "\n",
       "      Age Category Hours Per Week  Native Region  \n",
       "0             > 78    40-45 hours  United States  \n",
       "1             > 78     < 40 hours  United States  \n",
       "2            66-78    40-45 hours  United States  \n",
       "3            41-57    40-45 hours  United States  \n",
       "4            41-57    40-45 hours  United States  \n",
       "...            ...            ...            ...  \n",
       "32525        18-22    40-45 hours  United States  \n",
       "32526        23-33     < 40 hours  United States  \n",
       "32527        34-40    40-45 hours  United States  \n",
       "32528        58-65    40-45 hours  United States  \n",
       "32529        18-22     < 40 hours  United States  \n",
       "\n",
       "[32530 rows x 18 columns]"
      ]
     },
     "execution_count": 1,
     "metadata": {},
     "output_type": "execute_result"
    }
   ],
   "source": [
    "# Dependencies and Setup\n",
    "import pandas as pd\n",
    "import matplotlib.pyplot as plt\n",
    "import numpy as np\n",
    "import scipy.stats as sts\n",
    "\n",
    "# Read the dataset\n",
    "replaced_df = pd.read_csv(\"replaced.csv\", delimiter=',', skipinitialspace=True)\n",
    "replaced_df"
   ]
  },
  {
   "cell_type": "markdown",
   "metadata": {},
   "source": [
    "## Income\n",
    "Income is the response variable, also called dependent variable "
   ]
  },
  {
   "cell_type": "code",
   "execution_count": 2,
   "metadata": {},
   "outputs": [],
   "source": [
    "# Overview of income\n",
    "replaced_df[\"income\"].value_counts()\n",
    "under_50k = replaced_df[replaced_df[\"income\"] == \"<=50K\"]\n",
    "over_50k = replaced_df[replaced_df[\"income\"] == \">50K\"]"
   ]
  },
  {
   "cell_type": "markdown",
   "metadata": {},
   "source": [
    "## Age"
   ]
  },
  {
   "cell_type": "code",
   "execution_count": 3,
   "metadata": {},
   "outputs": [
    {
     "data": {
      "text/plain": [
       "36    898\n",
       "31    888\n",
       "34    886\n",
       "23    875\n",
       "33    875\n",
       "     ... \n",
       "83      6\n",
       "85      3\n",
       "88      3\n",
       "87      1\n",
       "86      1\n",
       "Name: age, Length: 73, dtype: int64"
      ]
     },
     "execution_count": 3,
     "metadata": {},
     "output_type": "execute_result"
    }
   ],
   "source": [
    "# Overview of age\n",
    "replaced_df[\"age\"].value_counts()"
   ]
  },
  {
   "cell_type": "code",
   "execution_count": 84,
   "metadata": {},
   "outputs": [
    {
     "data": {
      "image/png": "[encoded data removed]",
      "text/plain": [
       "<Figure size 432x288 with 1 Axes>"
      ]
     },
     "metadata": {
      "needs_background": "light"
     },
     "output_type": "display_data"
    }
   ],
   "source": [
    "# Look at age data set and compute quantiles\n",
    "age = replaced_df[\"age\"]\n",
    "age1 = under_50k[\"age\"]\n",
    "\n",
    "fig1, ax1 = plt.subplots()\n",
    "ax1.set_title('Box Plot of Age')\n",
    "ax1.set_ylabel('Age')\n",
    "ax1.boxplot(age)\n",
    "plt.show()"
   ]
  },
  {
   "cell_type": "code",
   "execution_count": 117,
   "metadata": {},
   "outputs": [
    {
     "data": {
      "image/png": "[encoded data removed]",
      "text/plain": [
       "<Figure size 432x288 with 1 Axes>"
      ]
     },
     "metadata": {
      "needs_background": "light"
     },
     "output_type": "display_data"
    }
   ],
   "source": [
    "# Histogram of Age\n",
    "replaced_df.hist(column=\"age\")\n",
    "plt.title(\"Age Breakdown\")\n",
    "plt.xlabel(\"Age\")\n",
    "plt.ylabel(\"Number of Participants\")\n",
    "plt.show()"
   ]
  },
  {
   "cell_type": "code",
   "execution_count": 95,
   "metadata": {
    "scrolled": true
   },
   "outputs": [
    {
     "name": "stdout",
     "output_type": "stream",
     "text": [
      "The lower quartile of age is: 28.0\n",
      "The upper quartile of age is: 48.0\n",
      "The interquartile range of age is: 20.0\n",
      "The the median of age is: 37.0 \n",
      "Values below -2.0 could be outliers.\n",
      "Values above 78.0 could be outliers.\n",
      "Observation: From the histogram of “age”, we can see that the bulk of individuals in our sample are bewtween 20 and 50 years old.\n"
     ]
    }
   ],
   "source": [
    "# Get quartile calculations\n",
    "quartiles = age.quantile([.25,.5,.75])\n",
    "lowerq = quartiles[0.25]\n",
    "upperq = quartiles[0.75]\n",
    "iqr = upperq-lowerq\n",
    "\n",
    "print(f\"The lower quartile of age is: {lowerq}\")\n",
    "print(f\"The upper quartile of age is: {upperq}\")\n",
    "print(f\"The interquartile range of age is: {iqr}\")\n",
    "print(f\"The the median of age is: {quartiles[0.5]} \")\n",
    "\n",
    "lower_bound = lowerq - (1.5*iqr)\n",
    "upper_bound = upperq + (1.5*iqr)\n",
    "print(f\"Values below {lower_bound} could be outliers.\")\n",
    "print(f\"Values above {upper_bound} could be outliers.\")\n",
    "print(\"Observation: From the histogram of “age”, we can see that the bulk of individuals in our sample are bewtween 20 and 50 years old.\")"
   ]
  },
  {
   "cell_type": "code",
   "execution_count": 90,
   "metadata": {},
   "outputs": [
    {
     "data": {
      "text/html": [
       "<div>\n",
       "<style scoped>\n",
       "    .dataframe tbody tr th:only-of-type {\n",
       "        vertical-align: middle;\n",
       "    }\n",
       "\n",
       "    .dataframe tbody tr th {\n",
       "        vertical-align: top;\n",
       "    }\n",
       "\n",
       "    .dataframe thead th {\n",
       "        text-align: right;\n",
       "    }\n",
       "</style>\n",
       "<table border=\"1\" class=\"dataframe\">\n",
       "  <thead>\n",
       "    <tr style=\"text-align: right;\">\n",
       "      <th></th>\n",
       "      <th>General Mean</th>\n",
       "      <th>Mean Age Making =&lt;50k</th>\n",
       "      <th>Mean Age Making &gt;50k</th>\n",
       "    </tr>\n",
       "  </thead>\n",
       "  <tbody>\n",
       "    <tr>\n",
       "      <th>0</th>\n",
       "      <td>38.59</td>\n",
       "      <td>36.79</td>\n",
       "      <td>44.25</td>\n",
       "    </tr>\n",
       "  </tbody>\n",
       "</table>\n",
       "</div>"
      ],
      "text/plain": [
       "   General Mean  Mean Age Making =<50k  Mean Age Making >50k\n",
       "0         38.59                  36.79                 44.25"
      ]
     },
     "execution_count": 90,
     "metadata": {},
     "output_type": "execute_result"
    }
   ],
   "source": [
    "gen_mean = round(replaced_df[\"age\"].mean(), 2)\n",
    "under_mean = round(under_50k[\"age\"].mean(), 2)\n",
    "over_mean = round(over_50k[\"age\"].mean(), 2)\n",
    "mean_summary = pd.DataFrame({\"General Mean\": [gen_mean],\n",
    "                                \"Mean Age Making =<50k\": [under_mean],\n",
    "                                \"Mean Age Making >50k\": [over_mean]})\n",
    "mean_summary"
   ]
  },
  {
   "cell_type": "code",
   "execution_count": 87,
   "metadata": {},
   "outputs": [
    {
     "data": {
      "text/html": [
       "<div>\n",
       "<style scoped>\n",
       "    .dataframe tbody tr th:only-of-type {\n",
       "        vertical-align: middle;\n",
       "    }\n",
       "\n",
       "    .dataframe tbody tr th {\n",
       "        vertical-align: top;\n",
       "    }\n",
       "\n",
       "    .dataframe thead th {\n",
       "        text-align: right;\n",
       "    }\n",
       "</style>\n",
       "<table border=\"1\" class=\"dataframe\">\n",
       "  <thead>\n",
       "    <tr style=\"text-align: right;\">\n",
       "      <th></th>\n",
       "      <th>General Median</th>\n",
       "      <th>Median Age Making =&lt;50k</th>\n",
       "      <th>Median Age Making &gt;50k</th>\n",
       "    </tr>\n",
       "  </thead>\n",
       "  <tbody>\n",
       "    <tr>\n",
       "      <th>0</th>\n",
       "      <td>37.0</td>\n",
       "      <td>34.0</td>\n",
       "      <td>44.0</td>\n",
       "    </tr>\n",
       "  </tbody>\n",
       "</table>\n",
       "</div>"
      ],
      "text/plain": [
       "   General Median  Median Age Making =<50k  Median Age Making >50k\n",
       "0            37.0                     34.0                    44.0"
      ]
     },
     "execution_count": 87,
     "metadata": {},
     "output_type": "execute_result"
    }
   ],
   "source": [
    "gen_med = replaced_df[\"age\"].median()\n",
    "under_med = under_50k[\"age\"].median()\n",
    "over_med = over_50k[\"age\"].median()\n",
    "median_summary = pd.DataFrame({\"General Median\": [gen_med],\n",
    "                                \"Median Age Making =<50k\": [under_med],\n",
    "                                \"Median Age Making >50k\": [over_med]})\n",
    "median_summary"
   ]
  },
  {
   "cell_type": "code",
   "execution_count": 85,
   "metadata": {},
   "outputs": [
    {
     "data": {
      "text/html": [
       "<div>\n",
       "<style scoped>\n",
       "    .dataframe tbody tr th:only-of-type {\n",
       "        vertical-align: middle;\n",
       "    }\n",
       "\n",
       "    .dataframe tbody tr th {\n",
       "        vertical-align: top;\n",
       "    }\n",
       "\n",
       "    .dataframe thead th {\n",
       "        text-align: right;\n",
       "    }\n",
       "</style>\n",
       "<table border=\"1\" class=\"dataframe\">\n",
       "  <thead>\n",
       "    <tr style=\"text-align: right;\">\n",
       "      <th></th>\n",
       "      <th>General Minimum</th>\n",
       "      <th>Minimum Age Making =&lt;50k</th>\n",
       "      <th>Minimum Age Making &gt;50k</th>\n",
       "    </tr>\n",
       "  </thead>\n",
       "  <tbody>\n",
       "    <tr>\n",
       "      <th>0</th>\n",
       "      <td>17</td>\n",
       "      <td>17</td>\n",
       "      <td>19</td>\n",
       "    </tr>\n",
       "  </tbody>\n",
       "</table>\n",
       "</div>"
      ],
      "text/plain": [
       "   General Minimum  Minimum Age Making =<50k  Minimum Age Making >50k\n",
       "0               17                        17                       19"
      ]
     },
     "execution_count": 85,
     "metadata": {},
     "output_type": "execute_result"
    }
   ],
   "source": [
    "gen_min = replaced_df[\"age\"].min()\n",
    "under_min = under_50k[\"age\"].min()\n",
    "over_min = over_50k[\"age\"].min()\n",
    "minimum_summary = pd.DataFrame({\"General Minimum\": [gen_min],\n",
    "                                \"Minimum Age Making =<50k\": [under_min],\n",
    "                                \"Minimum Age Making >50k\": [over_min]})\n",
    "minimum_summary"
   ]
  },
  {
   "cell_type": "code",
   "execution_count": 82,
   "metadata": {},
   "outputs": [
    {
     "data": {
      "text/html": [
       "<div>\n",
       "<style scoped>\n",
       "    .dataframe tbody tr th:only-of-type {\n",
       "        vertical-align: middle;\n",
       "    }\n",
       "\n",
       "    .dataframe tbody tr th {\n",
       "        vertical-align: top;\n",
       "    }\n",
       "\n",
       "    .dataframe thead th {\n",
       "        text-align: right;\n",
       "    }\n",
       "</style>\n",
       "<table border=\"1\" class=\"dataframe\">\n",
       "  <thead>\n",
       "    <tr style=\"text-align: right;\">\n",
       "      <th></th>\n",
       "      <th>General Maximum</th>\n",
       "      <th>Maximum Age Making =&lt;50k</th>\n",
       "      <th>Maximum Age Making &gt;50k</th>\n",
       "    </tr>\n",
       "  </thead>\n",
       "  <tbody>\n",
       "    <tr>\n",
       "      <th>0</th>\n",
       "      <td>90</td>\n",
       "      <td>90</td>\n",
       "      <td>90</td>\n",
       "    </tr>\n",
       "  </tbody>\n",
       "</table>\n",
       "</div>"
      ],
      "text/plain": [
       "   General Maximum  Maximum Age Making =<50k  Maximum Age Making >50k\n",
       "0               90                        90                       90"
      ]
     },
     "execution_count": 82,
     "metadata": {},
     "output_type": "execute_result"
    }
   ],
   "source": [
    "gen_max = replaced_df[\"age\"].max()\n",
    "under_max = under_50k[\"age\"].max()\n",
    "over_max = over_50k[\"age\"].max()\n",
    "maximum_summary = pd.DataFrame({\"General Maximum\": [gen_max],\n",
    "                                \"Maximum Age Making =<50k\": [under_max],\n",
    "                                \"Maximum Age Making >50k\": [over_max]})\n",
    "maximum_summary"
   ]
  },
  {
   "cell_type": "code",
   "execution_count": 119,
   "metadata": {},
   "outputs": [
    {
     "data": {
      "image/png": "[encoded data removed]",
      "text/plain": [
       "<Figure size 432x288 with 1 Axes>"
      ]
     },
     "metadata": {
      "needs_background": "light"
     },
     "output_type": "display_data"
    }
   ],
   "source": [
    "# Density of age grouped by income\n",
    "replaced_df.groupby(\"income\").age.plot(kind='kde')\n",
    "plt.legend();\n",
    "plt.show()"
   ]
  },
  {
   "cell_type": "code",
   "execution_count": 9,
   "metadata": {},
   "outputs": [],
   "source": [
    "# Create the bins in which age will be held\n",
    "# Bins are 0, 17, 22, 33, 40, 57, 65, 78, 99   \n",
    "bins = [0, 17, 22, 33, 40, 57, 65, 78, 99]\n",
    "\n",
    "# Create the names for the age bins\n",
    "group_labels = [\"< 18\", \"18-22\", \"23-33\", \"34-40\", \"41-57\", \"58-65\", \"66-78\", \"> 78\"]"
   ]
  },
  {
   "cell_type": "code",
   "execution_count": 97,
   "metadata": {},
   "outputs": [
    {
     "data": {
      "text/html": [
       "<div>\n",
       "<style scoped>\n",
       "    .dataframe tbody tr th:only-of-type {\n",
       "        vertical-align: middle;\n",
       "    }\n",
       "\n",
       "    .dataframe tbody tr th {\n",
       "        vertical-align: top;\n",
       "    }\n",
       "\n",
       "    .dataframe thead th {\n",
       "        text-align: right;\n",
       "    }\n",
       "</style>\n",
       "<table border=\"1\" class=\"dataframe\">\n",
       "  <thead>\n",
       "    <tr style=\"text-align: right;\">\n",
       "      <th></th>\n",
       "      <th>age</th>\n",
       "      <th>workclass</th>\n",
       "      <th>fnlwgt</th>\n",
       "      <th>education</th>\n",
       "      <th>education.num</th>\n",
       "      <th>marital.status</th>\n",
       "      <th>occupation</th>\n",
       "      <th>relationship</th>\n",
       "      <th>race</th>\n",
       "      <th>sex</th>\n",
       "      <th>capital.gain</th>\n",
       "      <th>capital.loss</th>\n",
       "      <th>hours.per.week</th>\n",
       "      <th>native.country</th>\n",
       "      <th>income</th>\n",
       "      <th>Age Category</th>\n",
       "      <th>Hours Per Week</th>\n",
       "      <th>Native Region</th>\n",
       "    </tr>\n",
       "  </thead>\n",
       "  <tbody>\n",
       "    <tr>\n",
       "      <th>0</th>\n",
       "      <td>90</td>\n",
       "      <td>Not-Available</td>\n",
       "      <td>77053</td>\n",
       "      <td>HS-grad</td>\n",
       "      <td>9</td>\n",
       "      <td>Widowed</td>\n",
       "      <td>Not-Available</td>\n",
       "      <td>Not-in-family</td>\n",
       "      <td>White</td>\n",
       "      <td>Female</td>\n",
       "      <td>0</td>\n",
       "      <td>4356</td>\n",
       "      <td>40</td>\n",
       "      <td>United-States</td>\n",
       "      <td>&lt;=50K</td>\n",
       "      <td>&gt; 78</td>\n",
       "      <td>40-45 hours</td>\n",
       "      <td>United States</td>\n",
       "    </tr>\n",
       "    <tr>\n",
       "      <th>1</th>\n",
       "      <td>82</td>\n",
       "      <td>Private</td>\n",
       "      <td>132870</td>\n",
       "      <td>HS-grad</td>\n",
       "      <td>9</td>\n",
       "      <td>Widowed</td>\n",
       "      <td>Exec-managerial</td>\n",
       "      <td>Not-in-family</td>\n",
       "      <td>White</td>\n",
       "      <td>Female</td>\n",
       "      <td>0</td>\n",
       "      <td>4356</td>\n",
       "      <td>18</td>\n",
       "      <td>United-States</td>\n",
       "      <td>&lt;=50K</td>\n",
       "      <td>&gt; 78</td>\n",
       "      <td>&lt; 40 hours</td>\n",
       "      <td>United States</td>\n",
       "    </tr>\n",
       "    <tr>\n",
       "      <th>2</th>\n",
       "      <td>66</td>\n",
       "      <td>Not-Available</td>\n",
       "      <td>186061</td>\n",
       "      <td>Some-college</td>\n",
       "      <td>10</td>\n",
       "      <td>Widowed</td>\n",
       "      <td>Not-Available</td>\n",
       "      <td>Unmarried</td>\n",
       "      <td>Black</td>\n",
       "      <td>Female</td>\n",
       "      <td>0</td>\n",
       "      <td>4356</td>\n",
       "      <td>40</td>\n",
       "      <td>United-States</td>\n",
       "      <td>&lt;=50K</td>\n",
       "      <td>66-78</td>\n",
       "      <td>40-45 hours</td>\n",
       "      <td>United States</td>\n",
       "    </tr>\n",
       "    <tr>\n",
       "      <th>3</th>\n",
       "      <td>54</td>\n",
       "      <td>Private</td>\n",
       "      <td>140359</td>\n",
       "      <td>7th-8th</td>\n",
       "      <td>4</td>\n",
       "      <td>Divorced</td>\n",
       "      <td>Machine-op-inspct</td>\n",
       "      <td>Unmarried</td>\n",
       "      <td>White</td>\n",
       "      <td>Female</td>\n",
       "      <td>0</td>\n",
       "      <td>3900</td>\n",
       "      <td>40</td>\n",
       "      <td>United-States</td>\n",
       "      <td>&lt;=50K</td>\n",
       "      <td>41-57</td>\n",
       "      <td>40-45 hours</td>\n",
       "      <td>United States</td>\n",
       "    </tr>\n",
       "    <tr>\n",
       "      <th>4</th>\n",
       "      <td>41</td>\n",
       "      <td>Private</td>\n",
       "      <td>264663</td>\n",
       "      <td>Some-college</td>\n",
       "      <td>10</td>\n",
       "      <td>Separated</td>\n",
       "      <td>Prof-specialty</td>\n",
       "      <td>Own-child</td>\n",
       "      <td>White</td>\n",
       "      <td>Female</td>\n",
       "      <td>0</td>\n",
       "      <td>3900</td>\n",
       "      <td>40</td>\n",
       "      <td>United-States</td>\n",
       "      <td>&lt;=50K</td>\n",
       "      <td>41-57</td>\n",
       "      <td>40-45 hours</td>\n",
       "      <td>United States</td>\n",
       "    </tr>\n",
       "  </tbody>\n",
       "</table>\n",
       "</div>"
      ],
      "text/plain": [
       "   age      workclass  fnlwgt     education  education.num marital.status  \\\n",
       "0   90  Not-Available   77053       HS-grad              9        Widowed   \n",
       "1   82        Private  132870       HS-grad              9        Widowed   \n",
       "2   66  Not-Available  186061  Some-college             10        Widowed   \n",
       "3   54        Private  140359       7th-8th              4       Divorced   \n",
       "4   41        Private  264663  Some-college             10      Separated   \n",
       "\n",
       "          occupation   relationship   race     sex  capital.gain  \\\n",
       "0      Not-Available  Not-in-family  White  Female             0   \n",
       "1    Exec-managerial  Not-in-family  White  Female             0   \n",
       "2      Not-Available      Unmarried  Black  Female             0   \n",
       "3  Machine-op-inspct      Unmarried  White  Female             0   \n",
       "4     Prof-specialty      Own-child  White  Female             0   \n",
       "\n",
       "   capital.loss  hours.per.week native.country income Age Category  \\\n",
       "0          4356              40  United-States  <=50K         > 78   \n",
       "1          4356              18  United-States  <=50K         > 78   \n",
       "2          4356              40  United-States  <=50K        66-78   \n",
       "3          3900              40  United-States  <=50K        41-57   \n",
       "4          3900              40  United-States  <=50K        41-57   \n",
       "\n",
       "  Hours Per Week  Native Region  \n",
       "0    40-45 hours  United States  \n",
       "1     < 40 hours  United States  \n",
       "2    40-45 hours  United States  \n",
       "3    40-45 hours  United States  \n",
       "4    40-45 hours  United States  "
      ]
     },
     "execution_count": 97,
     "metadata": {},
     "output_type": "execute_result"
    }
   ],
   "source": [
    "# Place the data series into a new column inside of the DataFrame\n",
    "replaced_df[\"Age Category\"] = pd.cut(replaced_df[\"age\"], bins, labels=group_labels)\n",
    "replaced_df.head()"
   ]
  },
  {
   "cell_type": "code",
   "execution_count": 227,
   "metadata": {
    "scrolled": false
   },
   "outputs": [
    {
     "data": {
      "text/html": [
       "<div>\n",
       "<style scoped>\n",
       "    .dataframe tbody tr th:only-of-type {\n",
       "        vertical-align: middle;\n",
       "    }\n",
       "\n",
       "    .dataframe tbody tr th {\n",
       "        vertical-align: top;\n",
       "    }\n",
       "\n",
       "    .dataframe thead th {\n",
       "        text-align: right;\n",
       "    }\n",
       "</style>\n",
       "<table border=\"1\" class=\"dataframe\">\n",
       "  <thead>\n",
       "    <tr style=\"text-align: right;\">\n",
       "      <th></th>\n",
       "      <th>Age Category</th>\n",
       "      <th>income</th>\n",
       "      <th>total</th>\n",
       "      <th>Percentage</th>\n",
       "    </tr>\n",
       "  </thead>\n",
       "  <tbody>\n",
       "    <tr>\n",
       "      <th>0</th>\n",
       "      <td>&lt; 18</td>\n",
       "      <td>&lt;=50K</td>\n",
       "      <td>394</td>\n",
       "      <td>100.00</td>\n",
       "    </tr>\n",
       "    <tr>\n",
       "      <th>1</th>\n",
       "      <td>&lt; 18</td>\n",
       "      <td>&gt;50K</td>\n",
       "      <td>0</td>\n",
       "      <td>0.00</td>\n",
       "    </tr>\n",
       "    <tr>\n",
       "      <th>2</th>\n",
       "      <td>18-22</td>\n",
       "      <td>&lt;=50K</td>\n",
       "      <td>3471</td>\n",
       "      <td>99.48</td>\n",
       "    </tr>\n",
       "    <tr>\n",
       "      <th>3</th>\n",
       "      <td>18-22</td>\n",
       "      <td>&gt;50K</td>\n",
       "      <td>18</td>\n",
       "      <td>0.52</td>\n",
       "    </tr>\n",
       "    <tr>\n",
       "      <th>4</th>\n",
       "      <td>23-33</td>\n",
       "      <td>&lt;=50K</td>\n",
       "      <td>8032</td>\n",
       "      <td>86.75</td>\n",
       "    </tr>\n",
       "    <tr>\n",
       "      <th>5</th>\n",
       "      <td>23-33</td>\n",
       "      <td>&gt;50K</td>\n",
       "      <td>1227</td>\n",
       "      <td>13.25</td>\n",
       "    </tr>\n",
       "    <tr>\n",
       "      <th>6</th>\n",
       "      <td>34-40</td>\n",
       "      <td>&lt;=50K</td>\n",
       "      <td>4110</td>\n",
       "      <td>69.05</td>\n",
       "    </tr>\n",
       "    <tr>\n",
       "      <th>7</th>\n",
       "      <td>34-40</td>\n",
       "      <td>&gt;50K</td>\n",
       "      <td>1842</td>\n",
       "      <td>30.95</td>\n",
       "    </tr>\n",
       "    <tr>\n",
       "      <th>8</th>\n",
       "      <td>41-57</td>\n",
       "      <td>&lt;=50K</td>\n",
       "      <td>6227</td>\n",
       "      <td>61.82</td>\n",
       "    </tr>\n",
       "    <tr>\n",
       "      <th>9</th>\n",
       "      <td>41-57</td>\n",
       "      <td>&gt;50K</td>\n",
       "      <td>3845</td>\n",
       "      <td>38.18</td>\n",
       "    </tr>\n",
       "    <tr>\n",
       "      <th>10</th>\n",
       "      <td>58-65</td>\n",
       "      <td>&lt;=50K</td>\n",
       "      <td>1533</td>\n",
       "      <td>69.46</td>\n",
       "    </tr>\n",
       "    <tr>\n",
       "      <th>11</th>\n",
       "      <td>58-65</td>\n",
       "      <td>&gt;50K</td>\n",
       "      <td>674</td>\n",
       "      <td>30.54</td>\n",
       "    </tr>\n",
       "    <tr>\n",
       "      <th>12</th>\n",
       "      <td>66-78</td>\n",
       "      <td>&lt;=50K</td>\n",
       "      <td>807</td>\n",
       "      <td>79.51</td>\n",
       "    </tr>\n",
       "    <tr>\n",
       "      <th>13</th>\n",
       "      <td>66-78</td>\n",
       "      <td>&gt;50K</td>\n",
       "      <td>208</td>\n",
       "      <td>20.49</td>\n",
       "    </tr>\n",
       "    <tr>\n",
       "      <th>14</th>\n",
       "      <td>&gt; 78</td>\n",
       "      <td>&lt;=50K</td>\n",
       "      <td>117</td>\n",
       "      <td>82.39</td>\n",
       "    </tr>\n",
       "    <tr>\n",
       "      <th>15</th>\n",
       "      <td>&gt; 78</td>\n",
       "      <td>&gt;50K</td>\n",
       "      <td>25</td>\n",
       "      <td>17.61</td>\n",
       "    </tr>\n",
       "  </tbody>\n",
       "</table>\n",
       "</div>"
      ],
      "text/plain": [
       "   Age Category income  total  Percentage\n",
       "0          < 18  <=50K    394      100.00\n",
       "1          < 18   >50K      0        0.00\n",
       "2         18-22  <=50K   3471       99.48\n",
       "3         18-22   >50K     18        0.52\n",
       "4         23-33  <=50K   8032       86.75\n",
       "5         23-33   >50K   1227       13.25\n",
       "6         34-40  <=50K   4110       69.05\n",
       "7         34-40   >50K   1842       30.95\n",
       "8         41-57  <=50K   6227       61.82\n",
       "9         41-57   >50K   3845       38.18\n",
       "10        58-65  <=50K   1533       69.46\n",
       "11        58-65   >50K    674       30.54\n",
       "12        66-78  <=50K    807       79.51\n",
       "13        66-78   >50K    208       20.49\n",
       "14         > 78  <=50K    117       82.39\n",
       "15         > 78   >50K     25       17.61"
      ]
     },
     "execution_count": 227,
     "metadata": {},
     "output_type": "execute_result"
    }
   ],
   "source": [
    "# Creating a group based off of the Age Category\n",
    "age_income = replaced_df[[\"Age Category\", \"income\"]]\n",
    "age_income_count = age_income.groupby([\"Age Category\", \"income\"]).agg(total = (\"Age Category\", \"count\"))\n",
    "age_count = age_income.groupby([\"Age Category\"]).agg(total = (\"Age Category\", \"count\"))\n",
    "age_income_count[\"Percentage\"] = round(age_income_count.div(age_count) * 100, 2)\n",
    "age_income_count.reset_index(inplace=True)\n",
    "age_income_count\n",
    "\n"
   ]
  },
  {
   "cell_type": "code",
   "execution_count": 242,
   "metadata": {},
   "outputs": [
    {
     "data": {
      "image/png": "[encoded data removed]",
      "text/plain": [
       "<Figure size 432x288 with 1 Axes>"
      ]
     },
     "metadata": {
      "needs_background": "light"
     },
     "output_type": "display_data"
    }
   ],
   "source": [
    "#Make a line graph with the percentages\n",
    "\n",
    "under_age = age_income_count.loc[age_income_count[\"income\"] == \"<=50K\"]\n",
    "under_plot, = plt.plot(under_age[\"Age Category\"], under_age[\"Percentage\"], color=\"red\", label=\"<=50K\" )\n",
    "\n",
    "over_age = age_income_count.loc[age_income_count[\"income\"] == \">50K\"]\n",
    "over_plot, = plt.plot(over_age[\"Age Category\"], over_age[\"Percentage\"], color=\"blue\", label=\">50K\" )\n",
    "\n",
    "plt.title(\"Income Percentage by Age\")\n",
    "plt.xlabel(\"Age Category\")\n",
    "plt.ylabel(\"Percentage\")\n",
    "plt.legend(handles=[under_plot, over_plot], loc=\"best\")\n",
    "plt.show()\n",
    "\n"
   ]
  },
  {
   "cell_type": "code",
   "execution_count": 124,
   "metadata": {},
   "outputs": [
    {
     "name": "stdout",
     "output_type": "stream",
     "text": [
      "Observation: The age group that is most likely to make more than 50k/year is age 41-57.\n",
      "This is likely because people in this age group have a lot of professional experience and may have received promotions, but most haven't started thinking about retirement yet.\n"
     ]
    }
   ],
   "source": [
    "print(\"Observation: The age group that is most likely to make more than 50k/year is age 41-57.\")\n",
    "print(\"This is likely because people in this age group have a lot of professional experience and may have received promotions, but most haven't started thinking about retirement yet.\")"
   ]
  },
  {
   "cell_type": "markdown",
   "metadata": {},
   "source": [
    "# Gender"
   ]
  },
  {
   "cell_type": "code",
   "execution_count": 104,
   "metadata": {},
   "outputs": [
    {
     "data": {
      "text/plain": [
       "Male      21770\n",
       "Female    10760\n",
       "Name: sex, dtype: int64"
      ]
     },
     "execution_count": 104,
     "metadata": {},
     "output_type": "execute_result"
    }
   ],
   "source": [
    "#Find gender breakdown in our dataset \n",
    "gender_count = replaced_df[\"sex\"].value_counts()\n",
    "gender_count"
   ]
  },
  {
   "cell_type": "code",
   "execution_count": 115,
   "metadata": {},
   "outputs": [
    {
     "data": {
      "image/png": "[encoded data removed]",
      "text/plain": [
       "<Figure size 432x288 with 1 Axes>"
      ]
     },
     "metadata": {},
     "output_type": "display_data"
    }
   ],
   "source": [
    "#Pie chart of gender breakdowm\n",
    "gender_count.plot(kind=\"pie\", autopct=\"%1.1f%%\")\n",
    "plt.title(\"Gender Breakdown\")\n",
    "plt.show()"
   ]
  },
  {
   "cell_type": "code",
   "execution_count": 112,
   "metadata": {},
   "outputs": [
    {
     "data": {
      "image/png": "[encoded data removed]",
      "text/plain": [
       "<Figure size 432x288 with 1 Axes>"
      ]
     },
     "metadata": {},
     "output_type": "display_data"
    }
   ],
   "source": [
    "#Find income breakdown in general \n",
    "income_count = replaced_df[\"income\"].value_counts()\n",
    "income_count.plot(kind=\"pie\", autopct=\"%1.1f%%\")\n",
    "plt.title(\"Income Breakdown\")\n",
    "plt.show()"
   ]
  },
  {
   "cell_type": "code",
   "execution_count": 106,
   "metadata": {},
   "outputs": [
    {
     "data": {
      "image/png": "[encoded data removed]",
      "text/plain": [
       "<Figure size 432x288 with 1 Axes>"
      ]
     },
     "metadata": {},
     "output_type": "display_data"
    }
   ],
   "source": [
    "#Find the income breakdown for males\n",
    "male_data = replaced_df[replaced_df[\"sex\"] == \"Male\"]\n",
    "male_income = male_data[\"income\"].value_counts()\n",
    "male_income.plot(kind=\"pie\", autopct=\"%1.1f%%\")\n",
    "plt.title(\"Income Breakdown for Males\")\n",
    "plt.show()"
   ]
  },
  {
   "cell_type": "code",
   "execution_count": 107,
   "metadata": {
    "scrolled": true
   },
   "outputs": [
    {
     "data": {
      "image/png": "[encoded data removed]",
      "text/plain": [
       "<Figure size 432x288 with 1 Axes>"
      ]
     },
     "metadata": {},
     "output_type": "display_data"
    }
   ],
   "source": [
    "#Find the income breakdown for females\n",
    "female_data = replaced_df[replaced_df[\"sex\"] == \"Female\"]\n",
    "female_income = female_data[\"income\"].value_counts()\n",
    "female_income.plot(kind=\"pie\", autopct=\"%1.1f%%\")\n",
    "plt.title(\"Income Breakdown for Females\")\n",
    "plt.show()\n"
   ]
  },
  {
   "cell_type": "code",
   "execution_count": 114,
   "metadata": {},
   "outputs": [
    {
     "name": "stdout",
     "output_type": "stream",
     "text": [
      "Observation: In our general sample, about 24% of those surveyed made more than 50k per year.\n",
      "30.6% of males in our sample made more than 50k/year, but only 11% of females did.\n"
     ]
    }
   ],
   "source": [
    "print(\"Observation: In our general sample, about 24% of those surveyed made more than 50k per year.\")\n",
    "print(\"30.6% of males in our sample made more than 50k/year, but only 11% of females did.\")"
   ]
  },
  {
   "cell_type": "code",
   "execution_count": null,
   "metadata": {},
   "outputs": [],
   "source": []
  },
  {
   "cell_type": "markdown",
   "metadata": {},
   "source": [
    "## Step 3:  Test multiple hypotheses and provide observations and insights to the following:\n",
    "\n",
    "#### AGE\n",
    "\n",
    "1. The older an individual is, the bigger their chances of having a higher income. And can this be explained by the fact that the older one gets, the more experienced professionally they become and this usually means a higher salary? \n",
    "\n",
    "#### WORK WEEK\n",
    "\n",
    "2.\tDo people who earn more than 50K tend to work for hours than those that earn less than 50K? Do men work more hours per week than women at all ages? At what age does the working hours per week decrease and by how much?\n",
    "\n",
    "#### WORK CLASS\n",
    "\n",
    "3.\tMost people are employed in the private sector. Do people in the private sector earn more than the other work classes?\n"
   ]
  },
  {
   "cell_type": "code",
   "execution_count": null,
   "metadata": {},
   "outputs": [],
   "source": [
    "# #Observation\n",
    "# Next we display the density of age grouped by income. From the plot we see that the majority of people earning more than 50K a year are between 33 and 55 years old, whereas the the greater number of people who earn less than 50K a year are between 18 and 45.\n",
    "# The density plot clearly shows that age and income are correlated – people of greater age have higher income. This can be also seen from the histograms of age by income. SARAH - YOU WILL NEED TO BUILD THIS"
   ]
  },
  {
   "cell_type": "markdown",
   "metadata": {},
   "source": [
    "## Step 4:  Deliver results"
   ]
  },
  {
   "cell_type": "code",
   "execution_count": null,
   "metadata": {},
   "outputs": [],
   "source": []
  }
 ],
 "metadata": {
  "kernelspec": {
   "display_name": "Python 3",
   "language": "python",
   "name": "python3"
  },
  "language_info": {
   "codemirror_mode": {
    "name": "ipython",
    "version": 3
   },
   "file_extension": ".py",
   "mimetype": "text/x-python",
   "name": "python",
   "nbconvert_exporter": "python",
   "pygments_lexer": "ipython3",
   "version": "3.6.10"
  }
 },
 "nbformat": 4,
 "nbformat_minor": 4
}
