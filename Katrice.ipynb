{
 "cells": [
  {
   "cell_type": "code",
   "execution_count": 1,
   "metadata": {},
   "outputs": [],
   "source": [
    "# Dependencies and Setup\n",
    "import matplotlib.pyplot as plt\n",
    "import pandas as pd\n",
    "import scipy.stats as st\n",
    "import numpy as np\n",
    "from scipy.stats import linregress\n",
    "from pandas import DataFrame"
   ]
  },
  {
   "cell_type": "code",
   "execution_count": 2,
   "metadata": {},
   "outputs": [],
   "source": [
    "#locate and read adult census data\n",
    "adult_path= \"adult.csv\"\n",
    "adult = pd.read_csv(adult_path)\n",
    "\n",
    "#display the data table for review\n",
    "#adult"
   ]
  },
  {
   "cell_type": "code",
   "execution_count": 3,
   "metadata": {},
   "outputs": [
    {
     "data": {
      "text/html": [
       "<div>\n",
       "<style scoped>\n",
       "    .dataframe tbody tr th:only-of-type {\n",
       "        vertical-align: middle;\n",
       "    }\n",
       "\n",
       "    .dataframe tbody tr th {\n",
       "        vertical-align: top;\n",
       "    }\n",
       "\n",
       "    .dataframe thead th {\n",
       "        text-align: right;\n",
       "    }\n",
       "</style>\n",
       "<table border=\"1\" class=\"dataframe\">\n",
       "  <thead>\n",
       "    <tr style=\"text-align: right;\">\n",
       "      <th></th>\n",
       "      <th>age</th>\n",
       "      <th>workclass</th>\n",
       "      <th>fnlwgt</th>\n",
       "      <th>education</th>\n",
       "      <th>education.num</th>\n",
       "      <th>marital.status</th>\n",
       "      <th>occupation</th>\n",
       "      <th>relationship</th>\n",
       "      <th>race</th>\n",
       "      <th>sex</th>\n",
       "      <th>capital.gain</th>\n",
       "      <th>capital.loss</th>\n",
       "      <th>hours.per.week</th>\n",
       "      <th>native.country</th>\n",
       "      <th>income</th>\n",
       "    </tr>\n",
       "  </thead>\n",
       "  <tbody>\n",
       "    <tr>\n",
       "      <th>8453</th>\n",
       "      <td>25</td>\n",
       "      <td>Private</td>\n",
       "      <td>308144</td>\n",
       "      <td>Bachelors</td>\n",
       "      <td>13</td>\n",
       "      <td>Never-married</td>\n",
       "      <td>Craft-repair</td>\n",
       "      <td>Not-in-family</td>\n",
       "      <td>White</td>\n",
       "      <td>Male</td>\n",
       "      <td>0</td>\n",
       "      <td>0</td>\n",
       "      <td>40</td>\n",
       "      <td>Mexico</td>\n",
       "      <td>&lt;=50K</td>\n",
       "    </tr>\n",
       "    <tr>\n",
       "      <th>8645</th>\n",
       "      <td>90</td>\n",
       "      <td>Private</td>\n",
       "      <td>52386</td>\n",
       "      <td>Some-college</td>\n",
       "      <td>10</td>\n",
       "      <td>Never-married</td>\n",
       "      <td>Other-service</td>\n",
       "      <td>Not-in-family</td>\n",
       "      <td>Asian-Pac-Islander</td>\n",
       "      <td>Male</td>\n",
       "      <td>0</td>\n",
       "      <td>0</td>\n",
       "      <td>35</td>\n",
       "      <td>United-States</td>\n",
       "      <td>&lt;=50K</td>\n",
       "    </tr>\n",
       "  </tbody>\n",
       "</table>\n",
       "</div>"
      ],
      "text/plain": [
       "      age workclass  fnlwgt     education  education.num marital.status  \\\n",
       "8453   25   Private  308144     Bachelors             13  Never-married   \n",
       "8645   90   Private   52386  Some-college             10  Never-married   \n",
       "\n",
       "         occupation   relationship                race   sex  capital.gain  \\\n",
       "8453   Craft-repair  Not-in-family               White  Male             0   \n",
       "8645  Other-service  Not-in-family  Asian-Pac-Islander  Male             0   \n",
       "\n",
       "      capital.loss  hours.per.week native.country income  \n",
       "8453             0              40         Mexico  <=50K  \n",
       "8645             0              35  United-States  <=50K  "
      ]
     },
     "execution_count": 3,
     "metadata": {},
     "output_type": "execute_result"
    }
   ],
   "source": [
    "# Find all the data for the duplicate rows\n",
    "dupes = adult[adult.duplicated()]\n",
    "dupes.head(2)"
   ]
  },
  {
   "cell_type": "code",
   "execution_count": 4,
   "metadata": {},
   "outputs": [
    {
     "data": {
      "text/plain": [
       "(24, 15)"
      ]
     },
     "execution_count": 4,
     "metadata": {},
     "output_type": "execute_result"
    }
   ],
   "source": [
    "dupes.head(2)\n",
    "#show number of rows\n",
    "dupes.shape"
   ]
  },
  {
   "cell_type": "code",
   "execution_count": 5,
   "metadata": {},
   "outputs": [],
   "source": [
    "# List the index for each duplicated rows\n",
    "list_index = adult[adult.duplicated()].index.tolist()\n",
    "#list_index"
   ]
  },
  {
   "cell_type": "code",
   "execution_count": 6,
   "metadata": {},
   "outputs": [],
   "source": [
    "# Create a clean DataFrame by dropping the duplicate rows \n",
    "clean_df = adult.drop(list_index)\n",
    "#clean_df"
   ]
  },
  {
   "cell_type": "code",
   "execution_count": 7,
   "metadata": {},
   "outputs": [
    {
     "data": {
      "text/plain": [
       "32561"
      ]
     },
     "execution_count": 7,
     "metadata": {},
     "output_type": "execute_result"
    }
   ],
   "source": [
    "#check number of entries\n",
    "adult[\"age\"].count()"
   ]
  },
  {
   "cell_type": "code",
   "execution_count": 8,
   "metadata": {},
   "outputs": [
    {
     "data": {
      "text/plain": [
       "73"
      ]
     },
     "execution_count": 8,
     "metadata": {},
     "output_type": "execute_result"
    }
   ],
   "source": [
    "#check number of adults\n",
    "adult[\"age\"].nunique()"
   ]
  },
  {
   "cell_type": "code",
   "execution_count": 9,
   "metadata": {},
   "outputs": [
    {
     "data": {
      "text/html": [
       "<div>\n",
       "<style scoped>\n",
       "    .dataframe tbody tr th:only-of-type {\n",
       "        vertical-align: middle;\n",
       "    }\n",
       "\n",
       "    .dataframe tbody tr th {\n",
       "        vertical-align: top;\n",
       "    }\n",
       "\n",
       "    .dataframe thead th {\n",
       "        text-align: right;\n",
       "    }\n",
       "</style>\n",
       "<table border=\"1\" class=\"dataframe\">\n",
       "  <thead>\n",
       "    <tr style=\"text-align: right;\">\n",
       "      <th></th>\n",
       "      <th>count</th>\n",
       "    </tr>\n",
       "  </thead>\n",
       "  <tbody>\n",
       "    <tr>\n",
       "      <th>0</th>\n",
       "      <td>42</td>\n",
       "    </tr>\n",
       "  </tbody>\n",
       "</table>\n",
       "</div>"
      ],
      "text/plain": [
       "   count\n",
       "0     42"
      ]
     },
     "execution_count": 9,
     "metadata": {},
     "output_type": "execute_result"
    }
   ],
   "source": [
    "#country counts, all entries\n",
    "#n_c_group = adult.groupby(\"native.country\")\n",
    "n_c_group = len(adult[\"native.country\"].value_counts())\n",
    "n_c_ct = pd.DataFrame([n_c_group], columns = [\"count\"])\n",
    "n_c_ct"
   ]
  },
  {
   "cell_type": "code",
   "execution_count": 10,
   "metadata": {},
   "outputs": [
    {
     "data": {
      "text/html": [
       "<div>\n",
       "<style scoped>\n",
       "    .dataframe tbody tr th:only-of-type {\n",
       "        vertical-align: middle;\n",
       "    }\n",
       "\n",
       "    .dataframe tbody tr th {\n",
       "        vertical-align: top;\n",
       "    }\n",
       "\n",
       "    .dataframe thead th {\n",
       "        text-align: right;\n",
       "    }\n",
       "</style>\n",
       "<table border=\"1\" class=\"dataframe\">\n",
       "  <thead>\n",
       "    <tr style=\"text-align: right;\">\n",
       "      <th></th>\n",
       "      <th>US Count</th>\n",
       "    </tr>\n",
       "  </thead>\n",
       "  <tbody>\n",
       "    <tr>\n",
       "      <th>0</th>\n",
       "      <td>19835</td>\n",
       "    </tr>\n",
       "  </tbody>\n",
       "</table>\n",
       "</div>"
      ],
      "text/plain": [
       "   US Count\n",
       "0     19835"
      ]
     },
     "execution_count": 10,
     "metadata": {},
     "output_type": "execute_result"
    }
   ],
   "source": [
    "#pull out rows for united states only / count\n",
    "nc = adult.loc[adult[\"native.country\"] == \"United-States\",:]\n",
    "#print(nc)\n",
    "us = len(nc[\"fnlwgt\"].value_counts())\n",
    "us_count = pd.DataFrame([us], columns = [\"US Count\"])\n",
    "us_count"
   ]
  },
  {
   "cell_type": "code",
   "execution_count": 11,
   "metadata": {},
   "outputs": [
    {
     "data": {
      "text/html": [
       "<div>\n",
       "<style scoped>\n",
       "    .dataframe tbody tr th:only-of-type {\n",
       "        vertical-align: middle;\n",
       "    }\n",
       "\n",
       "    .dataframe tbody tr th {\n",
       "        vertical-align: top;\n",
       "    }\n",
       "\n",
       "    .dataframe thead th {\n",
       "        text-align: right;\n",
       "    }\n",
       "</style>\n",
       "<table border=\"1\" class=\"dataframe\">\n",
       "  <thead>\n",
       "    <tr style=\"text-align: right;\">\n",
       "      <th></th>\n",
       "      <th>education</th>\n",
       "    </tr>\n",
       "    <tr>\n",
       "      <th>education</th>\n",
       "      <th></th>\n",
       "    </tr>\n",
       "  </thead>\n",
       "  <tbody>\n",
       "    <tr>\n",
       "      <th>10th</th>\n",
       "      <td>933</td>\n",
       "    </tr>\n",
       "    <tr>\n",
       "      <th>11th</th>\n",
       "      <td>1175</td>\n",
       "    </tr>\n",
       "    <tr>\n",
       "      <th>12th</th>\n",
       "      <td>433</td>\n",
       "    </tr>\n",
       "    <tr>\n",
       "      <th>1st-4th</th>\n",
       "      <td>168</td>\n",
       "    </tr>\n",
       "    <tr>\n",
       "      <th>5th-6th</th>\n",
       "      <td>333</td>\n",
       "    </tr>\n",
       "  </tbody>\n",
       "</table>\n",
       "</div>"
      ],
      "text/plain": [
       "           education\n",
       "education           \n",
       "10th             933\n",
       "11th            1175\n",
       "12th             433\n",
       "1st-4th          168\n",
       "5th-6th          333"
      ]
     },
     "execution_count": 11,
     "metadata": {},
     "output_type": "execute_result"
    }
   ],
   "source": [
    "#education\n",
    "education = adult.groupby(\"education\")\n",
    "education_df = pd.DataFrame(education[\"education\"].count())\n",
    "education_df.head()"
   ]
  },
  {
   "cell_type": "code",
   "execution_count": 12,
   "metadata": {},
   "outputs": [],
   "source": [
    "#find then remove all \"?\"\n",
    "garbageout = adult.drop(adult[adult[\"occupation\"] == \"?\"].index)\n",
    "#garbageout"
   ]
  },
  {
   "cell_type": "code",
   "execution_count": 13,
   "metadata": {},
   "outputs": [],
   "source": [
    "#update the dropped df with NA in place of ?\n",
    "cleaned_df = clean_df.replace(to_replace =\"?\", value =\"NA\")\n",
    "#cleaned_df"
   ]
  },
  {
   "cell_type": "code",
   "execution_count": 14,
   "metadata": {},
   "outputs": [],
   "source": [
    "over_50k = garbageout[garbageout[\"income\"] == \">50K\"]"
   ]
  },
  {
   "cell_type": "code",
   "execution_count": 15,
   "metadata": {},
   "outputs": [],
   "source": [
    "under_50k = garbageout[garbageout[\"income\"] == \"<=50K\"]"
   ]
  },
  {
   "cell_type": "code",
   "execution_count": 16,
   "metadata": {},
   "outputs": [],
   "source": [
    "education_over_50k = garbageout[\"education.num\"][garbageout[\"income\"] == \">50K\"]\n",
    "education_under_50k = garbageout[\"education.num\"][garbageout[\"income\"] == \"<=50K\"]\n",
    "ed1 = education_over_50k\n",
    "ed2 = education_under_50k\n",
    "#ed1\n",
    "#ed2"
   ]
  },
  {
   "cell_type": "code",
   "execution_count": 17,
   "metadata": {},
   "outputs": [
    {
     "data": {
      "text/html": [
       "<div>\n",
       "<style scoped>\n",
       "    .dataframe tbody tr th:only-of-type {\n",
       "        vertical-align: middle;\n",
       "    }\n",
       "\n",
       "    .dataframe tbody tr th {\n",
       "        vertical-align: top;\n",
       "    }\n",
       "\n",
       "    .dataframe thead th {\n",
       "        text-align: right;\n",
       "    }\n",
       "</style>\n",
       "<table border=\"1\" class=\"dataframe\">\n",
       "  <thead>\n",
       "    <tr style=\"text-align: right;\">\n",
       "      <th></th>\n",
       "      <th>education</th>\n",
       "    </tr>\n",
       "    <tr>\n",
       "      <th>education</th>\n",
       "      <th></th>\n",
       "    </tr>\n",
       "  </thead>\n",
       "  <tbody>\n",
       "    <tr>\n",
       "      <th>10th</th>\n",
       "      <td>933</td>\n",
       "    </tr>\n",
       "    <tr>\n",
       "      <th>11th</th>\n",
       "      <td>1175</td>\n",
       "    </tr>\n",
       "    <tr>\n",
       "      <th>12th</th>\n",
       "      <td>433</td>\n",
       "    </tr>\n",
       "    <tr>\n",
       "      <th>1st-4th</th>\n",
       "      <td>168</td>\n",
       "    </tr>\n",
       "    <tr>\n",
       "      <th>5th-6th</th>\n",
       "      <td>333</td>\n",
       "    </tr>\n",
       "  </tbody>\n",
       "</table>\n",
       "</div>"
      ],
      "text/plain": [
       "           education\n",
       "education           \n",
       "10th             933\n",
       "11th            1175\n",
       "12th             433\n",
       "1st-4th          168\n",
       "5th-6th          333"
      ]
     },
     "execution_count": 17,
     "metadata": {},
     "output_type": "execute_result"
    }
   ],
   "source": [
    "#education\n",
    "education = adult.groupby(\"education\")\n",
    "education_df = pd.DataFrame(education[\"education\"].count())\n",
    "education_df.head()"
   ]
  },
  {
   "cell_type": "code",
   "execution_count": 18,
   "metadata": {},
   "outputs": [],
   "source": [
    "#hours worked by gender\n",
    "fhrs = garbageout[\"hours.per.week\"][garbageout[\"sex\"] == \"Female\"]\n",
    "fhrs.tail()\n",
    "mhrs = garbageout[\"hours.per.week\"][garbageout[\"sex\"] == \"Male\"]\n",
    "mhrs\n",
    "tothrs = (fhrs, mhrs)\n",
    "#tothrs"
   ]
  },
  {
   "cell_type": "code",
   "execution_count": 19,
   "metadata": {},
   "outputs": [
    {
     "data": {
      "image/png": "[encoded data removed]",
      "text/plain": [
       "<Figure size 432x288 with 1 Axes>"
      ]
     },
     "metadata": {
      "needs_background": "light"
     },
     "output_type": "display_data"
    }
   ],
   "source": [
    "#box plot hours worked per week by gender\n",
    "graph = [fhrs, mhrs]\n",
    "labels = [\"Female\", \"male\"]\n",
    "fig1, ax1 = plt.subplots()\n",
    "ax1.set_title(\"Hours Worked Per Week by Gender\")\n",
    "ax1.set_ylabel(\"Hours Worked\")\n",
    "ax1.boxplot(graph, labels=labels)\n",
    "plt.show()"
   ]
  },
  {
   "cell_type": "code",
   "execution_count": 20,
   "metadata": {},
   "outputs": [
    {
     "data": {
      "text/plain": [
       "1        18\n",
       "3        40\n",
       "4        40\n",
       "5        45\n",
       "6        40\n",
       "         ..\n",
       "32554    11\n",
       "32556    40\n",
       "32557    38\n",
       "32559    40\n",
       "32560    20\n",
       "Name: hours.per.week, Length: 23068, dtype: int64"
      ]
     },
     "execution_count": 20,
     "metadata": {},
     "output_type": "execute_result"
    }
   ],
   "source": [
    "#do those that earn >50K work more hours per week\n",
    "hours1 = garbageout[\"hours.per.week\"][garbageout[\"income\"] == \">50K\"]\n",
    "#hours1\n",
    "hours2 = garbageout[\"hours.per.week\"][garbageout[\"income\"] == \"<=50K\"]\n",
    "hours2"
   ]
  },
  {
   "cell_type": "code",
   "execution_count": 21,
   "metadata": {},
   "outputs": [
    {
     "data": {
      "image/png": "[encoded data removed]",
      "text/plain": [
       "<Figure size 432x288 with 1 Axes>"
      ]
     },
     "metadata": {
      "needs_background": "light"
     },
     "output_type": "display_data"
    }
   ],
   "source": [
    "#box plot hours worked per week vs income\n",
    "graph = [hours1, hours2]\n",
    "labels = [\">50K\", \"<=50K\"]\n",
    "fig1, ax1 = plt.subplots()\n",
    "ax1.set_title(\"Hours Worked vs Income\")\n",
    "ax1.set_ylabel(\"Hours Worked\")\n",
    "ax1.boxplot(graph, labels=labels)\n",
    "plt.show()"
   ]
  },
  {
   "cell_type": "code",
   "execution_count": 22,
   "metadata": {},
   "outputs": [],
   "source": [
    "#age vs hours per week\n",
    "#group age in bins of 10 years\n",
    "age_bins = [0,17, 37, 58,79,89,91]\n",
    "#group_names = [\"<17\", \"17-32\", \"33-49\", \"50-65\", \"66-82\", \"83+\"]\n",
    "group_names = [\"<17\", \"17-32\", \"33-49\", \"50-65\", \"66-81\", \"82,90\"]\n",
    "#dataframe for age and hours per week\n",
    "agehrs = pd.cut(cleaned_df[\"age\"], age_bins, labels = group_names)\n",
    "#agehrs\n",
    "agehrs = pd.DataFrame(agehrs)\n",
    "agehrs = agehrs.rename(columns = {\"age\": \"Age Demographic\"})\n",
    "agehrs \n",
    "xagehrs = agehrs.merge(cleaned_df,left_index = True, right_index = True)\n",
    "#xagehrs"
   ]
  },
  {
   "cell_type": "code",
   "execution_count": 23,
   "metadata": {},
   "outputs": [
    {
     "data": {
      "image/png": "[encoded data removed]",
      "text/plain": [
       "<Figure size 432x288 with 1 Axes>"
      ]
     },
     "metadata": {
      "needs_background": "light"
     },
     "output_type": "display_data"
    }
   ],
   "source": [
    "# barplot with age demo and hours worked\n",
    "aveage = xagehrs.groupby(\"Age Demographic\").mean()[\"hours.per.week\"]\n",
    "aveage\n",
    "aveage.plot.barh()\n",
    "plt.xlabel(\"Average Income\")\n",
    "plt.ylabel(\"Age Ranges\")\n",
    "plt.title(\"Age Demographic / Average Hours Per Week\")\n",
    "plt.show()"
   ]
  },
  {
   "cell_type": "code",
   "execution_count": 24,
   "metadata": {},
   "outputs": [
    {
     "data": {
      "text/html": [
       "<div>\n",
       "<style scoped>\n",
       "    .dataframe tbody tr th:only-of-type {\n",
       "        vertical-align: middle;\n",
       "    }\n",
       "\n",
       "    .dataframe tbody tr th {\n",
       "        vertical-align: top;\n",
       "    }\n",
       "\n",
       "    .dataframe thead th {\n",
       "        text-align: right;\n",
       "    }\n",
       "</style>\n",
       "<table border=\"1\" class=\"dataframe\">\n",
       "  <thead>\n",
       "    <tr style=\"text-align: right;\">\n",
       "      <th></th>\n",
       "      <th>workclass</th>\n",
       "      <th>income</th>\n",
       "      <th>sex</th>\n",
       "    </tr>\n",
       "  </thead>\n",
       "  <tbody>\n",
       "    <tr>\n",
       "      <th>0</th>\n",
       "      <td>Federal-gov</td>\n",
       "      <td>&lt;=50K</td>\n",
       "      <td>589</td>\n",
       "    </tr>\n",
       "    <tr>\n",
       "      <th>1</th>\n",
       "      <td>Federal-gov</td>\n",
       "      <td>&gt;50K</td>\n",
       "      <td>371</td>\n",
       "    </tr>\n",
       "    <tr>\n",
       "      <th>2</th>\n",
       "      <td>Local-gov</td>\n",
       "      <td>&lt;=50K</td>\n",
       "      <td>1476</td>\n",
       "    </tr>\n",
       "    <tr>\n",
       "      <th>3</th>\n",
       "      <td>Local-gov</td>\n",
       "      <td>&gt;50K</td>\n",
       "      <td>617</td>\n",
       "    </tr>\n",
       "    <tr>\n",
       "      <th>4</th>\n",
       "      <td>NA</td>\n",
       "      <td>&lt;=50K</td>\n",
       "      <td>1645</td>\n",
       "    </tr>\n",
       "    <tr>\n",
       "      <th>5</th>\n",
       "      <td>NA</td>\n",
       "      <td>&gt;50K</td>\n",
       "      <td>191</td>\n",
       "    </tr>\n",
       "    <tr>\n",
       "      <th>6</th>\n",
       "      <td>Never-worked</td>\n",
       "      <td>&lt;=50K</td>\n",
       "      <td>7</td>\n",
       "    </tr>\n",
       "    <tr>\n",
       "      <th>7</th>\n",
       "      <td>Private</td>\n",
       "      <td>&lt;=50K</td>\n",
       "      <td>17712</td>\n",
       "    </tr>\n",
       "    <tr>\n",
       "      <th>8</th>\n",
       "      <td>Private</td>\n",
       "      <td>&gt;50K</td>\n",
       "      <td>4961</td>\n",
       "    </tr>\n",
       "    <tr>\n",
       "      <th>9</th>\n",
       "      <td>Self-emp-inc</td>\n",
       "      <td>&lt;=50K</td>\n",
       "      <td>494</td>\n",
       "    </tr>\n",
       "    <tr>\n",
       "      <th>10</th>\n",
       "      <td>Self-emp-inc</td>\n",
       "      <td>&gt;50K</td>\n",
       "      <td>622</td>\n",
       "    </tr>\n",
       "    <tr>\n",
       "      <th>11</th>\n",
       "      <td>Self-emp-not-inc</td>\n",
       "      <td>&lt;=50K</td>\n",
       "      <td>1816</td>\n",
       "    </tr>\n",
       "    <tr>\n",
       "      <th>12</th>\n",
       "      <td>Self-emp-not-inc</td>\n",
       "      <td>&gt;50K</td>\n",
       "      <td>724</td>\n",
       "    </tr>\n",
       "    <tr>\n",
       "      <th>13</th>\n",
       "      <td>State-gov</td>\n",
       "      <td>&lt;=50K</td>\n",
       "      <td>945</td>\n",
       "    </tr>\n",
       "    <tr>\n",
       "      <th>14</th>\n",
       "      <td>State-gov</td>\n",
       "      <td>&gt;50K</td>\n",
       "      <td>353</td>\n",
       "    </tr>\n",
       "    <tr>\n",
       "      <th>15</th>\n",
       "      <td>Without-pay</td>\n",
       "      <td>&lt;=50K</td>\n",
       "      <td>14</td>\n",
       "    </tr>\n",
       "  </tbody>\n",
       "</table>\n",
       "</div>"
      ],
      "text/plain": [
       "           workclass income    sex\n",
       "0        Federal-gov  <=50K    589\n",
       "1        Federal-gov   >50K    371\n",
       "2          Local-gov  <=50K   1476\n",
       "3          Local-gov   >50K    617\n",
       "4                 NA  <=50K   1645\n",
       "5                 NA   >50K    191\n",
       "6       Never-worked  <=50K      7\n",
       "7            Private  <=50K  17712\n",
       "8            Private   >50K   4961\n",
       "9       Self-emp-inc  <=50K    494\n",
       "10      Self-emp-inc   >50K    622\n",
       "11  Self-emp-not-inc  <=50K   1816\n",
       "12  Self-emp-not-inc   >50K    724\n",
       "13         State-gov  <=50K    945\n",
       "14         State-gov   >50K    353\n",
       "15       Without-pay  <=50K     14"
      ]
     },
     "execution_count": 24,
     "metadata": {},
     "output_type": "execute_result"
    }
   ],
   "source": [
    "#private sector vs other work classes\n",
    "work = xagehrs.groupby(['workclass', 'income']).count()[\"sex\"]\n",
    "bar_income= work.reset_index()\n",
    "bar_income\n",
    "\n",
    "#does private earn more"
   ]
  },
  {
   "cell_type": "code",
   "execution_count": 25,
   "metadata": {},
   "outputs": [
    {
     "data": {
      "image/png": "[encoded data removed]",
      "text/plain": [
       "<Figure size 432x288 with 1 Axes>"
      ]
     },
     "metadata": {
      "needs_background": "light"
     },
     "output_type": "display_data"
    }
   ],
   "source": [
    "#bar chart >50K\n",
    "high_income = bar_income[bar_income['income'] == '>50K']\n",
    "plt.barh(high_income['workclass'], high_income['sex'])\n",
    "plt.xlabel(\"Income\")\n",
    "plt.ylabel(\"Workclass\")\n",
    "plt.title(\"Workclass / >50K\")\n",
    "plt.show()\n",
    "plt.show()"
   ]
  },
  {
   "cell_type": "code",
   "execution_count": 26,
   "metadata": {},
   "outputs": [
    {
     "data": {
      "image/png": "[encoded data removed]",
      "text/plain": [
       "<Figure size 432x288 with 1 Axes>"
      ]
     },
     "metadata": {
      "needs_background": "light"
     },
     "output_type": "display_data"
    }
   ],
   "source": [
    "#bar chart <=50K\n",
    "low_income = bar_income[bar_income['income'] == '<=50K']\n",
    "plt.barh(low_income['workclass'], low_income['sex'])\n",
    "plt.xlabel(\"Income\")\n",
    "plt.ylabel(\"Workclass\")\n",
    "plt.title(\"Workclass / <=50K\")\n",
    "plt.show()"
   ]
  },
  {
   "cell_type": "code",
   "execution_count": 30,
   "metadata": {},
   "outputs": [
    {
     "data": {
      "image/png": "[encoded data removed]",
      "text/plain": [
       "<Figure size 432x288 with 1 Axes>"
      ]
     },
     "metadata": {
      "needs_background": "light"
     },
     "output_type": "display_data"
    }
   ],
   "source": [
    "#box plot workclass: The 2 outliers are both \"Private\"\n",
    "graph = [wklow, wkhigh]\n",
    "labels = [\">50K\", \"<=50K\"]\n",
    "fig1, ax1 = plt.subplots()\n",
    "ax1.set_title(\"Income by Category\")\n",
    "ax1.set_ylabel(\"Total Income\")\n",
    "ax1.boxplot(graph, labels=labels)\n",
    "plt.show()"
   ]
  },
  {
   "cell_type": "code",
   "execution_count": 28,
   "metadata": {},
   "outputs": [
    {
     "data": {
      "text/plain": [
       "Private             4961\n",
       "Self-emp-not-inc     724\n",
       "Self-emp-inc         622\n",
       "Local-gov            617\n",
       "Federal-gov          371\n",
       "State-gov            353\n",
       "NA                   191\n",
       "Name: workclass, dtype: int64"
      ]
     },
     "execution_count": 28,
     "metadata": {},
     "output_type": "execute_result"
    }
   ],
   "source": [
    "#show income for each workclass. wklow(<=50k @ 50K each) - wkhigh(>50k @ 51K each)\n",
    "wkhigh = cleaned_df[\"workclass\"][cleaned_df[\"income\"] == \">50K\"].value_counts()\n",
    "wkhigh"
   ]
  },
  {
   "cell_type": "code",
   "execution_count": 29,
   "metadata": {},
   "outputs": [
    {
     "data": {
      "text/plain": [
       "Private             17712\n",
       "Self-emp-not-inc     1816\n",
       "NA                   1645\n",
       "Local-gov            1476\n",
       "State-gov             945\n",
       "Federal-gov           589\n",
       "Self-emp-inc          494\n",
       "Without-pay            14\n",
       "Never-worked            7\n",
       "Name: workclass, dtype: int64"
      ]
     },
     "execution_count": 29,
     "metadata": {},
     "output_type": "execute_result"
    }
   ],
   "source": [
    "wklow = cleaned_df[\"workclass\"][cleaned_df[\"income\"] == \"<=50K\"].value_counts()\n",
    "wklow"
   ]
  },
  {
   "cell_type": "code",
   "execution_count": 31,
   "metadata": {},
   "outputs": [
    {
     "name": "stdout",
     "output_type": "stream",
     "text": [
      "253011000\n",
      "137037000\n"
     ]
    }
   ],
   "source": [
    "#Income >50K: total all private vs all other combined\n",
    "privatehigh = 4961 * 51000\n",
    "print(privatehigh)\n",
    "otherhigh = 2687 * 51000\n",
    "print(otherhigh)"
   ]
  },
  {
   "cell_type": "code",
   "execution_count": 32,
   "metadata": {},
   "outputs": [
    {
     "name": "stdout",
     "output_type": "stream",
     "text": [
      "885600000\n",
      "267100000\n"
     ]
    }
   ],
   "source": [
    "#Income <=50K: total all private vs all other combined\n",
    "privatelow = 17712 * 50000\n",
    "print(privatelow)\n",
    "otherlow = 5342 * 50000\n",
    "print(otherlow)\n"
   ]
  },
  {
   "cell_type": "code",
   "execution_count": 33,
   "metadata": {},
   "outputs": [
    {
     "name": "stdout",
     "output_type": "stream",
     "text": [
      "\n",
      "    WORKCLASS INCOME SUMMARY\n",
      " Private vs All OTHER BY pay scale\n",
      "-------------------------------------------\n",
      "   * <=50k @ 50K per adult\n",
      "-------------------------------------------\n",
      "PRIVATE\n",
      "885600000\n",
      "All OTHER\n",
      "267100000\n",
      "-------------------------------------------\n",
      "\n",
      "   * >50k @ 51K per adult\n",
      "-------------------------------------------\n",
      "PRIVATE\n",
      "253011000\n",
      "ALL OTHER\n",
      "137037000\n"
     ]
    }
   ],
   "source": [
    "print(\"\")\n",
    "print(\"    WORKCLASS INCOME SUMMARY\")\n",
    "print(\" Private vs All OTHER BY pay scale\")\n",
    "print(\"-------------------------------------------\")\n",
    "print(\"   * <=50k @ 50K per adult\")\n",
    "print(\"-------------------------------------------\")\n",
    "print(\"PRIVATE\")\n",
    "print(privatelow)\n",
    "print(\"All OTHER\")\n",
    "print(otherlow)\n",
    "print(\"-------------------------------------------\")\n",
    "print(\"\")\n",
    "print(\"   * >50k @ 51K per adult\")\n",
    "print(\"-------------------------------------------\")\n",
    "print(\"PRIVATE\")\n",
    "print(privatehigh)\n",
    "print(\"ALL OTHER\")\n",
    "print(otherhigh)"
   ]
  },
  {
   "cell_type": "code",
   "execution_count": 34,
   "metadata": {},
   "outputs": [
    {
     "data": {
      "text/html": [
       "<div>\n",
       "<style scoped>\n",
       "    .dataframe tbody tr th:only-of-type {\n",
       "        vertical-align: middle;\n",
       "    }\n",
       "\n",
       "    .dataframe tbody tr th {\n",
       "        vertical-align: top;\n",
       "    }\n",
       "\n",
       "    .dataframe thead th {\n",
       "        text-align: right;\n",
       "    }\n",
       "</style>\n",
       "<table border=\"1\" class=\"dataframe\">\n",
       "  <thead>\n",
       "    <tr style=\"text-align: right;\">\n",
       "      <th></th>\n",
       "      <th>&gt;50k</th>\n",
       "      <th>&lt;=50k</th>\n",
       "    </tr>\n",
       "  </thead>\n",
       "  <tbody>\n",
       "    <tr>\n",
       "      <th>Federal-gov</th>\n",
       "      <td>371.0</td>\n",
       "      <td>589</td>\n",
       "    </tr>\n",
       "    <tr>\n",
       "      <th>Local-gov</th>\n",
       "      <td>617.0</td>\n",
       "      <td>1476</td>\n",
       "    </tr>\n",
       "    <tr>\n",
       "      <th>NA</th>\n",
       "      <td>191.0</td>\n",
       "      <td>1645</td>\n",
       "    </tr>\n",
       "    <tr>\n",
       "      <th>Never-worked</th>\n",
       "      <td>NaN</td>\n",
       "      <td>7</td>\n",
       "    </tr>\n",
       "    <tr>\n",
       "      <th>Private</th>\n",
       "      <td>4961.0</td>\n",
       "      <td>17712</td>\n",
       "    </tr>\n",
       "    <tr>\n",
       "      <th>Self-emp-inc</th>\n",
       "      <td>622.0</td>\n",
       "      <td>494</td>\n",
       "    </tr>\n",
       "    <tr>\n",
       "      <th>Self-emp-not-inc</th>\n",
       "      <td>724.0</td>\n",
       "      <td>1816</td>\n",
       "    </tr>\n",
       "    <tr>\n",
       "      <th>State-gov</th>\n",
       "      <td>353.0</td>\n",
       "      <td>945</td>\n",
       "    </tr>\n",
       "    <tr>\n",
       "      <th>Without-pay</th>\n",
       "      <td>NaN</td>\n",
       "      <td>14</td>\n",
       "    </tr>\n",
       "  </tbody>\n",
       "</table>\n",
       "</div>"
      ],
      "text/plain": [
       "                    >50k  <=50k\n",
       "Federal-gov        371.0    589\n",
       "Local-gov          617.0   1476\n",
       "NA                 191.0   1645\n",
       "Never-worked         NaN      7\n",
       "Private           4961.0  17712\n",
       "Self-emp-inc       622.0    494\n",
       "Self-emp-not-inc   724.0   1816\n",
       "State-gov          353.0    945\n",
       "Without-pay          NaN     14"
      ]
     },
     "execution_count": 34,
     "metadata": {},
     "output_type": "execute_result"
    }
   ],
   "source": [
    "#join and create one income dataframe with low and high categories\n",
    "incomejoin_df = pd.concat([wkhigh, wklow], axis = 1, sort = True, keys = [\">50k\", \"<=50k\"])\n",
    "incomejoin_df"
   ]
  },
  {
   "cell_type": "code",
   "execution_count": null,
   "metadata": {},
   "outputs": [],
   "source": [
    "#bar plot incomejoin_df\n",
    "incomejoin_df.plot.barh()\n",
    "plt.xlabel(\"Income\")\n",
    "plt.ylabel(\"Workclass\")\n",
    "plt.title(\"Private Income / ALL Other\")\n",
    "plt.show()"
   ]
  }
 ],
 "metadata": {
  "kernelspec": {
   "display_name": "Python 3",
   "language": "python",
   "name": "python3"
  },
  "language_info": {
   "codemirror_mode": {
    "name": "ipython",
    "version": 3
   },
   "file_extension": ".py",
   "mimetype": "text/x-python",
   "name": "python",
   "nbconvert_exporter": "python",
   "pygments_lexer": "ipython3",
   "version": "3.6.10"
  }
 },
 "nbformat": 4,
 "nbformat_minor": 4
}
