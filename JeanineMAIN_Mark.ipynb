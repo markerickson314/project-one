{
 "cells": [
  {
   "cell_type": "markdown",
   "metadata": {},
   "source": [
    "# Team 12 - Project One - Census Data\n",
    "\n",
    "Our goal is to conduct predictive analysis and determine if the income of a random adult American citizen is based on given features, such as age, education, occupation, gender, race, work week, native region, family status, etc. We want to predict when a person will earn more than or less than 50,0000 dollars a year."
   ]
  },
  {
   "cell_type": "markdown",
   "metadata": {},
   "source": [
    "## Step 1:  Clean and transform the input dataset"
   ]
  },
  {
   "cell_type": "code",
   "execution_count": null,
   "metadata": {},
   "outputs": [],
   "source": [
    "# Dependencies and Setup\n",
    "import pandas as pd\n",
    "import matplotlib.pyplot as plt\n",
    "import numpy as np\n",
    "import scipy.stats as sts\n",
    "\n",
    "# Read the dataset\n",
    "input_csv = pd.read_csv(\"adult.csv\", delimiter=',', skipinitialspace=True)\n",
    "input_csv.shape"
   ]
  },
  {
   "cell_type": "code",
   "execution_count": null,
   "metadata": {},
   "outputs": [],
   "source": [
    "# Display the input data for preview\n",
    "input_csv"
   ]
  },
  {
   "cell_type": "code",
   "execution_count": null,
   "metadata": {},
   "outputs": [],
   "source": [
    "# Check the number of unique records using groupby\n",
    "csv_group = input_csv.groupby([\"age\", \"workclass\", \"fnlwgt\",\n",
    "                               \"education\",\"education.num\",\"marital.status\", \n",
    "                               \"occupation\",\"relationship\",\"race\",\n",
    "                               \"sex\", \"capital.gain\",\"capital.loss\",\n",
    "                               \"hours.per.week\",\"native.country\",\"income\"])\n",
    "len(csv_group)"
   ]
  },
  {
   "cell_type": "code",
   "execution_count": null,
   "metadata": {},
   "outputs": [],
   "source": [
    "# Get all the data for the duplicate rows\n",
    "duplicateRow = input_csv[input_csv.duplicated()]\n",
    "duplicateRow"
   ]
  },
  {
   "cell_type": "code",
   "execution_count": null,
   "metadata": {},
   "outputs": [],
   "source": [
    "# Overview of the duplicate data\n",
    "duplicateRow.shape"
   ]
  },
  {
   "cell_type": "code",
   "execution_count": null,
   "metadata": {},
   "outputs": [],
   "source": [
    "# List the index for each duplicated rows\n",
    "list_index = input_csv[input_csv.duplicated()].index.tolist()\n",
    "list_index"
   ]
  },
  {
   "cell_type": "code",
   "execution_count": null,
   "metadata": {},
   "outputs": [],
   "source": [
    "# Create a clean DataFrame by dropping the duplicate rows by its index\n",
    "dropped_df = input_csv.drop(list_index)\n",
    "dropped_df"
   ]
  },
  {
   "cell_type": "code",
   "execution_count": null,
   "metadata": {},
   "outputs": [],
   "source": [
    "# Overview of the data after dropping duplicates\n",
    "dropped_df.shape"
   ]
  },
  {
   "cell_type": "markdown",
   "metadata": {},
   "source": [
    "## Work Class\n",
    "\n",
    "Drop the never-worked from the dataset"
   ]
  },
  {
   "cell_type": "code",
   "execution_count": null,
   "metadata": {},
   "outputs": [],
   "source": [
    "# Overview of workclass\n",
    "dropped_df[\"workclass\"].value_counts()"
   ]
  },
  {
   "cell_type": "code",
   "execution_count": null,
   "metadata": {},
   "outputs": [],
   "source": [
    "# Dropping the never-worked from the dataset\n",
    "never_worked = dropped_df[dropped_df[\"workclass\"] == \"Never-worked\"]\n",
    "never_worked.shape"
   ]
  },
  {
   "cell_type": "code",
   "execution_count": null,
   "metadata": {},
   "outputs": [],
   "source": [
    "# View the never-worked data\n",
    "never_worked"
   ]
  },
  {
   "cell_type": "code",
   "execution_count": null,
   "metadata": {},
   "outputs": [],
   "source": [
    "# List the index for each never-worked\n",
    "list_index2 = dropped_df[dropped_df[\"workclass\"] == \"Never-worked\"].index.tolist()\n",
    "list_index2"
   ]
  },
  {
   "cell_type": "code",
   "execution_count": null,
   "metadata": {},
   "outputs": [],
   "source": [
    "# Create a clean DataFrame by dropping the never-worked rows by its index\n",
    "dropped_df2 = dropped_df.drop(list_index2)\n",
    "dropped_df2"
   ]
  },
  {
   "cell_type": "markdown",
   "metadata": {},
   "source": [
    "### Replacing missing values with NA\n",
    "\n",
    "* Some of the variables have a value of \"?“\n",
    "* According to the documentation provided for the census dataset, the values marked with ”?\" are missing values"
   ]
  },
  {
   "cell_type": "code",
   "execution_count": null,
   "metadata": {},
   "outputs": [],
   "source": [
    "# Replacing missing data with NA\n",
    "replaced_df = dropped_df2.replace(to_replace =\"?\", \n",
    "                                 value =\"Not-Available\") "
   ]
  },
  {
   "cell_type": "code",
   "execution_count": null,
   "metadata": {},
   "outputs": [],
   "source": [
    "# Preview clean dataset\n",
    "replaced_df"
   ]
  },
  {
   "cell_type": "markdown",
   "metadata": {},
   "source": [
    "## Income\n",
    "Income is the response variable, also called dependent variable "
   ]
  },
  {
   "cell_type": "code",
   "execution_count": null,
   "metadata": {},
   "outputs": [],
   "source": [
    "# Overview of income\n",
    "replaced_df[\"income\"].value_counts()"
   ]
  },
  {
   "cell_type": "markdown",
   "metadata": {},
   "source": [
    "## Age"
   ]
  },
  {
   "cell_type": "code",
   "execution_count": null,
   "metadata": {},
   "outputs": [],
   "source": [
    "# Overview of age\n",
    "replaced_df[\"age\"].value_counts()"
   ]
  },
  {
   "cell_type": "code",
   "execution_count": null,
   "metadata": {},
   "outputs": [],
   "source": [
    "replaced_df[\"age\"].min()"
   ]
  },
  {
   "cell_type": "code",
   "execution_count": null,
   "metadata": {},
   "outputs": [],
   "source": [
    "replaced_df[\"age\"].max()"
   ]
  },
  {
   "cell_type": "code",
   "execution_count": null,
   "metadata": {},
   "outputs": [],
   "source": [
    "replaced_df[\"age\"].median()"
   ]
  },
  {
   "cell_type": "code",
   "execution_count": null,
   "metadata": {},
   "outputs": [],
   "source": [
    "# Look at age data set and compute quantiles\n",
    "age = replaced_df[\"age\"]\n",
    "\n",
    "fig1, ax1 = plt.subplots()\n",
    "ax1.set_title('Box Plot of Age')\n",
    "ax1.set_ylabel('Age')\n",
    "ax1.boxplot(age)\n",
    "plt.show()"
   ]
  },
  {
   "cell_type": "code",
   "execution_count": null,
   "metadata": {},
   "outputs": [],
   "source": [
    "# Get quartile calculations\n",
    "quartiles = age.quantile([.25,.5,.75])\n",
    "lowerq = quartiles[0.25]\n",
    "upperq = quartiles[0.75]\n",
    "iqr = upperq-lowerq\n",
    "\n",
    "print(f\"The lower quartile of age is: {lowerq}\")\n",
    "print(f\"The upper quartile of age is: {upperq}\")\n",
    "print(f\"The interquartile range of age is: {iqr}\")\n",
    "print(f\"The the median of age is: {quartiles[0.5]} \")\n",
    "\n",
    "lower_bound = lowerq - (1.5*iqr)\n",
    "upper_bound = upperq + (1.5*iqr)\n",
    "print(f\"Values below {lower_bound} could be outliers.\")\n",
    "print(f\"Values above {upper_bound} could be outliers.\")"
   ]
  },
  {
   "cell_type": "code",
   "execution_count": null,
   "metadata": {},
   "outputs": [],
   "source": [
    "# Create the bins in which age will be held\n",
    "# Bins are 0, 17, 22, 33, 40, 57, 65, 78, 99   \n",
    "bins = [0, 17, 22, 33, 40, 57, 65, 78, 99]\n",
    "\n",
    "# Create the names for the age bins\n",
    "group_labels = [\"< 18\", \"18-22\", \"23-33\", \"34-40\", \"41-57\", \"58-65\", \"66-78\", \"> 78\"]"
   ]
  },
  {
   "cell_type": "code",
   "execution_count": null,
   "metadata": {},
   "outputs": [],
   "source": [
    "# Place the data series into a new column inside of the DataFrame\n",
    "replaced_df[\"Age Category\"] = pd.cut(replaced_df[\"age\"], bins, labels=group_labels)"
   ]
  },
  {
   "cell_type": "code",
   "execution_count": null,
   "metadata": {},
   "outputs": [],
   "source": [
    "# Preview the dataset with the Age Category\n",
    "replaced_df"
   ]
  },
  {
   "cell_type": "code",
   "execution_count": null,
   "metadata": {},
   "outputs": [],
   "source": [
    "# Creating a group based off of the Age Category\n",
    "age_group = replaced_df.groupby(\"Age Category\")\n",
    "age_group[[\"age\", \"education.num\", \"capital.gain\", \"capital.loss\",\n",
    "                       \"hours.per.week\"]].mean()"
   ]
  },
  {
   "cell_type": "code",
   "execution_count": null,
   "metadata": {},
   "outputs": [],
   "source": [
    "# Age Category count\n",
    "age_group[[\"age\",]].count()"
   ]
  },
  {
   "cell_type": "markdown",
   "metadata": {},
   "source": [
    "## Work Class"
   ]
  },
  {
   "cell_type": "code",
   "execution_count": null,
   "metadata": {},
   "outputs": [],
   "source": [
    "# Overview of workclass\n",
    "replaced_df[\"workclass\"].value_counts()"
   ]
  },
  {
   "cell_type": "markdown",
   "metadata": {},
   "source": [
    "## Hours Per Week"
   ]
  },
  {
   "cell_type": "code",
   "execution_count": null,
   "metadata": {},
   "outputs": [],
   "source": [
    "# Overview of hours.per.week\n",
    "replaced_df[\"hours.per.week\"].value_counts()"
   ]
  },
  {
   "cell_type": "code",
   "execution_count": null,
   "metadata": {},
   "outputs": [],
   "source": [
    "# Overview of hours.per.week\n",
    "replaced_df[\"hours.per.week\"].min()"
   ]
  },
  {
   "cell_type": "code",
   "execution_count": null,
   "metadata": {},
   "outputs": [],
   "source": [
    "# Overview of hours.per.week\n",
    "replaced_df[\"hours.per.week\"].max()"
   ]
  },
  {
   "cell_type": "code",
   "execution_count": null,
   "metadata": {},
   "outputs": [],
   "source": [
    "# Overview of hours.per.week\n",
    "replaced_df[\"hours.per.week\"].median()"
   ]
  },
  {
   "cell_type": "code",
   "execution_count": null,
   "metadata": {},
   "outputs": [],
   "source": [
    "# Look at hours.per.week data set and compute quantiles\n",
    "hours_per_week = replaced_df[\"hours.per.week\"]\n",
    "\n",
    "fig1, ax1 = plt.subplots()\n",
    "ax1.set_title('Box Plot of Working Hours Per Week')\n",
    "ax1.set_ylabel('Hours Per Week')\n",
    "ax1.boxplot(hours_per_week)\n",
    "plt.show()"
   ]
  },
  {
   "cell_type": "code",
   "execution_count": null,
   "metadata": {},
   "outputs": [],
   "source": [
    "# Get quartile calculations\n",
    "quartiles = hours_per_week.quantile([.25,.5,.75])\n",
    "lowerq = quartiles[0.25]\n",
    "upperq = quartiles[0.75]\n",
    "iqr = upperq-lowerq\n",
    "\n",
    "print(f\"The lower quartile of hours per week is: {lowerq}\")\n",
    "print(f\"The upper quartile of hours per week is: {upperq}\")\n",
    "print(f\"The interquartile range of hours per week is: {iqr}\")\n",
    "print(f\"The the median of hours per week is: {quartiles[0.5]} \")\n",
    "\n",
    "lower_bound = lowerq - (1.5*iqr)\n",
    "upper_bound = upperq + (1.5*iqr)\n",
    "print(f\"Values below {lower_bound} could be outliers.\")\n",
    "print(f\"Values above {upper_bound} could be outliers.\")"
   ]
  },
  {
   "cell_type": "markdown",
   "metadata": {},
   "source": [
    "### Group the working hours into categories\n",
    "\n",
    "    less than 40\n",
    "    between 40 and 45\n",
    "    between 45 and 60\n",
    "    between 60 and 80\n",
    "    more than 80"
   ]
  },
  {
   "cell_type": "code",
   "execution_count": null,
   "metadata": {},
   "outputs": [],
   "source": [
    "# Create the bins in which hours.per.week will be held\n",
    "# Bins are 0, 39, 45, 60, 80, 99   \n",
    "bins = [0, 39, 45, 60, 80, 99]\n",
    "\n",
    "# Create the names for the Hours Per Week bins\n",
    "group_labels = [\"< 40 hours\", \"40-45 hours\", \"46-60 hours\", \"61-80 hours\", \"> 80 hours\"]"
   ]
  },
  {
   "cell_type": "code",
   "execution_count": null,
   "metadata": {},
   "outputs": [],
   "source": [
    "# Place the data series into a new column inside of the DataFrame\n",
    "replaced_df[\"Hours Per Week\"] = pd.cut(replaced_df[\"hours.per.week\"], bins, labels=group_labels)"
   ]
  },
  {
   "cell_type": "code",
   "execution_count": null,
   "metadata": {},
   "outputs": [],
   "source": [
    "# Preview the dataset with the Hours Per Week category\n",
    "replaced_df"
   ]
  },
  {
   "cell_type": "code",
   "execution_count": null,
   "metadata": {},
   "outputs": [],
   "source": [
    "# Creating a group based off of the Hours Per Week bins\n",
    "work_hours_group = replaced_df.groupby(\"Hours Per Week\")\n",
    "work_hours_group[[\"age\", \"education.num\", \"capital.gain\", \"capital.loss\",\n",
    "                       \"hours.per.week\"]].mean()"
   ]
  },
  {
   "cell_type": "code",
   "execution_count": null,
   "metadata": {},
   "outputs": [],
   "source": [
    "# Hours Per Week category count\n",
    "work_hours_group[[\"age\",]].count()"
   ]
  },
  {
   "cell_type": "markdown",
   "metadata": {},
   "source": [
    "## Native Country"
   ]
  },
  {
   "cell_type": "code",
   "execution_count": null,
   "metadata": {},
   "outputs": [],
   "source": [
    "# Overview of native.country\n",
    "replaced_df[\"native.country\"].value_counts()"
   ]
  },
  {
   "cell_type": "code",
   "execution_count": null,
   "metadata": {},
   "outputs": [],
   "source": [
    "# Define the Native Regions\n",
    "region = {\n",
    "    \"Cambodia\": \"Asia East\", \"China\": \"Asia East\", \"Hong\": \"Asia East\", \"Laos\": \"Asia East\",\n",
    "    \"Thailand\": \"Asia East\", \"Japan\": \"Asia East\", \"Taiwan\": \"Asia East\", \"Vietnam\": \"Asia East\",\n",
    "    \"Philippines\": \"Asia East\",\"India\": \"Asia Central\", \"Iran\": \"Asia Central\",\n",
    "    \"Cuba\": \"Central America\", \"Guatemala\": \"Central America\", \"Jamaica\": \"Central America\", \n",
    "    \"Nicaragua\": \"Central America\", \"Puerto-Rico\": \"Central America\",  \"Dominican-Republic\": \"Central America\", \n",
    "    \"El-Salvador\": \"Central America\", \"Haiti\": \"Central America\", \"Honduras\": \"Central America\", \n",
    "    \"Mexico\": \"Central America\", \"Trinadad&Tobago\": \"Central America\",\n",
    "    \"Ecuador\": \"South America\", \"Peru\": \"South America\", \"Columbia\": \"South America\",\n",
    "    \"England\": \"Europe West\", \"Germany\": \"Europe West\", \"Holand-Netherlands\": \"Europe West\", \n",
    "    \"Ireland\": \"Europe West\", \"France\": \"Europe West\", \"Greece\": \"Europe West\", \n",
    "    \"Italy\": \"Europe West\", \"Portugal\": \"Europe West\", \"Scotland\": \"Europe West\",\n",
    "    \"Poland\": \"Europe East\", \"Yugoslavia\": \"Europe East\", \"Hungary\": \"Europe East\",\n",
    "    \"South\": \"South Pacific\", \"Outlying-US(Guam-USVI-etc)\":  \"South Pacific\",  \n",
    "    \"United-States\": \" United States\"\n",
    "}"
   ]
  },
  {
   "cell_type": "code",
   "execution_count": null,
   "metadata": {},
   "outputs": [],
   "source": [
    "# Add the Native Region to the dataset\n",
    "replaced_df[\"Native Region\"] = replaced_df[\"native.country\"].replace(region)\n",
    "replaced_df"
   ]
  },
  {
   "cell_type": "code",
   "execution_count": null,
   "metadata": {},
   "outputs": [],
   "source": [
    "# Creating a group based off of the Native Region\n",
    "native_region_group = replaced_df.groupby(\"Native Region\", as_index=False)\n",
    "native_region_group[[\"age\", \"education.num\", \"capital.gain\", \"capital.loss\",\n",
    "                       \"hours.per.week\"]].mean()"
   ]
  },
  {
   "cell_type": "code",
   "execution_count": null,
   "metadata": {},
   "outputs": [],
   "source": [
    "# Native Region category count\n",
    "native_region_group[[\"age\",]].count()"
   ]
  },
  {
   "cell_type": "markdown",
   "metadata": {},
   "source": [
    "## Education"
   ]
  },
  {
   "cell_type": "code",
   "execution_count": null,
   "metadata": {},
   "outputs": [],
   "source": [
    "# Overview of education\n",
    "replaced_df[\"education\"].value_counts()"
   ]
  },
  {
   "cell_type": "code",
   "execution_count": null,
   "metadata": {},
   "outputs": [],
   "source": [
    "# Overview of education.num\n",
    "replaced_df[\"education.num\"].value_counts()"
   ]
  },
  {
   "cell_type": "markdown",
   "metadata": {},
   "source": [
    "## Marital Status"
   ]
  },
  {
   "cell_type": "code",
   "execution_count": null,
   "metadata": {},
   "outputs": [],
   "source": [
    "# Overview of marital.status\n",
    "replaced_df[\"marital.status\"].value_counts()"
   ]
  },
  {
   "cell_type": "markdown",
   "metadata": {},
   "source": [
    "## Occupation"
   ]
  },
  {
   "cell_type": "code",
   "execution_count": null,
   "metadata": {},
   "outputs": [],
   "source": [
    "# Overview of occupation\n",
    "replaced_df[\"occupation\"].value_counts()"
   ]
  },
  {
   "cell_type": "markdown",
   "metadata": {},
   "source": [
    "## Relationship"
   ]
  },
  {
   "cell_type": "code",
   "execution_count": null,
   "metadata": {},
   "outputs": [],
   "source": [
    "# Overview of relationship\n",
    "replaced_df[\"relationship\"].value_counts()"
   ]
  },
  {
   "cell_type": "markdown",
   "metadata": {},
   "source": [
    "## Race"
   ]
  },
  {
   "cell_type": "code",
   "execution_count": null,
   "metadata": {},
   "outputs": [],
   "source": [
    "# Overview of race\n",
    "replaced_df[\"race\"].value_counts()"
   ]
  },
  {
   "cell_type": "markdown",
   "metadata": {},
   "source": [
    "## Sex"
   ]
  },
  {
   "cell_type": "code",
   "execution_count": null,
   "metadata": {},
   "outputs": [],
   "source": [
    "# Overview of sex\n",
    "replaced_df[\"sex\"].value_counts()"
   ]
  },
  {
   "cell_type": "markdown",
   "metadata": {},
   "source": [
    "## Capital Gain and Capital Loss\n"
   ]
  },
  {
   "cell_type": "code",
   "execution_count": null,
   "metadata": {},
   "outputs": [],
   "source": [
    "# Overview of capital.gain\n",
    "replaced_df[\"capital.gain\"].value_counts()"
   ]
  },
  {
   "cell_type": "code",
   "execution_count": null,
   "metadata": {
    "scrolled": true
   },
   "outputs": [],
   "source": [
    "# Look at capital gain data set and compute quantiles\n",
    "capital_gain_all = replaced_df[\"capital.gain\"]\n",
    "\n",
    "fig1, ax1 = plt.subplots()\n",
    "ax1.set_title('Box Plot of Capital Gain (ALL)')\n",
    "ax1.set_ylabel('Capital Gain')\n",
    "ax1.boxplot(capital_gain_all)\n",
    "plt.show()"
   ]
  },
  {
   "cell_type": "code",
   "execution_count": null,
   "metadata": {},
   "outputs": [],
   "source": [
    "# Get quartile calculations\n",
    "quartiles = capital_gain_all.quantile([.25,.5,.75])\n",
    "lowerq = quartiles[0.25]\n",
    "upperq = quartiles[0.75]\n",
    "iqr = upperq-lowerq\n",
    "\n",
    "print(f\"The lower quartile of capital gain is: {lowerq}\")\n",
    "print(f\"The upper quartile of capital gain is: {upperq}\")\n",
    "print(f\"The interquartile range of capital gain is: {iqr}\")\n",
    "print(f\"The the median of capital gain is: {quartiles[0.5]} \")\n",
    "\n",
    "lower_bound = lowerq - (1.5*iqr)\n",
    "upper_bound = upperq + (1.5*iqr)\n",
    "print(f\"Values below {lower_bound} could be outliers.\")\n",
    "print(f\"Values above {upper_bound} could be outliers.\")"
   ]
  },
  {
   "cell_type": "code",
   "execution_count": null,
   "metadata": {},
   "outputs": [],
   "source": [
    "# Look at non-zero capital gain data set and compute quantiles\n",
    "capital_gain_nonzero = replaced_df[(replaced_df[\"capital.gain\"] != 0)]"
   ]
  },
  {
   "cell_type": "code",
   "execution_count": null,
   "metadata": {
    "scrolled": true
   },
   "outputs": [],
   "source": [
    "# Look at capital gain data set and compute quantiles\n",
    "capital_gain = capital_gain_nonzero[\"capital.gain\"]\n",
    "\n",
    "fig1, ax1 = plt.subplots()\n",
    "ax1.set_title('Box Plot of Capital Gain (non-Zero)')\n",
    "ax1.set_ylabel('Capital Gain')\n",
    "ax1.boxplot(capital_gain)\n",
    "plt.show()"
   ]
  },
  {
   "cell_type": "code",
   "execution_count": null,
   "metadata": {},
   "outputs": [],
   "source": [
    "# Get quartile calculations\n",
    "quartiles = capital_gain.quantile([.25,.5,.75])\n",
    "lowerq = quartiles[0.25]\n",
    "upperq = quartiles[0.75]\n",
    "iqr = upperq-lowerq\n",
    "\n",
    "print(f\"The lower quartile of capital gain is: {lowerq}\")\n",
    "print(f\"The upper quartile of capital gain is: {upperq}\")\n",
    "print(f\"The interquartile range of capital gain is: {iqr}\")\n",
    "print(f\"The the median of capital gain is: {quartiles[0.5]} \")\n",
    "\n",
    "lower_bound = lowerq - (1.5*iqr)\n",
    "upper_bound = upperq + (1.5*iqr)\n",
    "print(f\"Values below {lower_bound} could be outliers.\")\n",
    "print(f\"Values above {upper_bound} could be outliers.\")"
   ]
  },
  {
   "cell_type": "code",
   "execution_count": null,
   "metadata": {},
   "outputs": [],
   "source": [
    "# Overview of capital.loss\n",
    "replaced_df[\"capital.loss\"].value_counts()"
   ]
  },
  {
   "cell_type": "code",
   "execution_count": null,
   "metadata": {
    "scrolled": true
   },
   "outputs": [],
   "source": [
    "# Look at capital gain data set and compute quantiles\n",
    "capital_loss_all = replaced_df[\"capital.loss\"]\n",
    "\n",
    "fig1, ax1 = plt.subplots()\n",
    "ax1.set_title('Box Plot of Capital Loss (ALL)')\n",
    "ax1.set_ylabel('Capital Loss')\n",
    "ax1.boxplot(capital_loss_all)\n",
    "plt.show()"
   ]
  },
  {
   "cell_type": "code",
   "execution_count": null,
   "metadata": {},
   "outputs": [],
   "source": [
    "# Get quartile calculations\n",
    "quartiles = capital_loss_all.quantile([.25,.5,.75])\n",
    "lowerq = quartiles[0.25]\n",
    "upperq = quartiles[0.75]\n",
    "iqr = upperq-lowerq\n",
    "\n",
    "print(f\"The lower quartile of capital loss is: {lowerq}\")\n",
    "print(f\"The upper quartile of capital loss is: {upperq}\")\n",
    "print(f\"The interquartile range of capital loss is: {iqr}\")\n",
    "print(f\"The the median of capital loss is: {quartiles[0.5]} \")\n",
    "\n",
    "lower_bound = lowerq - (1.5*iqr)\n",
    "upper_bound = upperq + (1.5*iqr)\n",
    "print(f\"Values below {lower_bound} could be outliers.\")\n",
    "print(f\"Values above {upper_bound} could be outliers.\")"
   ]
  },
  {
   "cell_type": "code",
   "execution_count": null,
   "metadata": {},
   "outputs": [],
   "source": [
    "# Look at non-zero capital loss data set and compute quantiles\n",
    "capital_loss_nonzero = replaced_df[(replaced_df[\"capital.loss\"] != 0)]"
   ]
  },
  {
   "cell_type": "code",
   "execution_count": null,
   "metadata": {
    "scrolled": true
   },
   "outputs": [],
   "source": [
    "# Look at capital loss data set and compute quantiles\n",
    "capital_loss = capital_loss_nonzero[\"capital.loss\"]\n",
    "\n",
    "fig1, ax1 = plt.subplots()\n",
    "ax1.set_title('Box Plot of Capital Loss (non-Zero)')\n",
    "ax1.set_ylabel('Capital Loss')\n",
    "ax1.boxplot(capital_loss)\n",
    "plt.show()"
   ]
  },
  {
   "cell_type": "code",
   "execution_count": null,
   "metadata": {},
   "outputs": [],
   "source": [
    "# Get quartile calculations\n",
    "quartiles = capital_loss.quantile([.25,.5,.75])\n",
    "lowerq = quartiles[0.25]\n",
    "upperq = quartiles[0.75]\n",
    "iqr = upperq-lowerq\n",
    "\n",
    "print(f\"The lower quartile of capital loss is: {lowerq}\")\n",
    "print(f\"The upper quartile of capital loss is: {upperq}\")\n",
    "print(f\"The interquartile range of capital loss is: {iqr}\")\n",
    "print(f\"The the median of capital loss is: {quartiles[0.5]} \")\n",
    "\n",
    "lower_bound = lowerq - (1.5*iqr)\n",
    "upper_bound = upperq + (1.5*iqr)\n",
    "print(f\"Values below {lower_bound} could be outliers.\")\n",
    "print(f\"Values above {upper_bound} could be outliers.\")"
   ]
  },
  {
   "cell_type": "markdown",
   "metadata": {},
   "source": [
    "## Export the cleaned and transformed dataset as a CSV\n",
    "\n",
    "This file can be used by the team to create their own analyses"
   ]
  },
  {
   "cell_type": "code",
   "execution_count": null,
   "metadata": {},
   "outputs": [],
   "source": [
    "replaced_df.head()"
   ]
  },
  {
   "cell_type": "code",
   "execution_count": null,
   "metadata": {},
   "outputs": [],
   "source": [
    "# Export replaced_df as a CSV, without the Pandas index, but with the header\n",
    "replaced_df.to_csv(\"replaced.csv\", index=False, header=True)"
   ]
  },
  {
   "cell_type": "markdown",
   "metadata": {},
   "source": [
    "## Store the cleaned and transformed CSV into DataFrame\n",
    "\n",
    "Load the csv exported in Step 1 a DataFrame"
   ]
  },
  {
   "cell_type": "code",
   "execution_count": null,
   "metadata": {},
   "outputs": [],
   "source": [
    "# File to Load\n",
    "clean_data_to_load = \"replaced.csv\""
   ]
  },
  {
   "cell_type": "code",
   "execution_count": null,
   "metadata": {},
   "outputs": [],
   "source": [
    "# Read the cleaned and transformed census data and store into Pandas DataFrames\n",
    "replaced_df2 = pd.read_csv(clean_data_to_load, encoding=\"utf-8\")\n",
    "replaced_df2.head()"
   ]
  },
  {
   "cell_type": "code",
   "execution_count": null,
   "metadata": {},
   "outputs": [],
   "source": [
    "replaced_df2[\"occupation\"].isnull().values.any()"
   ]
  },
  {
   "cell_type": "markdown",
   "metadata": {},
   "source": [
    "## Step 2:  Preliminary analysis to understand the impact of each predictor on income"
   ]
  },
  {
   "cell_type": "markdown",
   "metadata": {},
   "source": [
    "### Age Category"
   ]
  },
  {
   "cell_type": "code",
   "execution_count": null,
   "metadata": {},
   "outputs": [],
   "source": [
    "# Creating a group based off of the Age Category\n",
    "age_category_group = replaced_df.groupby([\"Age Category\", \"income\"], as_index=False)\n",
    "age_category_group[[\"age\", \"education.num\", \"capital.gain\", \"capital.loss\",\n",
    "                       \"hours.per.week\"]].mean()"
   ]
  },
  {
   "cell_type": "code",
   "execution_count": null,
   "metadata": {},
   "outputs": [],
   "source": [
    "# Age Category count\n",
    "age_category_group[[\"age\",]].count()"
   ]
  },
  {
   "cell_type": "markdown",
   "metadata": {},
   "source": [
    "### Hours Per Week category"
   ]
  },
  {
   "cell_type": "code",
   "execution_count": null,
   "metadata": {},
   "outputs": [],
   "source": [
    "# Creating a group based off of the Hours Per Week category\n",
    "hours_per_week_category_group = replaced_df.groupby([\"Hours Per Week\", \"income\"], as_index=False)\n",
    "hours_per_week_category_group[[\"age\", \"education.num\", \"capital.gain\", \"capital.loss\",\n",
    "                       \"hours.per.week\"]].mean()"
   ]
  },
  {
   "cell_type": "code",
   "execution_count": null,
   "metadata": {},
   "outputs": [],
   "source": [
    "# Hours Per Week category count\n",
    "hours_per_week_category_group[[\"age\",]].count()"
   ]
  },
  {
   "cell_type": "markdown",
   "metadata": {},
   "source": [
    "### Work Class"
   ]
  },
  {
   "cell_type": "code",
   "execution_count": null,
   "metadata": {},
   "outputs": [],
   "source": [
    "# Creating a group based off of the workclass\n",
    "workclass_group = replaced_df.groupby([\"workclass\", \"income\"], as_index=False)\n",
    "workclass_group[[\"age\", \"education.num\", \"capital.gain\", \"capital.loss\",\n",
    "                       \"hours.per.week\"]].mean()"
   ]
  },
  {
   "cell_type": "code",
   "execution_count": null,
   "metadata": {},
   "outputs": [],
   "source": [
    "# Workclass category count\n",
    "workclass_group[[\"age\",]].count()"
   ]
  },
  {
   "cell_type": "markdown",
   "metadata": {},
   "source": [
    "### Native Region category"
   ]
  },
  {
   "cell_type": "code",
   "execution_count": null,
   "metadata": {},
   "outputs": [],
   "source": [
    "# Creating a group based off of the Native Region\n",
    "native_region_group = replaced_df.groupby([\"Native Region\", \"income\"], as_index=False)\n",
    "native_region_group[[\"age\", \"education.num\", \"capital.gain\", \"capital.loss\",\n",
    "                       \"hours.per.week\"]].mean()"
   ]
  },
  {
   "cell_type": "code",
   "execution_count": null,
   "metadata": {},
   "outputs": [],
   "source": [
    "# Native Region category count\n",
    "native_region_group[[\"age\",]].count()"
   ]
  },
  {
   "cell_type": "markdown",
   "metadata": {},
   "source": [
    "### Education"
   ]
  },
  {
   "cell_type": "code",
   "execution_count": null,
   "metadata": {},
   "outputs": [],
   "source": [
    "# Creating a group based off of education\n",
    "education_group = replaced_df.groupby([\"education\", \"income\"], as_index=False)\n",
    "education_group[[\"age\", \"education.num\", \"capital.gain\", \"capital.loss\",\n",
    "                       \"hours.per.week\"]].mean()"
   ]
  },
  {
   "cell_type": "code",
   "execution_count": null,
   "metadata": {},
   "outputs": [],
   "source": [
    "# Education count\n",
    "education_group[[\"age\",]].count()"
   ]
  },
  {
   "cell_type": "code",
   "execution_count": null,
   "metadata": {},
   "outputs": [],
   "source": [
    "# Creating a group based off of education.num\n",
    "education_num_group = replaced_df.groupby([\"education.num\", \"income\"], as_index=False)\n",
    "education_num_group[[\"age\", \"capital.gain\", \"capital.loss\",\n",
    "                       \"hours.per.week\"]].mean()"
   ]
  },
  {
   "cell_type": "code",
   "execution_count": null,
   "metadata": {},
   "outputs": [],
   "source": [
    "# Education.num count\n",
    "education_num_group[[\"age\",]].count()"
   ]
  },
  {
   "cell_type": "markdown",
   "metadata": {},
   "source": [
    "### Marital Staus"
   ]
  },
  {
   "cell_type": "code",
   "execution_count": null,
   "metadata": {},
   "outputs": [],
   "source": [
    "# Creating a group based off of marital.status\n",
    "marital_status_group = replaced_df.groupby([\"marital.status\", \"income\"], as_index=False)\n",
    "marital_status_group[[\"age\", \"capital.gain\", \"capital.loss\",\n",
    "                       \"hours.per.week\"]].mean()"
   ]
  },
  {
   "cell_type": "code",
   "execution_count": null,
   "metadata": {},
   "outputs": [],
   "source": [
    "# marital.status count\n",
    "marital_status_group[[\"age\",]].count()"
   ]
  },
  {
   "cell_type": "markdown",
   "metadata": {},
   "source": [
    "### Occupation"
   ]
  },
  {
   "cell_type": "code",
   "execution_count": null,
   "metadata": {},
   "outputs": [],
   "source": [
    "# Creating a group based off of occupation\n",
    "occupation_group = replaced_df.groupby([\"occupation\", \"income\"], as_index=False)\n",
    "occupation_group[[\"age\", \"capital.gain\", \"capital.loss\",\n",
    "                       \"hours.per.week\"]].mean()"
   ]
  },
  {
   "cell_type": "code",
   "execution_count": null,
   "metadata": {},
   "outputs": [],
   "source": [
    "# occupation count\n",
    "occupation_group[[\"age\",]].count()"
   ]
  },
  {
   "cell_type": "markdown",
   "metadata": {},
   "source": [
    "### Relationship"
   ]
  },
  {
   "cell_type": "code",
   "execution_count": null,
   "metadata": {},
   "outputs": [],
   "source": [
    "# Creating a group based off of relationship\n",
    "relationship_group = replaced_df.groupby([\"relationship\", \"income\"], as_index=False)\n",
    "relationship_group[[\"age\", \"capital.gain\", \"capital.loss\",\n",
    "                       \"hours.per.week\"]].mean()"
   ]
  },
  {
   "cell_type": "code",
   "execution_count": null,
   "metadata": {},
   "outputs": [],
   "source": [
    "# relationship count\n",
    "relationship_group[[\"age\",]].count()"
   ]
  },
  {
   "cell_type": "markdown",
   "metadata": {},
   "source": [
    "### Race"
   ]
  },
  {
   "cell_type": "code",
   "execution_count": null,
   "metadata": {},
   "outputs": [],
   "source": [
    "# Creating a group based off of race\n",
    "race_group = replaced_df.groupby([\"race\", \"income\"], as_index=False)\n",
    "race_group[[\"age\", \"capital.gain\", \"capital.loss\",\n",
    "                       \"hours.per.week\"]].mean()"
   ]
  },
  {
   "cell_type": "code",
   "execution_count": null,
   "metadata": {},
   "outputs": [],
   "source": [
    "# race count\n",
    "race_group[[\"age\",]].count()"
   ]
  },
  {
   "cell_type": "markdown",
   "metadata": {},
   "source": [
    "### Sex"
   ]
  },
  {
   "cell_type": "code",
   "execution_count": null,
   "metadata": {},
   "outputs": [],
   "source": [
    "# Creating a group based off of sex\n",
    "sex_group = replaced_df.groupby([\"sex\", \"income\"], as_index=False)\n",
    "sex_group[[\"age\", \"capital.gain\", \"capital.loss\",\n",
    "                       \"hours.per.week\"]].mean()"
   ]
  },
  {
   "cell_type": "code",
   "execution_count": null,
   "metadata": {},
   "outputs": [],
   "source": [
    "# relationship count\n",
    "sex_group[[\"age\",]].count()"
   ]
  },
  {
   "cell_type": "code",
   "execution_count": null,
   "metadata": {},
   "outputs": [],
   "source": []
  },
  {
   "cell_type": "code",
   "execution_count": null,
   "metadata": {},
   "outputs": [],
   "source": []
  },
  {
   "cell_type": "code",
   "execution_count": null,
   "metadata": {},
   "outputs": [],
   "source": [
    "over_50k = replaced_df[replaced_df[\"income\"] == \">50K\"]\n",
    "over_50k.shape"
   ]
  },
  {
   "cell_type": "code",
   "execution_count": null,
   "metadata": {},
   "outputs": [],
   "source": [
    "under_50k = replaced_df[replaced_df[\"income\"] == \"<=50K\"]\n",
    "under_50k.shape"
   ]
  },
  {
   "cell_type": "code",
   "execution_count": null,
   "metadata": {},
   "outputs": [],
   "source": [
    "gender_over_50k = over_50k[\"sex\"].value_counts()"
   ]
  },
  {
   "cell_type": "code",
   "execution_count": null,
   "metadata": {},
   "outputs": [],
   "source": [
    "gender_under_50k = replaced_df[\"sex\"][replaced_df[\"income\"] == \"<=50K\"].value_counts()"
   ]
  },
  {
   "cell_type": "code",
   "execution_count": null,
   "metadata": {},
   "outputs": [],
   "source": [
    "gender_over_50k.plot(kind=\"pie\", autopct=\"%1.1f%%\")\n",
    "plt.title(\"Over 50k Income by Gender\")\n",
    "plt.ylabel(\"\")\n",
    "plt.show()"
   ]
  },
  {
   "cell_type": "code",
   "execution_count": null,
   "metadata": {},
   "outputs": [],
   "source": [
    "gender_under_50k.plot(kind=\"pie\", autopct=\"%1.1f%%\")\n",
    "plt.title(\"Under 50k Income by Gender\")\n",
    "plt.ylabel(\"\")\n",
    "plt.show()"
   ]
  },
  {
   "cell_type": "code",
   "execution_count": null,
   "metadata": {},
   "outputs": [],
   "source": [
    "education_over_50k = replaced_df[\"education.num\"][replaced_df[\"income\"] == \">50K\"]\n",
    "education_under_50k = replaced_df[\"education.num\"][replaced_df[\"income\"] == \"<=50K\"]"
   ]
  },
  {
   "cell_type": "code",
   "execution_count": null,
   "metadata": {},
   "outputs": [],
   "source": [
    "graph = [education_over_50k, education_under_50k]\n",
    "labels = [\"Over 50k income\", \"Under 50k income\"]\n",
    "fig1, ax1 = plt.subplots()\n",
    "ax1.set_title(\"Educational attainment for over and under 50k income\")\n",
    "ax1.set_ylabel(\"Educational attainment\")\n",
    "ax1.boxplot(graph, labels=labels)\n",
    "plt.show()"
   ]
  },
  {
   "cell_type": "code",
   "execution_count": null,
   "metadata": {},
   "outputs": [],
   "source": []
  },
  {
   "cell_type": "code",
   "execution_count": null,
   "metadata": {},
   "outputs": [],
   "source": []
  },
  {
   "cell_type": "markdown",
   "metadata": {},
   "source": [
    "## Step 3:  Test multiple hypotheses and provide observations and insights to the following:\n",
    "\n",
    "#### AGE\n",
    "\n",
    "1. The older an individual is, the bigger their chances of having a higher income. And can this be explained by the fact that the older one gets, the more experienced professionally they become and this usually means a higher salary? \n",
    "\n",
    "#### WORK WEEK\n",
    "\n",
    "2.\tDo people who earn more than 50K tend to work for hours than those that earn less than 50K? Do men work more hours per week than women at all ages? At what age does the working hours per week decrease and by how much?\n",
    "\n",
    "#### WORK CLASS\n",
    "\n",
    "3.\tMost people are employed in the private sector. Do people in the private sector earn more than the other work classes?\n"
   ]
  },
  {
   "cell_type": "code",
   "execution_count": null,
   "metadata": {},
   "outputs": [],
   "source": [
    "age = replaced_df[\"age\"]"
   ]
  },
  {
   "cell_type": "code",
   "execution_count": null,
   "metadata": {},
   "outputs": [],
   "source": [
    "education = replaced_df[\"education.num\"]"
   ]
  },
  {
   "cell_type": "code",
   "execution_count": null,
   "metadata": {},
   "outputs": [],
   "source": [
    "from scipy.stats import linregress\n",
    "\n",
    "x_values = age\n",
    "y_values = education\n",
    "(slope, intercept, rvalue, pvalue, stderr) = linregress(x_values, y_values)\n",
    "regress_values = x_values * slope + intercept\n",
    "line_eq = \"y = \" + str(round(slope,2)) + \"x + \" + str(round(intercept,2))\n",
    "print(f\"The r-squared is: {rvalue**2}\")\n",
    "plt.scatter(x_values,y_values)\n",
    "plt.plot(x_values,regress_values,\"r-\")\n",
    "plt.annotate(line_eq,(70,2),fontsize=15,color=\"red\")\n",
    "plt.title(\"Age vs. Educational Attainment\")\n",
    "plt.xlabel(\"Age\")\n",
    "plt.ylabel(\"Educational Attainment\")\n",
    "plt.show()"
   ]
  },
  {
   "cell_type": "markdown",
   "metadata": {},
   "source": [
    "## Step 4:  Deliver results"
   ]
  },
  {
   "cell_type": "code",
   "execution_count": null,
   "metadata": {},
   "outputs": [],
   "source": [
    "workhours_over_50k = replaced_df[\"hours.per.week\"][replaced_df[\"income\"] == \">50K\"]\n",
    "workhours_under_50k = replaced_df[\"hours.per.week\"][replaced_df[\"income\"] == \"<=50K\"]"
   ]
  },
  {
   "cell_type": "code",
   "execution_count": null,
   "metadata": {},
   "outputs": [],
   "source": [
    "graph = [workhours_over_50k, workhours_under_50k]\n",
    "labels = [\"Over 50k income\", \"Under 50k income\"]\n",
    "fig1, ax1 = plt.subplots()\n",
    "ax1.set_title(\"Hours worked per week for over and under 50k income\")\n",
    "ax1.set_ylabel(\"Hours worked per week\")\n",
    "ax1.boxplot(graph, labels=labels)\n",
    "plt.show()"
   ]
  },
  {
   "cell_type": "code",
   "execution_count": null,
   "metadata": {},
   "outputs": [],
   "source": [
    "sts.ttest_ind(workhours_over_50k, workhours_under_50k, equal_var=False)"
   ]
  },
  {
   "cell_type": "code",
   "execution_count": null,
   "metadata": {},
   "outputs": [],
   "source": [
    "workhours_female = replaced_df[\"hours.per.week\"][replaced_df[\"sex\"] == \"Female\"]\n",
    "workhours_male = replaced_df[\"hours.per.week\"][replaced_df[\"sex\"] == \"Male\"]"
   ]
  },
  {
   "cell_type": "code",
   "execution_count": null,
   "metadata": {},
   "outputs": [],
   "source": [
    "graph = [workhours_female, workhours_male]\n",
    "labels = [\"Female\", \"Male\"]\n",
    "fig1, ax1 = plt.subplots()\n",
    "ax1.set_title(\"Hours worked per week by Gender\")\n",
    "ax1.set_ylabel(\"Hours worked per week\")\n",
    "ax1.boxplot(graph, labels=labels)\n",
    "plt.show()"
   ]
  },
  {
   "cell_type": "code",
   "execution_count": null,
   "metadata": {},
   "outputs": [],
   "source": [
    "sts.ttest_ind(workhours_female, workhours_male, equal_var=False)"
   ]
  },
  {
   "cell_type": "code",
   "execution_count": null,
   "metadata": {},
   "outputs": [],
   "source": [
    "age_only_group = replaced_df.groupby([\"Age Category\"], as_index=False)\n",
    "age_only_group[\"hours.per.week\"].mean()"
   ]
  },
  {
   "cell_type": "code",
   "execution_count": null,
   "metadata": {},
   "outputs": [],
   "source": [
    "age_only_group[\"hours.per.week\"].median()"
   ]
  },
  {
   "cell_type": "code",
   "execution_count": null,
   "metadata": {},
   "outputs": [],
   "source": []
  }
 ],
 "metadata": {
  "kernelspec": {
   "display_name": "Python 3",
   "language": "python",
   "name": "python3"
  },
  "language_info": {
   "codemirror_mode": {
    "name": "ipython",
    "version": 3
   },
   "file_extension": ".py",
   "mimetype": "text/x-python",
   "name": "python",
   "nbconvert_exporter": "python",
   "pygments_lexer": "ipython3",
   "version": "3.6.10"
  }
 },
 "nbformat": 4,
 "nbformat_minor": 4
}
