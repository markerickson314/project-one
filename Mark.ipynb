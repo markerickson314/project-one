{
 "cells": [
  {
   "cell_type": "code",
   "execution_count": 42,
   "metadata": {},
   "outputs": [],
   "source": [
    "import pandas as pd\n",
    "import matplotlib.pyplot as plt\n",
    "import numpy as np\n",
    "import scipy.stats as stats\n",
    "from scipy.stats import linregress\n"
   ]
  },
  {
   "cell_type": "code",
   "execution_count": 2,
   "metadata": {},
   "outputs": [
    {
     "data": {
      "text/plain": [
       "(32561, 15)"
      ]
     },
     "execution_count": 2,
     "metadata": {},
     "output_type": "execute_result"
    }
   ],
   "source": [
    "raw_df = pd.read_csv(\"adult.csv\")\n",
    "raw_df.shape"
   ]
  },
  {
   "cell_type": "code",
   "execution_count": 3,
   "metadata": {},
   "outputs": [
    {
     "data": {
      "text/html": [
       "<div>\n",
       "<style scoped>\n",
       "    .dataframe tbody tr th:only-of-type {\n",
       "        vertical-align: middle;\n",
       "    }\n",
       "\n",
       "    .dataframe tbody tr th {\n",
       "        vertical-align: top;\n",
       "    }\n",
       "\n",
       "    .dataframe thead th {\n",
       "        text-align: right;\n",
       "    }\n",
       "</style>\n",
       "<table border=\"1\" class=\"dataframe\">\n",
       "  <thead>\n",
       "    <tr style=\"text-align: right;\">\n",
       "      <th></th>\n",
       "      <th>age</th>\n",
       "      <th>workclass</th>\n",
       "      <th>fnlwgt</th>\n",
       "      <th>education</th>\n",
       "      <th>education.num</th>\n",
       "      <th>marital.status</th>\n",
       "      <th>occupation</th>\n",
       "      <th>relationship</th>\n",
       "      <th>race</th>\n",
       "      <th>sex</th>\n",
       "      <th>capital.gain</th>\n",
       "      <th>capital.loss</th>\n",
       "      <th>hours.per.week</th>\n",
       "      <th>native.country</th>\n",
       "      <th>income</th>\n",
       "    </tr>\n",
       "  </thead>\n",
       "  <tbody>\n",
       "    <tr>\n",
       "      <th>0</th>\n",
       "      <td>90</td>\n",
       "      <td>?</td>\n",
       "      <td>77053</td>\n",
       "      <td>HS-grad</td>\n",
       "      <td>9</td>\n",
       "      <td>Widowed</td>\n",
       "      <td>?</td>\n",
       "      <td>Not-in-family</td>\n",
       "      <td>White</td>\n",
       "      <td>Female</td>\n",
       "      <td>0</td>\n",
       "      <td>4356</td>\n",
       "      <td>40</td>\n",
       "      <td>United-States</td>\n",
       "      <td>&lt;=50K</td>\n",
       "    </tr>\n",
       "    <tr>\n",
       "      <th>1</th>\n",
       "      <td>82</td>\n",
       "      <td>Private</td>\n",
       "      <td>132870</td>\n",
       "      <td>HS-grad</td>\n",
       "      <td>9</td>\n",
       "      <td>Widowed</td>\n",
       "      <td>Exec-managerial</td>\n",
       "      <td>Not-in-family</td>\n",
       "      <td>White</td>\n",
       "      <td>Female</td>\n",
       "      <td>0</td>\n",
       "      <td>4356</td>\n",
       "      <td>18</td>\n",
       "      <td>United-States</td>\n",
       "      <td>&lt;=50K</td>\n",
       "    </tr>\n",
       "    <tr>\n",
       "      <th>2</th>\n",
       "      <td>66</td>\n",
       "      <td>?</td>\n",
       "      <td>186061</td>\n",
       "      <td>Some-college</td>\n",
       "      <td>10</td>\n",
       "      <td>Widowed</td>\n",
       "      <td>?</td>\n",
       "      <td>Unmarried</td>\n",
       "      <td>Black</td>\n",
       "      <td>Female</td>\n",
       "      <td>0</td>\n",
       "      <td>4356</td>\n",
       "      <td>40</td>\n",
       "      <td>United-States</td>\n",
       "      <td>&lt;=50K</td>\n",
       "    </tr>\n",
       "    <tr>\n",
       "      <th>3</th>\n",
       "      <td>54</td>\n",
       "      <td>Private</td>\n",
       "      <td>140359</td>\n",
       "      <td>7th-8th</td>\n",
       "      <td>4</td>\n",
       "      <td>Divorced</td>\n",
       "      <td>Machine-op-inspct</td>\n",
       "      <td>Unmarried</td>\n",
       "      <td>White</td>\n",
       "      <td>Female</td>\n",
       "      <td>0</td>\n",
       "      <td>3900</td>\n",
       "      <td>40</td>\n",
       "      <td>United-States</td>\n",
       "      <td>&lt;=50K</td>\n",
       "    </tr>\n",
       "    <tr>\n",
       "      <th>4</th>\n",
       "      <td>41</td>\n",
       "      <td>Private</td>\n",
       "      <td>264663</td>\n",
       "      <td>Some-college</td>\n",
       "      <td>10</td>\n",
       "      <td>Separated</td>\n",
       "      <td>Prof-specialty</td>\n",
       "      <td>Own-child</td>\n",
       "      <td>White</td>\n",
       "      <td>Female</td>\n",
       "      <td>0</td>\n",
       "      <td>3900</td>\n",
       "      <td>40</td>\n",
       "      <td>United-States</td>\n",
       "      <td>&lt;=50K</td>\n",
       "    </tr>\n",
       "  </tbody>\n",
       "</table>\n",
       "</div>"
      ],
      "text/plain": [
       "   age workclass  fnlwgt     education  education.num marital.status  \\\n",
       "0   90         ?   77053       HS-grad              9        Widowed   \n",
       "1   82   Private  132870       HS-grad              9        Widowed   \n",
       "2   66         ?  186061  Some-college             10        Widowed   \n",
       "3   54   Private  140359       7th-8th              4       Divorced   \n",
       "4   41   Private  264663  Some-college             10      Separated   \n",
       "\n",
       "          occupation   relationship   race     sex  capital.gain  \\\n",
       "0                  ?  Not-in-family  White  Female             0   \n",
       "1    Exec-managerial  Not-in-family  White  Female             0   \n",
       "2                  ?      Unmarried  Black  Female             0   \n",
       "3  Machine-op-inspct      Unmarried  White  Female             0   \n",
       "4     Prof-specialty      Own-child  White  Female             0   \n",
       "\n",
       "   capital.loss  hours.per.week native.country income  \n",
       "0          4356              40  United-States  <=50K  \n",
       "1          4356              18  United-States  <=50K  \n",
       "2          4356              40  United-States  <=50K  \n",
       "3          3900              40  United-States  <=50K  \n",
       "4          3900              40  United-States  <=50K  "
      ]
     },
     "execution_count": 3,
     "metadata": {},
     "output_type": "execute_result"
    }
   ],
   "source": [
    "raw_df.head()"
   ]
  },
  {
   "cell_type": "code",
   "execution_count": 4,
   "metadata": {},
   "outputs": [
    {
     "name": "stdout",
     "output_type": "stream",
     "text": [
      "age\n",
      "workclass\n",
      "fnlwgt\n",
      "education\n",
      "education.num\n",
      "marital.status\n",
      "occupation\n",
      "relationship\n",
      "race\n",
      "sex\n",
      "capital.gain\n",
      "capital.loss\n",
      "hours.per.week\n",
      "native.country\n",
      "income\n"
     ]
    }
   ],
   "source": [
    "for col in raw_df.columns: \n",
    "    print(col) "
   ]
  },
  {
   "cell_type": "code",
   "execution_count": 5,
   "metadata": {},
   "outputs": [
    {
     "data": {
      "text/html": [
       "<div>\n",
       "<style scoped>\n",
       "    .dataframe tbody tr th:only-of-type {\n",
       "        vertical-align: middle;\n",
       "    }\n",
       "\n",
       "    .dataframe tbody tr th {\n",
       "        vertical-align: top;\n",
       "    }\n",
       "\n",
       "    .dataframe thead th {\n",
       "        text-align: right;\n",
       "    }\n",
       "</style>\n",
       "<table border=\"1\" class=\"dataframe\">\n",
       "  <thead>\n",
       "    <tr style=\"text-align: right;\">\n",
       "      <th></th>\n",
       "      <th>age</th>\n",
       "      <th>workclass</th>\n",
       "      <th>fnlwgt</th>\n",
       "      <th>education</th>\n",
       "      <th>education.num</th>\n",
       "      <th>marital.status</th>\n",
       "      <th>occupation</th>\n",
       "      <th>relationship</th>\n",
       "      <th>race</th>\n",
       "      <th>sex</th>\n",
       "      <th>capital.gain</th>\n",
       "      <th>capital.loss</th>\n",
       "      <th>hours.per.week</th>\n",
       "      <th>native.country</th>\n",
       "      <th>income</th>\n",
       "    </tr>\n",
       "  </thead>\n",
       "  <tbody>\n",
       "    <tr>\n",
       "      <th>0</th>\n",
       "      <td>90</td>\n",
       "      <td>NA</td>\n",
       "      <td>77053</td>\n",
       "      <td>HS-grad</td>\n",
       "      <td>9</td>\n",
       "      <td>Widowed</td>\n",
       "      <td>NA</td>\n",
       "      <td>Not-in-family</td>\n",
       "      <td>White</td>\n",
       "      <td>Female</td>\n",
       "      <td>0</td>\n",
       "      <td>4356</td>\n",
       "      <td>40</td>\n",
       "      <td>United-States</td>\n",
       "      <td>&lt;=50K</td>\n",
       "    </tr>\n",
       "    <tr>\n",
       "      <th>1</th>\n",
       "      <td>82</td>\n",
       "      <td>Private</td>\n",
       "      <td>132870</td>\n",
       "      <td>HS-grad</td>\n",
       "      <td>9</td>\n",
       "      <td>Widowed</td>\n",
       "      <td>Exec-managerial</td>\n",
       "      <td>Not-in-family</td>\n",
       "      <td>White</td>\n",
       "      <td>Female</td>\n",
       "      <td>0</td>\n",
       "      <td>4356</td>\n",
       "      <td>18</td>\n",
       "      <td>United-States</td>\n",
       "      <td>&lt;=50K</td>\n",
       "    </tr>\n",
       "    <tr>\n",
       "      <th>2</th>\n",
       "      <td>66</td>\n",
       "      <td>NA</td>\n",
       "      <td>186061</td>\n",
       "      <td>Some-college</td>\n",
       "      <td>10</td>\n",
       "      <td>Widowed</td>\n",
       "      <td>NA</td>\n",
       "      <td>Unmarried</td>\n",
       "      <td>Black</td>\n",
       "      <td>Female</td>\n",
       "      <td>0</td>\n",
       "      <td>4356</td>\n",
       "      <td>40</td>\n",
       "      <td>United-States</td>\n",
       "      <td>&lt;=50K</td>\n",
       "    </tr>\n",
       "    <tr>\n",
       "      <th>3</th>\n",
       "      <td>54</td>\n",
       "      <td>Private</td>\n",
       "      <td>140359</td>\n",
       "      <td>7th-8th</td>\n",
       "      <td>4</td>\n",
       "      <td>Divorced</td>\n",
       "      <td>Machine-op-inspct</td>\n",
       "      <td>Unmarried</td>\n",
       "      <td>White</td>\n",
       "      <td>Female</td>\n",
       "      <td>0</td>\n",
       "      <td>3900</td>\n",
       "      <td>40</td>\n",
       "      <td>United-States</td>\n",
       "      <td>&lt;=50K</td>\n",
       "    </tr>\n",
       "    <tr>\n",
       "      <th>4</th>\n",
       "      <td>41</td>\n",
       "      <td>Private</td>\n",
       "      <td>264663</td>\n",
       "      <td>Some-college</td>\n",
       "      <td>10</td>\n",
       "      <td>Separated</td>\n",
       "      <td>Prof-specialty</td>\n",
       "      <td>Own-child</td>\n",
       "      <td>White</td>\n",
       "      <td>Female</td>\n",
       "      <td>0</td>\n",
       "      <td>3900</td>\n",
       "      <td>40</td>\n",
       "      <td>United-States</td>\n",
       "      <td>&lt;=50K</td>\n",
       "    </tr>\n",
       "  </tbody>\n",
       "</table>\n",
       "</div>"
      ],
      "text/plain": [
       "   age workclass  fnlwgt     education  education.num marital.status  \\\n",
       "0   90        NA   77053       HS-grad              9        Widowed   \n",
       "1   82   Private  132870       HS-grad              9        Widowed   \n",
       "2   66        NA  186061  Some-college             10        Widowed   \n",
       "3   54   Private  140359       7th-8th              4       Divorced   \n",
       "4   41   Private  264663  Some-college             10      Separated   \n",
       "\n",
       "          occupation   relationship   race     sex  capital.gain  \\\n",
       "0                 NA  Not-in-family  White  Female             0   \n",
       "1    Exec-managerial  Not-in-family  White  Female             0   \n",
       "2                 NA      Unmarried  Black  Female             0   \n",
       "3  Machine-op-inspct      Unmarried  White  Female             0   \n",
       "4     Prof-specialty      Own-child  White  Female             0   \n",
       "\n",
       "   capital.loss  hours.per.week native.country income  \n",
       "0          4356              40  United-States  <=50K  \n",
       "1          4356              18  United-States  <=50K  \n",
       "2          4356              40  United-States  <=50K  \n",
       "3          3900              40  United-States  <=50K  \n",
       "4          3900              40  United-States  <=50K  "
      ]
     },
     "execution_count": 5,
     "metadata": {},
     "output_type": "execute_result"
    }
   ],
   "source": [
    "replaced_df = raw_df.replace(to_replace=\"?\", value=\"NA\")\n",
    "replaced_df.head()"
   ]
  },
  {
   "cell_type": "code",
   "execution_count": 6,
   "metadata": {},
   "outputs": [
    {
     "name": "stdout",
     "output_type": "stream",
     "text": [
      "workclass : ['NA' 'Private' 'State-gov' 'Federal-gov' 'Self-emp-not-inc'\n",
      " 'Self-emp-inc' 'Local-gov' 'Without-pay' 'Never-worked']\n",
      "\n",
      "education : ['HS-grad' 'Some-college' '7th-8th' '10th' 'Doctorate' 'Prof-school'\n",
      " 'Bachelors' 'Masters' '11th' 'Assoc-acdm' 'Assoc-voc' '1st-4th' '5th-6th'\n",
      " '12th' '9th' 'Preschool']\n",
      "\n",
      "marital.status : ['Widowed' 'Divorced' 'Separated' 'Never-married' 'Married-civ-spouse'\n",
      " 'Married-spouse-absent' 'Married-AF-spouse']\n",
      "\n",
      "occupation : ['NA' 'Exec-managerial' 'Machine-op-inspct' 'Prof-specialty'\n",
      " 'Other-service' 'Adm-clerical' 'Craft-repair' 'Transport-moving'\n",
      " 'Handlers-cleaners' 'Sales' 'Farming-fishing' 'Tech-support'\n",
      " 'Protective-serv' 'Armed-Forces' 'Priv-house-serv']\n",
      "\n",
      "relationship : ['Not-in-family' 'Unmarried' 'Own-child' 'Other-relative' 'Husband' 'Wife']\n",
      "\n",
      "race : ['White' 'Black' 'Asian-Pac-Islander' 'Other' 'Amer-Indian-Eskimo']\n",
      "\n",
      "sex : ['Female' 'Male']\n",
      "\n",
      "native.country : ['United-States' 'NA' 'Mexico' 'Greece' 'Vietnam' 'China' 'Taiwan' 'India'\n",
      " 'Philippines' 'Trinadad&Tobago' 'Canada' 'South' 'Holand-Netherlands'\n",
      " 'Puerto-Rico' 'Poland' 'Iran' 'England' 'Germany' 'Italy' 'Japan' 'Hong'\n",
      " 'Honduras' 'Cuba' 'Ireland' 'Cambodia' 'Peru' 'Nicaragua'\n",
      " 'Dominican-Republic' 'Haiti' 'El-Salvador' 'Hungary' 'Columbia'\n",
      " 'Guatemala' 'Jamaica' 'Ecuador' 'France' 'Yugoslavia' 'Scotland'\n",
      " 'Portugal' 'Laos' 'Thailand' 'Outlying-US(Guam-USVI-etc)']\n",
      "\n",
      "income : ['<=50K' '>50K']\n",
      "\n"
     ]
    }
   ],
   "source": [
    "for cols in replaced_df.select_dtypes(exclude=np.number).columns:\n",
    "    print(cols, ':', replaced_df[cols].unique(), end='\\n\\n')\n"
   ]
  },
  {
   "cell_type": "markdown",
   "metadata": {},
   "source": [
    "# Over and under 50k dataframes"
   ]
  },
  {
   "cell_type": "code",
   "execution_count": 7,
   "metadata": {},
   "outputs": [
    {
     "data": {
      "text/plain": [
       "(7841, 15)"
      ]
     },
     "execution_count": 7,
     "metadata": {},
     "output_type": "execute_result"
    }
   ],
   "source": [
    "over_50k_df = replaced_df[replaced_df[\"income\"] == \">50K\"]\n",
    "over_50k_df.shape"
   ]
  },
  {
   "cell_type": "code",
   "execution_count": 8,
   "metadata": {},
   "outputs": [
    {
     "data": {
      "text/plain": [
       "(24720, 15)"
      ]
     },
     "execution_count": 8,
     "metadata": {},
     "output_type": "execute_result"
    }
   ],
   "source": [
    "under_50k_df = replaced_df[replaced_df[\"income\"] == \"<=50K\"]\n",
    "under_50k_df.shape"
   ]
  },
  {
   "cell_type": "markdown",
   "metadata": {},
   "source": [
    "# Gender"
   ]
  },
  {
   "cell_type": "code",
   "execution_count": 9,
   "metadata": {},
   "outputs": [],
   "source": [
    "gender_over_50k = over_50k_df[\"sex\"].value_counts()"
   ]
  },
  {
   "cell_type": "code",
   "execution_count": 11,
   "metadata": {},
   "outputs": [
    {
     "data": {
      "image/png": "[encoded data removed]",
      "text/plain": [
       "<Figure size 432x288 with 1 Axes>"
      ]
     },
     "metadata": {},
     "output_type": "display_data"
    }
   ],
   "source": [
    "gender_over_50k.plot(kind=\"pie\", autopct=\"%1.1f%%\")\n",
    "plt.title(\"Over 50k Income by Gender\")\n",
    "plt.ylabel(\"\")\n",
    "plt.show()"
   ]
  },
  {
   "cell_type": "code",
   "execution_count": 10,
   "metadata": {},
   "outputs": [],
   "source": [
    "gender_under_50k = replaced_df[\"sex\"][replaced_df[\"income\"] == \"<=50K\"].value_counts()"
   ]
  },
  {
   "cell_type": "code",
   "execution_count": 12,
   "metadata": {},
   "outputs": [
    {
     "data": {
      "image/png": "[encoded data removed]",
      "text/plain": [
       "<Figure size 432x288 with 1 Axes>"
      ]
     },
     "metadata": {},
     "output_type": "display_data"
    }
   ],
   "source": [
    "gender_under_50k.plot(kind=\"pie\", autopct=\"%1.1f%%\")\n",
    "plt.title(\"Under 50k Income by Gender\")\n",
    "plt.ylabel(\"\")\n",
    "plt.show()"
   ]
  },
  {
   "cell_type": "markdown",
   "metadata": {},
   "source": [
    "# Education"
   ]
  },
  {
   "cell_type": "code",
   "execution_count": 13,
   "metadata": {},
   "outputs": [],
   "source": [
    "education_over_50k = replaced_df[\"education.num\"][replaced_df[\"income\"] == \">50K\"]\n",
    "education_under_50k = replaced_df[\"education.num\"][replaced_df[\"income\"] == \"<=50K\"]"
   ]
  },
  {
   "cell_type": "markdown",
   "metadata": {},
   "source": [
    "## With outliers"
   ]
  },
  {
   "cell_type": "code",
   "execution_count": 14,
   "metadata": {},
   "outputs": [
    {
     "data": {
      "image/png": "[encoded data removed]",
      "text/plain": [
       "<Figure size 432x288 with 1 Axes>"
      ]
     },
     "metadata": {
      "needs_background": "light"
     },
     "output_type": "display_data"
    }
   ],
   "source": [
    "graph = [education_over_50k, education_under_50k]\n",
    "labels = [\"Over 50k income\", \"Under 50k income\"]\n",
    "fig1, ax1 = plt.subplots()\n",
    "ax1.set_title(\"Educational attainment for over and under 50k income\")\n",
    "ax1.set_ylabel(\"Educational attainment\")\n",
    "ax1.boxplot(graph, labels=labels)\n",
    "plt.show()"
   ]
  },
  {
   "cell_type": "code",
   "execution_count": 15,
   "metadata": {},
   "outputs": [
    {
     "data": {
      "text/plain": [
       "Ttest_indResult(statistic=64.8960188335867, pvalue=0.0)"
      ]
     },
     "execution_count": 15,
     "metadata": {},
     "output_type": "execute_result"
    }
   ],
   "source": [
    "stats.ttest_ind(education_over_50k, education_under_50k, equal_var=False)"
   ]
  },
  {
   "cell_type": "markdown",
   "metadata": {},
   "source": [
    "## Outliers removed"
   ]
  },
  {
   "cell_type": "code",
   "execution_count": 16,
   "metadata": {},
   "outputs": [
    {
     "name": "stdout",
     "output_type": "stream",
     "text": [
      "Education values below 5.5 and above 17.5 could be outliers.\n"
     ]
    }
   ],
   "source": [
    "quartiles = education_over_50k.quantile([.25,.5,.75])\n",
    "lowerq = quartiles[0.25]\n",
    "upperq = quartiles[0.75]\n",
    "iqr = upperq-lowerq\n",
    "lower_bound = lowerq - (1.5*iqr)\n",
    "upper_bound = upperq + (1.5*iqr)\n",
    "print(f\"Education values below {round(lower_bound, 2)} and above \\\n",
    "{round(upper_bound, 2)} could be outliers.\")"
   ]
  },
  {
   "cell_type": "code",
   "execution_count": 17,
   "metadata": {},
   "outputs": [
    {
     "name": "stdout",
     "output_type": "stream",
     "text": [
      "[197, 479, 597, 742, 774, 963, 1655, 2541, 2609, 2633, 2724, 2731, 2775, 2900, 2970, 2971, 2980, 3014, 3050, 3066, 3291, 4390, 4415, 4749, 5956, 6093, 6145, 6658, 7508, 7582, 7895, 8023, 8344, 8617, 8788, 8861, 8897, 9596, 9866, 9955, 10831, 10961, 11510, 11872, 12227, 12739, 12862, 13172, 13240, 14187, 15106, 15121, 15156, 15561, 15705, 16128, 16610, 16796, 18066, 18351, 20376, 20706, 21386, 21721, 21909, 22589, 22716, 23440, 23519, 24639, 25370, 25978, 26130, 27101, 27874, 28598, 28709, 28969, 29196, 29303, 29499, 29619, 29678, 29748, 29813, 29821, 31506, 32142, 32255]\n"
     ]
    }
   ],
   "source": [
    "outliers_below = over_50k_df[over_50k_df[\"education.num\"] < lower_bound].index.tolist()\n",
    "print(outliers_below)"
   ]
  },
  {
   "cell_type": "code",
   "execution_count": 18,
   "metadata": {},
   "outputs": [
    {
     "data": {
      "text/plain": [
       "(7752, 15)"
      ]
     },
     "execution_count": 18,
     "metadata": {},
     "output_type": "execute_result"
    }
   ],
   "source": [
    "over_50k_clean_df=over_50k_df.drop(outliers_below)\n",
    "over_50k_clean_df.shape"
   ]
  },
  {
   "cell_type": "code",
   "execution_count": 19,
   "metadata": {},
   "outputs": [
    {
     "name": "stdout",
     "output_type": "stream",
     "text": [
      "[]\n"
     ]
    }
   ],
   "source": [
    "outliers_above = over_50k_clean_df[over_50k_clean_df[\"education.num\"] > upper_bound].index.tolist()\n",
    "print(outliers_above)"
   ]
  },
  {
   "cell_type": "code",
   "execution_count": 20,
   "metadata": {},
   "outputs": [
    {
     "name": "stdout",
     "output_type": "stream",
     "text": [
      "Education values below 7.5 and above 11.5 could be outliers.\n"
     ]
    }
   ],
   "source": [
    "quartiles1 = education_under_50k.quantile([.25,.5,.75])\n",
    "lowerq1 = quartiles1[0.25]\n",
    "upperq1 = quartiles1[0.75]\n",
    "iqr1 = upperq1-lowerq1\n",
    "lower_bound1 = lowerq1 - (1.5*iqr1)\n",
    "upper_bound1 = upperq1 + (1.5*iqr1)\n",
    "print(f\"Education values below {round(lower_bound1, 2)} and above \\\n",
    "{round(upper_bound1, 2)} could be outliers.\")"
   ]
  },
  {
   "cell_type": "code",
   "execution_count": 21,
   "metadata": {},
   "outputs": [
    {
     "name": "stdout",
     "output_type": "stream",
     "text": [
      "[3, 6, 21, 26, 27, 142, 145, 161, 195, 212, 215, 216, 218, 219, 224, 226, 240, 241, 247, 269, 271, 277, 278, 282, 283, 305, 336, 347, 643, 682, 898, 932, 994, 1002, 1004, 1019, 1075, 1081, 1083, 1092, 1098, 1106, 1110, 1116, 1117, 1118, 1124, 1129, 1136, 1153, 1181, 1183, 1184, 1185, 1186, 1188, 1194, 1220, 1231, 1232, 1235, 1236, 1239, 1241, 1242, 1243, 1246, 1250, 1253, 1254, 1256, 1258, 1259, 1267, 1268, 1282, 1297, 1319, 1329, 1334, 1395, 1434, 1465, 1483, 1490, 1504, 1508, 1518, 1678, 1680, 2245, 2922, 2935, 2936, 2957, 2966, 3111, 3130, 3133, 3188, 3221, 3260, 3261, 3265, 3266, 3275, 3300, 3384, 3389, 3390, 3418, 3423, 3424, 3427, 3428, 3434, 3444, 3454, 3474, 3479, 3485, 3486, 3489, 3491, 3498, 3501, 3507, 3527, 3529, 3538, 3541, 3544, 3545, 3550, 3553, 3556, 3557, 3558, 3560, 3624, 3626, 3640, 3648, 3759, 3765, 3772, 3773, 3778, 3780, 3782, 3783, 3785, 3788, 3793, 3811, 3817, 3834, 3842, 3846, 3847, 3851, 3854, 3855, 3857, 3859, 3862, 3865, 3885, 3887, 3889, 3891, 3892, 3894, 3895, 3897, 3906, 3911, 3912, 3917, 3921, 3935, 3954, 3966, 3967, 3987, 3988, 3998, 3999, 4004, 4058, 4059, 4062, 4067, 4068, 4070, 4072, 4085, 4094, 4095, 4096, 4097, 4098, 4099, 4115, 4125, 4129, 4131, 4133, 4135, 4137, 4146, 4147, 4151, 4154, 4156, 4159, 4162, 4166, 4170, 4173, 4185, 4193, 4197, 4198, 4211, 4213, 4216, 4222, 4226, 4228, 4229, 4233, 4236, 4243, 4246, 4250, 4261, 4266, 4281, 4284, 4300, 4301, 4302, 4310, 4324, 4330, 4369, 4377, 4402, 4408, 4410, 4420, 4422, 4424, 4426, 4448, 4455, 4458, 4459, 4478, 4502, 4507, 4515, 4517, 4526, 4533, 4536, 4539, 4540, 4550, 4588, 4589, 4590, 4595, 4601, 4611, 4616, 4630, 4642, 4644, 4651, 4661, 4674, 4691, 4696, 4706, 4712, 4715, 4719, 4726, 4731, 4745, 4756, 4757, 4763, 4772, 4773, 4775, 4782, 4787, 4804, 4813, 4814, 4825, 4827, 4847, 4876, 4879, 4892, 4898, 4923, 4925, 4933, 4947, 4950, 4956, 4975, 4977, 4981, 4982, 4987, 4993, 5011, 5012, 5023, 5032, 5039, 5042, 5059, 5062, 5064, 5070, 5112, 5125, 5130, 5133, 5160, 5180, 5183, 5218, 5245, 5253, 5302, 5346, 5350, 5365, 5381, 5385, 5401, 5406, 5407, 5419, 5437, 5440, 5450, 5458, 5467, 5469, 5475, 5488, 5495, 5498, 5510, 5541, 5543, 5558, 5563, 5565, 5567, 5569, 5570, 5579, 5583, 5609, 5611, 5619, 5628, 5639, 5640, 5642, 5651, 5653, 5660, 5663, 5667, 5683, 5699, 5729, 5730, 5737, 5741, 5751, 5753, 5755, 5757, 5758, 5759, 5761, 5765, 5766, 5768, 5774, 5780, 5785, 5791, 5792, 5813, 5819, 5834, 5836, 5863, 5866, 5872, 5873, 5874, 5877, 5892, 5893, 5902, 5904, 5913, 5914, 5926, 5929, 5935, 5967, 5980, 5983, 5987, 5991, 5997, 6000, 6014, 6061, 6067, 6082, 6086, 6089, 6090, 6095, 6102, 6106, 6116, 6126, 6151, 6154, 6155, 6160, 6164, 6170, 6203, 6206, 6216, 6232, 6248, 6251, 6253, 6254, 6260, 6271, 6287, 6288, 6292, 6303, 6307, 6309, 6314, 6318, 6320, 6335, 6340, 6343, 6346, 6364, 6366, 6369, 6374, 6379, 6386, 6388, 6398, 6406, 6439, 6449, 6450, 6451, 6457, 6458, 6459, 6461, 6469, 6476, 6481, 6487, 6496, 6502, 6507, 6508, 6514, 6532, 6535, 6537, 6538, 6553, 6561, 6563, 6572, 6579, 6596, 6598, 6602, 6608, 6641, 6644, 6648, 6656, 6657, 6663, 6675, 6678, 6679, 6693, 6694, 6696, 6702, 6705, 6710, 6711, 6712, 6713, 6718, 6730, 6736, 6743, 6750, 6757, 6765, 6771, 6773, 6785, 6787, 6799, 6805, 6817, 6819, 6823, 6824, 6843, 6871, 6883, 6920, 6931, 6944, 6962, 6987, 6991, 6996, 7000, 7002, 7005, 7012, 7016, 7018, 7021, 7024, 7032, 7036, 7053, 7055, 7068, 7071, 7073, 7083, 7096, 7123, 7125, 7130, 7136, 7137, 7141, 7147, 7149, 7153, 7157, 7172, 7173, 7178, 7189, 7196, 7208, 7211, 7224, 7226, 7229, 7232, 7238, 7241, 7254, 7266, 7277, 7282, 7286, 7300, 7307, 7319, 7321, 7322, 7336, 7342, 7344, 7370, 7372, 7378, 7380, 7398, 7401, 7404, 7408, 7416, 7424, 7431, 7450, 7457, 7459, 7477, 7511, 7512, 7513, 7517, 7538, 7543, 7574, 7578, 7579, 7586, 7604, 7612, 7619, 7629, 7633, 7639, 7661, 7675, 7688, 7689, 7702, 7724, 7747, 7753, 7756, 7764, 7768, 7772, 7775, 7778, 7782, 7787, 7799, 7805, 7826, 7831, 7836, 7840, 7843, 7854, 7856, 7863, 7867, 7877, 7882, 7887, 7905, 7909, 7938, 7957, 7958, 7979, 7984, 8003, 8020, 8024, 8037, 8041, 8054, 8059, 8081, 8086, 8092, 8101, 8125, 8128, 8150, 8153, 8155, 8158, 8163, 8171, 8184, 8193, 8208, 8209, 8217, 8228, 8235, 8237, 8240, 8245, 8249, 8251, 8252, 8262, 8272, 8279, 8298, 8299, 8300, 8302, 8304, 8308, 8316, 8327, 8349, 8358, 8365, 8407, 8409, 8414, 8417, 8421, 8471, 8478, 8492, 8497, 8502, 8518, 8529, 8535, 8546, 8550, 8558, 8560, 8562, 8570, 8596, 8606, 8610, 8612, 8623, 8633, 8655, 8656, 8668, 8672, 8673, 8680, 8682, 8683, 8700, 8710, 8711, 8716, 8726, 8747, 8754, 8757, 8768, 8779, 8791, 8797, 8805, 8808, 8815, 8832, 8836, 8840, 8848, 8855, 8874, 8878, 8880, 8890, 8906, 8907, 8937, 8942, 8947, 8952, 8963, 8977, 8980, 8981, 9001, 9003, 9017, 9020, 9031, 9038, 9043, 9044, 9051, 9055, 9088, 9091, 9092, 9106, 9119, 9125, 9127, 9142, 9145, 9155, 9160, 9166, 9173, 9175, 9188, 9205, 9208, 9210, 9212, 9214, 9217, 9221, 9251, 9254, 9264, 9272, 9274, 9288, 9291, 9297, 9305, 9306, 9311, 9318, 9321, 9327, 9329, 9331, 9333, 9337, 9338, 9342, 9365, 9368, 9372, 9391, 9394, 9398, 9405, 9416, 9420, 9431, 9435, 9440, 9444, 9445, 9448, 9473, 9487, 9492, 9493, 9504, 9506, 9507, 9517, 9522, 9524, 9530, 9532, 9534, 9558, 9568, 9578, 9610, 9617, 9621, 9627, 9651, 9658, 9661, 9669, 9678, 9680, 9691, 9713, 9718, 9748, 9753, 9776, 9786, 9788, 9800, 9805, 9814, 9827, 9844, 9849, 9852, 9881, 9888, 9897, 9903, 9908, 9914, 9915, 9935, 9946, 9949, 9963, 9974, 9981, 9984, 9988, 10011, 10018, 10021, 10034, 10041, 10052, 10055, 10058, 10067, 10068, 10069, 10109, 10119, 10124, 10127, 10132, 10138, 10154, 10160, 10163, 10190, 10198, 10201, 10206, 10214, 10217, 10228, 10229, 10253, 10260, 10286, 10287, 10292, 10298, 10303, 10305, 10327, 10346, 10350, 10353, 10355, 10358, 10374, 10384, 10385, 10391, 10393, 10419, 10421, 10425, 10429, 10439, 10450, 10459, 10465, 10483, 10488, 10493, 10498, 10521, 10535, 10538, 10550, 10573, 10579, 10587, 10591, 10597, 10599, 10606, 10612, 10633, 10636, 10638, 10640, 10641, 10664, 10688, 10694, 10702, 10711, 10713, 10714, 10726, 10733, 10736, 10752, 10761, 10762, 10771, 10772, 10788, 10792, 10811, 10813, 10828, 10834, 10851, 10863, 10866, 10869, 10871, 10875, 10878, 10880, 10884, 10885, 10894, 10898, 10922, 10929, 10950, 10959, 10962, 10970, 10973, 10974, 10976, 10981, 10982, 10986, 10987, 10991, 10996, 11005, 11050, 11060, 11067, 11076, 11077, 11095, 11104, 11107, 11116, 11121, 11141, 11148, 11158, 11164, 11165, 11167, 11168, 11181, 11193, 11202, 11208, 11210, 11223, 11236, 11240, 11243, 11245, 11252, 11261, 11268, 11274, 11276, 11285, 11289, 11298, 11304, 11307, 11309, 11322, 11336, 11347, 11368, 11394, 11397, 11403, 11427, 11440, 11441, 11443, 11444, 11454, 11457, 11460, 11462, 11468, 11497, 11498, 11499, 11505, 11518, 11560, 11563, 11594, 11618, 11622, 11639, 11644, 11671, 11679, 11682, 11711, 11715, 11718, 11719, 11745, 11755, 11757, 11762, 11771, 11809, 11836, 11847, 11856, 11858, 11880, 11884, 11890, 11906, 11907, 11922, 11927, 11934, 11946, 11948, 11950, 11951, 11952, 11957, 11963, 11995, 12009, 12026, 12033, 12035, 12037, 12040, 12049, 12051, 12059, 12069, 12070, 12076, 12086, 12095, 12105, 12113, 12125, 12134, 12138, 12140, 12143, 12150, 12160, 12163, 12168, 12175, 12176, 12179, 12180, 12183, 12192, 12205, 12213, 12233, 12246, 12249, 12252, 12253, 12272, 12273, 12275, 12281, 12293, 12295, 12297, 12323, 12338, 12340, 12356, 12372, 12379, 12393, 12397, 12401, 12406, 12425, 12430, 12440, 12442, 12475, 12487, 12489, 12495, 12500, 12544, 12551, 12553, 12554, 12557, 12558, 12559, 12560, 12570, 12580, 12588, 12593, 12605, 12610, 12614, 12621, 12622, 12629, 12632, 12641, 12647, 12651, 12657, 12659, 12681, 12692, 12703, 12709, 12714, 12716, 12717, 12725, 12733, 12755, 12773, 12782, 12790, 12798, 12801, 12803, 12823, 12830, 12832, 12864, 12865, 12903, 12906, 12916, 12919, 12921, 12930, 12945, 12953, 12954, 12962, 12968, 12973, 12981, 12984, 13000, 13002, 13004, 13009, 13026, 13027, 13040, 13046, 13050, 13061, 13063, 13065, 13078, 13087, 13092, 13098, 13132, 13148, 13156, 13162, 13165, 13174, 13190, 13197, 13206, 13209, 13230, 13234, 13238, 13241, 13267, 13293, 13295, 13296, 13302, 13318, 13332, 13333, 13338, 13350, 13361, 13367, 13375, 13390, 13416, 13424, 13429, 13445, 13469, 13479, 13483, 13504, 13521, 13532, 13534, 13540, 13559, 13563, 13598, 13623, 13625, 13645, 13657, 13660, 13666, 13668, 13675, 13679, 13698, 13721, 13728, 13750, 13751, 13760, 13765, 13766, 13771, 13784, 13790, 13802, 13807, 13812, 13813, 13821, 13833, 13836, 13838, 13852, 13859, 13862, 13870, 13875, 13878, 13886, 13894, 13896, 13897, 13899, 13904, 13911, 13920, 13925, 13942, 13967, 13969, 13970, 13997, 14000, 14006, 14013, 14021, 14037, 14038, 14049, 14051, 14052, 14057, 14089, 14092, 14096, 14107, 14109, 14113, 14117, 14129, 14141, 14143, 14144, 14149, 14150, 14166, 14175, 14193, 14210, 14211, 14229, 14239, 14251, 14261, 14262, 14269, 14281, 14282, 14290, 14291, 14294, 14295, 14309, 14317, 14318, 14336, 14337, 14338, 14342, 14344, 14362, 14374, 14376, 14384, 14398, 14402, 14403, 14404, 14418, 14428, 14431, 14432, 14452, 14455, 14463, 14476, 14494, 14503, 14519, 14520, 14527, 14548, 14552, 14557, 14561, 14580, 14598, 14599, 14610, 14617, 14628, 14635, 14646, 14670, 14674, 14687, 14689, 14692, 14703, 14704, 14710, 14716, 14725, 14747, 14752, 14763, 14767, 14773, 14777, 14778, 14791, 14815, 14818, 14832, 14842, 14847, 14854, 14865, 14868, 14883, 14885, 14887, 14898, 14918, 14919, 14931, 14936, 14940, 14951, 14953, 14954, 14966, 14970, 14973, 14981, 14986, 14993, 14994, 15002, 15010, 15023, 15033, 15035, 15036, 15077, 15087, 15111, 15120, 15126, 15161, 15177, 15183, 15184, 15185, 15190, 15191, 15194, 15211, 15216, 15224, 15239, 15254, 15320, 15338, 15342, 15344, 15346, 15355, 15362, 15365, 15384, 15393, 15405, 15416, 15425, 15433, 15444, 15445, 15447, 15455, 15461, 15462, 15474, 15483, 15488, 15501, 15505, 15509, 15543, 15545, 15547, 15548, 15560, 15565, 15576, 15579, 15581, 15582, 15597, 15603, 15608, 15610, 15620, 15623, 15638, 15642, 15654, 15656, 15667, 15668, 15675, 15677, 15720, 15725, 15729, 15734, 15737, 15746, 15748, 15754, 15782, 15789, 15796, 15805, 15813, 15815, 15822, 15877, 15881, 15898, 15926, 15930, 15932, 15942, 15944, 15972, 15981, 15997, 15999, 16002, 16003, 16041, 16042, 16055, 16056, 16057, 16060, 16061, 16063, 16064, 16070, 16078, 16086, 16105, 16110, 16114, 16138, 16147, 16149, 16180, 16181, 16182, 16184, 16185, 16195, 16199, 16200, 16232, 16237, 16242, 16246, 16250, 16252, 16254, 16261, 16274, 16275, 16302, 16311, 16316, 16327, 16331, 16336, 16344, 16354, 16368, 16372, 16382, 16384, 16409, 16456, 16457, 16458, 16484, 16488, 16489, 16493, 16495, 16504, 16519, 16536, 16541, 16548, 16558, 16575, 16579, 16580, 16582, 16599, 16600, 16607, 16627, 16642, 16648, 16653, 16657, 16660, 16662, 16664, 16672, 16682, 16686, 16690, 16697, 16722, 16765, 16775, 16783, 16787, 16795, 16809, 16814, 16818, 16829, 16838, 16848, 16850, 16854, 16864, 16866, 16867, 16870, 16878, 16881, 16889, 16890, 16894, 16898, 16900, 16916, 16921, 16923, 16932, 16943, 16949, 16954, 16975, 16994, 17004, 17009, 17020, 17022, 17027, 17034, 17047, 17048, 17050, 17051, 17082, 17086, 17089, 17093, 17100, 17101, 17105, 17124, 17131, 17138, 17154, 17157, 17176, 17178, 17183, 17186, 17191, 17193, 17194, 17198, 17203, 17206, 17207, 17210, 17219, 17231, 17232, 17237, 17241, 17246, 17264, 17267, 17274, 17296, 17300, 17308, 17311, 17313, 17314, 17316, 17331, 17344, 17351, 17373, 17382, 17384, 17395, 17396, 17399, 17401, 17417, 17430, 17437, 17439, 17443, 17447, 17448, 17463, 17464, 17466, 17508, 17513, 17520, 17522, 17525, 17536, 17545, 17547, 17558, 17563, 17564, 17584, 17590, 17592, 17596, 17597, 17604, 17610, 17619, 17625, 17640, 17665, 17666, 17678, 17694, 17700, 17706, 17712, 17727, 17730, 17746, 17754, 17767, 17769, 17773, 17783, 17784, 17797, 17798, 17801, 17803, 17813, 17824, 17842, 17900, 17951, 17958, 17960, 17964, 17965, 17968, 17970, 17982, 18009, 18017, 18019, 18022, 18025, 18027, 18029, 18063, 18078, 18093, 18101, 18106, 18113, 18127, 18146, 18149, 18188, 18197, 18198, 18214, 18222, 18225, 18232, 18236, 18242, 18249, 18254, 18259, 18267, 18269, 18279, 18283, 18289, 18297, 18301, 18306, 18322, 18327, 18329, 18339, 18350, 18352, 18361, 18375, 18379, 18380, 18394, 18413, 18430, 18433, 18460, 18467, 18476, 18479, 18481, 18498, 18509, 18510, 18519, 18532, 18538, 18546, 18551, 18557, 18566, 18567, 18568, 18572, 18579, 18580, 18581, 18597, 18598, 18599, 18614, 18627, 18629, 18649, 18650, 18656, 18665, 18668, 18684, 18688, 18692, 18693, 18730, 18746, 18751, 18760, 18805, 18809, 18810, 18816, 18824, 18828, 18835, 18850, 18853, 18856, 18860, 18875, 18902, 18946, 18949, 18952, 18953, 18955, 18972, 18980, 18983, 18987, 18998, 19000, 19005, 19007, 19016, 19017, 19019, 19020, 19023, 19024, 19029, 19031, 19038, 19044, 19051, 19062, 19071, 19074, 19079, 19080, 19083, 19095, 19096, 19106, 19110, 19119, 19124, 19150, 19151, 19162, 19181, 19196, 19199, 19217, 19229, 19233, 19237, 19251, 19255, 19261, 19271, 19272, 19293, 19294, 19300, 19310, 19316, 19321, 19329, 19346, 19364, 19365, 19368, 19376, 19380, 19382, 19411, 19416, 19423, 19424, 19425, 19437, 19442, 19444, 19447, 19454, 19495, 19496, 19499, 19505, 19521, 19523, 19524, 19534, 19538, 19565, 19566, 19570, 19573, 19581, 19586, 19589, 19595, 19632, 19634, 19638, 19650, 19664, 19665, 19678, 19679, 19684, 19691, 19717, 19736, 19737, 19755, 19781, 19789, 19794, 19795, 19796, 19799, 19806, 19819, 19824, 19825, 19827, 19836, 19838, 19849, 19853, 19857, 19877, 19892, 19910, 19919, 19926, 19932, 19948, 19950, 19957, 19962, 19967, 20006, 20008, 20016, 20050, 20051, 20053, 20059, 20062, 20066, 20075, 20082, 20109, 20112, 20115, 20120, 20127, 20130, 20153, 20172, 20177, 20179, 20181, 20185, 20203, 20211, 20219, 20229, 20239, 20240, 20242, 20245, 20267, 20272, 20299, 20312, 20313, 20314, 20321, 20339, 20343, 20344, 20353, 20354, 20356, 20370, 20373, 20395, 20415, 20420, 20421, 20422, 20423, 20435, 20446, 20451, 20456, 20459, 20466, 20472, 20485, 20492, 20495, 20498, 20505, 20516, 20525, 20543, 20548, 20556, 20558, 20561, 20571, 20574, 20582, 20586, 20596, 20603, 20604, 20626, 20629, 20630, 20639, 20641, 20650, 20683, 20696, 20705, 20722, 20739, 20742, 20768, 20769, 20773, 20806, 20807, 20823, 20829, 20832, 20864, 20867, 20885, 20886, 20891, 20895, 20907, 20910, 20915, 20920, 20925, 20926, 20927, 20933, 20935, 20952, 20965, 20970, 20977, 20987, 20992, 21004, 21009, 21011, 21036, 21040, 21051, 21060, 21081, 21097, 21105, 21120, 21139, 21146, 21166, 21173, 21198, 21200, 21242, 21244, 21249, 21253, 21254, 21256, 21257, 21264, 21275, 21279, 21295, 21310, 21311, 21318, 21320, 21327, 21332, 21339, 21342, 21348, 21350, 21352, 21361, 21365, 21366, 21382, 21389, 21390, 21414, 21416, 21420, 21421, 21438, 21440, 21446, 21447, 21453, 21457, 21458, 21483, 21515, 21519, 21525, 21537, 21542, 21543, 21552, 21559, 21567, 21572, 21579, 21584, 21589, 21592, 21602, 21608, 21610, 21621, 21625, 21638, 21655, 21670, 21674, 21699, 21705, 21712, 21726, 21732, 21745, 21751, 21764, 21780, 21783, 21793, 21794, 21800, 21801, 21803, 21807, 21837, 21842, 21848, 21855, 21858, 21872, 21893, 21895, 21899, 21913, 21917, 21923, 21930, 21934, 21939, 21946, 21953, 21954, 21964, 21966, 21981, 21993, 22001, 22005, 22006, 22008, 22014, 22021, 22028, 22034, 22037, 22041, 22046, 22056, 22057, 22070, 22074, 22077, 22081, 22083, 22089, 22101, 22108, 22130, 22154, 22155, 22156, 22162, 22170, 22179, 22201, 22206, 22207, 22209, 22221, 22261, 22265, 22278, 22286, 22287, 22297, 22304, 22305, 22309, 22320, 22325, 22333, 22338, 22360, 22380, 22384, 22385, 22395, 22401, 22408, 22431, 22441, 22445, 22459, 22469, 22484, 22494, 22499, 22505, 22507, 22512, 22513, 22514, 22526, 22528, 22530, 22545, 22554, 22567, 22587, 22595, 22596, 22605, 22619, 22632, 22635, 22638, 22658, 22659, 22674, 22677, 22711, 22720, 22722, 22728, 22735, 22738, 22747, 22753, 22755, 22770, 22774, 22787, 22804, 22808, 22812, 22819, 22820, 22829, 22838, 22845, 22868, 22874, 22875, 22891, 22909, 22912, 22913, 22918, 22952, 22958, 22964, 22966, 22967, 22969, 22975, 22979, 22980, 22986, 22993, 22996, 23000, 23013, 23032, 23047, 23054, 23064, 23074, 23087, 23105, 23122, 23133, 23141, 23147, 23154, 23155, 23161, 23169, 23173, 23179, 23185, 23188, 23189, 23196, 23197, 23203, 23207, 23221, 23222, 23234, 23237, 23258, 23262, 23266, 23267, 23272, 23276, 23298, 23301, 23308, 23310, 23315, 23317, 23318, 23326, 23329, 23336, 23341, 23343, 23366, 23368, 23378, 23383, 23392, 23421, 23445, 23449, 23472, 23482, 23484, 23493, 23499, 23500, 23541, 23547, 23557, 23565, 23573, 23576, 23585, 23598, 23603, 23623, 23658, 23660, 23672, 23673, 23683, 23690, 23692, 23695, 23700, 23703, 23705, 23712, 23718, 23723, 23726, 23731, 23735, 23746, 23766, 23767, 23770, 23774, 23785, 23795, 23808, 23811, 23812, 23813, 23818, 23828, 23829, 23830, 23834, 23835, 23844, 23861, 23863, 23865, 23870, 23896, 23898, 23902, 23907, 23938, 23944, 23952, 23967, 23985, 23987, 23999, 24000, 24028, 24035, 24056, 24066, 24072, 24073, 24097, 24141, 24157, 24161, 24166, 24172, 24184, 24186, 24187, 24195, 24213, 24215, 24221, 24227, 24231, 24241, 24242, 24248, 24254, 24257, 24272, 24279, 24284, 24289, 24290, 24316, 24321, 24322, 24325, 24340, 24342, 24365, 24366, 24367, 24376, 24385, 24386, 24390, 24399, 24400, 24402, 24409, 24431, 24432, 24433, 24436, 24437, 24440, 24441, 24448, 24464, 24469, 24478, 24479, 24488, 24505, 24529, 24565, 24591, 24600, 24602, 24616, 24618, 24619, 24624, 24634, 24637, 24641, 24647, 24653, 24657, 24658, 24663, 24668, 24686, 24704, 24707, 24708, 24718, 24721, 24727, 24740, 24741, 24749, 24782, 24794, 24817, 24840, 24843, 24868, 24883, 24905, 24913, 24919, 24935, 24937, 24938, 24951, 24954, 24957, 24962, 24963, 24973, 24978, 24989, 24993, 24996, 25001, 25004, 25015, 25028, 25029, 25038, 25050, 25064, 25067, 25068, 25072, 25079, 25085, 25087, 25094, 25098, 25100, 25146, 25153, 25155, 25160, 25162, 25170, 25178, 25183, 25195, 25228, 25233, 25235, 25236, 25240, 25257, 25289, 25301, 25323, 25333, 25339, 25340, 25341, 25347, 25353, 25358, 25363, 25365, 25368, 25376, 25389, 25393, 25408, 25410, 25415, 25436, 25438, 25447, 25449, 25460, 25466, 25470, 25476, 25477, 25484, 25492, 25494, 25501, 25514, 25526, 25530, 25535, 25540, 25548, 25553, 25559, 25564, 25570, 25572, 25578, 25582, 25583, 25589, 25596, 25605, 25610, 25611, 25633, 25637, 25639, 25645, 25655, 25657, 25667, 25669, 25700, 25720, 25725, 25732, 25733, 25735, 25737, 25774, 25788, 25792, 25793, 25811, 25812, 25823, 25826, 25832, 25847, 25865, 25873, 25879, 25880, 25907, 25910, 25915, 25918, 25936, 25952, 25958, 25959, 25961, 25972, 25974, 25979, 25985, 25994, 25999, 26001, 26005, 26010, 26018, 26021, 26023, 26026, 26063, 26067, 26087, 26096, 26097, 26098, 26099, 26113, 26125, 26126, 26139, 26141, 26149, 26156, 26158, 26165, 26175, 26191, 26196, 26198, 26206, 26207, 26214, 26234, 26235, 26253, 26259, 26263, 26271, 26286, 26287, 26297, 26298, 26302, 26311, 26312, 26327, 26336, 26342, 26346, 26348, 26378, 26380, 26381, 26385, 26392, 26403, 26411, 26418, 26425, 26433, 26438, 26439, 26441, 26444, 26461, 26464, 26465, 26467, 26485, 26491, 26492, 26501, 26503, 26506, 26509, 26510, 26515, 26521, 26536, 26540, 26554, 26580, 26585, 26588, 26605, 26609, 26611, 26617, 26620, 26621, 26624, 26643, 26644, 26648, 26654, 26661, 26664, 26672, 26678, 26685, 26693, 26705, 26708, 26719, 26720, 26723, 26728, 26736, 26738, 26742, 26762, 26775, 26799, 26805, 26811, 26814, 26824, 26835, 26838, 26840, 26862, 26869, 26889, 26927, 26933, 26939, 26940, 26944, 26951, 26961, 26968, 26990, 26995, 27019, 27021, 27023, 27025, 27038, 27063, 27074, 27092, 27095, 27098, 27104, 27118, 27123, 27124, 27127, 27130, 27141, 27170, 27186, 27207, 27214, 27217, 27221, 27235, 27238, 27253, 27260, 27267, 27286, 27291, 27295, 27299, 27316, 27319, 27330, 27374, 27377, 27389, 27402, 27404, 27419, 27423, 27435, 27440, 27444, 27446, 27448, 27451, 27453, 27468, 27487, 27488, 27490, 27494, 27502, 27510, 27521, 27525, 27526, 27531, 27536, 27538, 27548, 27552, 27553, 27554, 27555, 27562, 27565, 27567, 27575, 27578, 27588, 27591, 27608, 27612, 27615, 27622, 27628, 27633, 27638, 27639, 27643, 27653, 27657, 27664, 27673, 27677, 27684, 27689, 27695, 27699, 27701, 27713, 27724, 27732, 27745, 27755, 27761, 27771, 27775, 27777, 27790, 27794, 27816, 27820, 27827, 27861, 27873, 27888, 27891, 27892, 27895, 27921, 27923, 27931, 27950, 27960, 27963, 27969, 27978, 27983, 27992, 27999, 28002, 28013, 28019, 28022, 28029, 28038, 28040, 28043, 28056, 28072, 28075, 28081, 28084, 28089, 28108, 28118, 28126, 28142, 28146, 28148, 28149, 28155, 28159, 28160, 28163, 28165, 28170, 28171, 28187, 28194, 28198, 28200, 28209, 28213, 28215, 28225, 28228, 28229, 28237, 28259, 28266, 28268, 28284, 28294, 28296, 28298, 28302, 28306, 28318, 28321, 28324, 28329, 28331, 28333, 28336, 28338, 28343, 28344, 28348, 28349, 28353, 28358, 28363, 28378, 28387, 28390, 28391, 28393, 28398, 28400, 28402, 28411, 28419, 28421, 28445, 28465, 28471, 28472, 28482, 28488, 28497, 28522, 28528, 28532, 28538, 28540, 28543, 28578, 28583, 28589, 28593, 28603, 28604, 28610, 28615, 28628, 28635, 28648, 28649, 28658, 28667, 28679, 28701, 28711, 28730, 28731, 28746, 28750, 28761, 28786, 28793, 28800, 28802, 28811, 28815, 28822, 28823, 28838, 28839, 28852, 28877, 28881, 28888, 28928, 28939, 28947, 28950, 28954, 28957, 28959, 28965, 28981, 28982, 28983, 28985, 28993, 29006, 29010, 29011, 29014, 29016, 29026, 29032, 29038, 29047, 29053, 29059, 29085, 29089, 29092, 29093, 29097, 29107, 29109, 29111, 29120, 29126, 29127, 29143, 29150, 29153, 29171, 29177, 29180, 29194, 29200, 29219, 29221, 29227, 29241, 29243, 29248, 29252, 29253, 29265, 29266, 29268, 29273, 29277, 29278, 29302, 29317, 29320, 29322, 29325, 29330, 29345, 29356, 29391, 29392, 29411, 29417, 29420, 29429, 29437, 29440, 29449, 29456, 29465, 29481, 29510, 29518, 29530, 29532, 29544, 29549, 29562, 29578, 29580, 29583, 29591, 29595, 29597, 29609, 29656, 29665, 29668, 29694, 29704, 29706, 29713, 29717, 29765, 29766, 29768, 29771, 29791, 29803, 29831, 29835, 29852, 29853, 29856, 29857, 29866, 29870, 29871, 29873, 29876, 29883, 29884, 29917, 29918, 29926, 29934, 29939, 29961, 29973, 29974, 29978, 29992, 30005, 30006, 30024, 30030, 30035, 30046, 30057, 30060, 30063, 30066, 30067, 30072, 30110, 30131, 30155, 30156, 30163, 30168, 30171, 30185, 30196, 30205, 30206, 30207, 30225, 30226, 30246, 30247, 30253, 30274, 30283, 30284, 30291, 30294, 30295, 30297, 30312, 30328, 30338, 30349, 30359, 30383, 30390, 30401, 30408, 30413, 30421, 30422, 30423, 30434, 30437, 30440, 30451, 30459, 30461, 30462, 30475, 30480, 30496, 30497, 30514, 30515, 30530, 30540, 30543, 30561, 30565, 30574, 30575, 30583, 30588, 30590, 30600, 30607, 30612, 30615, 30620, 30621, 30635, 30636, 30646, 30651, 30654, 30670, 30676, 30682, 30686, 30688, 30692, 30713, 30716, 30730, 30744, 30751, 30765, 30773, 30776, 30792, 30795, 30797, 30806, 30833, 30834, 30840, 30846, 30853, 30860, 30863, 30865, 30877, 30880, 30882, 30909, 30912, 30924, 30925, 30932, 30954, 30968, 30977, 30991, 30999, 31000, 31005, 31013, 31025, 31036, 31039, 31041, 31049, 31051, 31056, 31062, 31070, 31071, 31077, 31107, 31110, 31114, 31118, 31126, 31129, 31156, 31178, 31184, 31194, 31213, 31225, 31226, 31230, 31243, 31257, 31263, 31267, 31270, 31276, 31283, 31294, 31301, 31302, 31309, 31316, 31327, 31366, 31373, 31394, 31395, 31397, 31400, 31402, 31403, 31416, 31429, 31431, 31438, 31455, 31460, 31462, 31463, 31511, 31513, 31517, 31519, 31520, 31522, 31558, 31569, 31571, 31572, 31574, 31587, 31594, 31618, 31632, 31639, 31651, 31655, 31659, 31664, 31670, 31675, 31694, 31710, 31715, 31717, 31733, 31746, 31752, 31765, 31766, 31776, 31785, 31788, 31803, 31810, 31823, 31832, 31834, 31844, 31856, 31860, 31869, 31891, 31894, 31904, 31909, 31913, 31949, 31951, 31955, 31956, 31970, 31983, 31984, 31996, 31997, 31999, 32007, 32015, 32019, 32023, 32029, 32031, 32033, 32066, 32078, 32086, 32097, 32100, 32101, 32108, 32131, 32138, 32144, 32158, 32166, 32168, 32171, 32181, 32201, 32202, 32214, 32236, 32247, 32259, 32262, 32263, 32291, 32310, 32316, 32333, 32334, 32352, 32358, 32359, 32372, 32374, 32376, 32381, 32400, 32416, 32418, 32420, 32428, 32437, 32439, 32444, 32445, 32446, 32457, 32458, 32460, 32466, 32474, 32485, 32496, 32499, 32502, 32506, 32510, 32513, 32521, 32525, 32529, 32552]\n"
     ]
    }
   ],
   "source": [
    "outliers_below1 = under_50k_df[under_50k_df[\"education.num\"] < lower_bound1].index.tolist()\n",
    "print(outliers_below1)"
   ]
  },
  {
   "cell_type": "code",
   "execution_count": 22,
   "metadata": {},
   "outputs": [
    {
     "data": {
      "text/plain": [
       "(21111, 15)"
      ]
     },
     "execution_count": 22,
     "metadata": {},
     "output_type": "execute_result"
    }
   ],
   "source": [
    "under_50k_clean_df=under_50k_df.drop(outliers_below1)\n",
    "under_50k_clean_df.shape"
   ]
  },
  {
   "cell_type": "code",
   "execution_count": 23,
   "metadata": {},
   "outputs": [
    {
     "name": "stdout",
     "output_type": "stream",
     "text": [
      "[135, 143, 146, 148, 149, 154, 157, 158, 162, 167, 171, 177, 179, 203, 204, 208, 227, 237, 243, 244, 259, 276, 284, 286, 287, 289, 290, 291, 294, 295, 300, 304, 306, 307, 316, 322, 327, 328, 330, 333, 334, 337, 516, 523, 524, 531, 576, 658, 896, 900, 901, 904, 906, 907, 908, 910, 915, 917, 918, 919, 920, 922, 925, 927, 928, 929, 930, 931, 1000, 1003, 1010, 1011, 1013, 1014, 1015, 1016, 1017, 1021, 1023, 1025, 1027, 1028, 1029, 1032, 1034, 1036, 1039, 1044, 1045, 1052, 1055, 1058, 1060, 1061, 1063, 1064, 1068, 1077, 1080, 1090, 1100, 1109, 1115, 1131, 1137, 1149, 1152, 1159, 1161, 1163, 1168, 1170, 1172, 1173, 1174, 1175, 1177, 1179, 1180, 1192, 1195, 1206, 1213, 1237, 1263, 1270, 1273, 1276, 1280, 1283, 1284, 1285, 1287, 1290, 1292, 1295, 1300, 1303, 1304, 1306, 1309, 1312, 1320, 1330, 1365, 1378, 1379, 1410, 1414, 1416, 1419, 1420, 1421, 1425, 1435, 1436, 1437, 1440, 1441, 1443, 1448, 1449, 1450, 1455, 1457, 1459, 1461, 1464, 1467, 1468, 1469, 1470, 1471, 1472, 1476, 1477, 1480, 1481, 1486, 1487, 1489, 1497, 1499, 1500, 1512, 1513, 1514, 1515, 1517, 1679, 2241, 2918, 2919, 2921, 2923, 2925, 2928, 2931, 2933, 2939, 2941, 2943, 2948, 2951, 2958, 2962, 2964, 2965, 2967, 2978, 2979, 2989, 2992, 2993, 2994, 2998, 2999, 3099, 3104, 3105, 3106, 3115, 3116, 3124, 3126, 3128, 3129, 3131, 3134, 3135, 3143, 3150, 3151, 3152, 3160, 3161, 3163, 3174, 3176, 3178, 3179, 3181, 3183, 3186, 3187, 3189, 3218, 3219, 3223, 3225, 3230, 3234, 3235, 3236, 3238, 3240, 3249, 3250, 3251, 3253, 3255, 3259, 3264, 3269, 3270, 3274, 3322, 3356, 3359, 3363, 3365, 3369, 3375, 3378, 3383, 3388, 3392, 3395, 3397, 3400, 3401, 3408, 3419, 3431, 3436, 3442, 3446, 3456, 3467, 3469, 3472, 3473, 3477, 3478, 3488, 3493, 3496, 3499, 3508, 3509, 3530, 3539, 3549, 3551, 3573, 3577, 3580, 3581, 3583, 3586, 3587, 3588, 3594, 3599, 3601, 3602, 3603, 3604, 3609, 3611, 3613, 3621, 3623, 3631, 3633, 3642, 3651, 3708, 3710, 3762, 3763, 3768, 3771, 3781, 3786, 3789, 3792, 3795, 3802, 3805, 3809, 3825, 3829, 3839, 3849, 3871, 3876, 3879, 3883, 3900, 3902, 3908, 3918, 3919, 3929, 3933, 3938, 3939, 3940, 3941, 3942, 3952, 3955, 3959, 3963, 3970, 3972, 3976, 3980, 3982, 3983, 3984, 3985, 3986, 3995, 3997, 4010, 4011, 4015, 4019, 4020, 4022, 4024, 4025, 4027, 4030, 4048, 4052, 4053, 4065, 4073, 4078, 4102, 4104, 4106, 4108, 4110, 4112, 4113, 4114, 4116, 4118, 4123, 4124, 4136, 4140, 4141, 4144, 4150, 4152, 4161, 4174, 4176, 4177, 4182, 4183, 4188, 4206, 4231, 4234, 4235, 4240, 4241, 4257, 4265, 4267, 4268, 4273, 4294, 4299, 4304, 4309, 4318, 4321, 4327, 4336, 4337, 4344, 4345, 4346, 4362, 4366, 4368, 4371, 4375, 4376, 4380, 4386, 4393, 4394, 4395, 4399, 4401, 4417, 4418, 4419, 4440, 4447, 4456, 4463, 4466, 4471, 4472, 4473, 4477, 4479, 4481, 4483, 4485, 4492, 4493, 4496, 4508, 4513, 4519, 4522, 4525, 4528, 4529, 4542, 4546, 4557, 4568, 4569, 4599, 4607, 4627, 4629, 4631, 4641, 4646, 4648, 4653, 4656, 4658, 4668, 4669, 4690, 4698, 4701, 4720, 4728, 4732, 4735, 4736, 4742, 4746, 4750, 4753, 4754, 4758, 4766, 4770, 4771, 4786, 4807, 4809, 4828, 4829, 4835, 4836, 4838, 4840, 4848, 4850, 4851, 4868, 4877, 4878, 4884, 4895, 4904, 4915, 4922, 4926, 4940, 4946, 4954, 4959, 4963, 4968, 4973, 4984, 4999, 5003, 5006, 5008, 5014, 5018, 5026, 5045, 5048, 5069, 5078, 5085, 5098, 5102, 5104, 5111, 5123, 5126, 5138, 5139, 5146, 5152, 5156, 5157, 5158, 5162, 5165, 5172, 5176, 5179, 5185, 5188, 5193, 5199, 5202, 5208, 5222, 5235, 5242, 5256, 5259, 5262, 5263, 5267, 5269, 5270, 5271, 5275, 5298, 5300, 5321, 5333, 5334, 5336, 5347, 5352, 5355, 5361, 5368, 5369, 5374, 5389, 5391, 5394, 5395, 5399, 5408, 5420, 5422, 5423, 5428, 5430, 5431, 5438, 5442, 5445, 5466, 5476, 5478, 5500, 5503, 5504, 5505, 5529, 5530, 5539, 5542, 5555, 5564, 5566, 5573, 5584, 5586, 5592, 5595, 5596, 5602, 5604, 5605, 5608, 5610, 5625, 5636, 5646, 5662, 5673, 5691, 5700, 5707, 5723, 5725, 5731, 5734, 5743, 5744, 5750, 5764, 5767, 5769, 5771, 5772, 5775, 5779, 5803, 5806, 5809, 5811, 5816, 5818, 5820, 5822, 5823, 5831, 5839, 5843, 5844, 5849, 5862, 5865, 5871, 5876, 5879, 5881, 5882, 5887, 5890, 5896, 5897, 5898, 5905, 5907, 5909, 5911, 5917, 5922, 5932, 5936, 5938, 5941, 5951, 5957, 5964, 5965, 5968, 5969, 5971, 5972, 5973, 5977, 5986, 5990, 5994, 6006, 6013, 6034, 6038, 6041, 6052, 6054, 6055, 6060, 6068, 6070, 6076, 6079, 6084, 6096, 6119, 6120, 6127, 6130, 6133, 6134, 6135, 6140, 6156, 6161, 6175, 6179, 6185, 6188, 6196, 6201, 6204, 6208, 6209, 6210, 6221, 6224, 6235, 6236, 6238, 6247, 6265, 6266, 6268, 6272, 6279, 6281, 6291, 6293, 6295, 6319, 6326, 6328, 6330, 6337, 6344, 6354, 6361, 6370, 6391, 6401, 6403, 6409, 6429, 6445, 6462, 6468, 6472, 6486, 6492, 6494, 6503, 6509, 6517, 6521, 6525, 6536, 6544, 6546, 6548, 6551, 6554, 6556, 6560, 6562, 6575, 6576, 6618, 6622, 6630, 6633, 6638, 6640, 6642, 6646, 6647, 6649, 6652, 6655, 6659, 6661, 6665, 6674, 6680, 6682, 6686, 6698, 6703, 6707, 6708, 6716, 6721, 6725, 6731, 6742, 6744, 6747, 6756, 6762, 6770, 6779, 6783, 6786, 6796, 6809, 6813, 6818, 6820, 6827, 6837, 6847, 6853, 6858, 6863, 6865, 6875, 6881, 6889, 6903, 6906, 6915, 6919, 6921, 6928, 6945, 6949, 6957, 6968, 6978, 6982, 6983, 6998, 7001, 7004, 7015, 7027, 7033, 7035, 7047, 7049, 7058, 7061, 7066, 7070, 7082, 7085, 7087, 7091, 7093, 7095, 7104, 7108, 7131, 7143, 7150, 7161, 7165, 7190, 7191, 7192, 7204, 7209, 7213, 7215, 7217, 7221, 7227, 7234, 7236, 7240, 7243, 7257, 7258, 7259, 7260, 7262, 7296, 7297, 7302, 7308, 7309, 7315, 7324, 7335, 7343, 7352, 7355, 7360, 7363, 7365, 7366, 7367, 7376, 7377, 7382, 7383, 7402, 7407, 7409, 7430, 7440, 7467, 7473, 7475, 7478, 7482, 7485, 7487, 7504, 7506, 7510, 7520, 7521, 7523, 7527, 7528, 7532, 7535, 7545, 7553, 7566, 7572, 7573, 7605, 7607, 7614, 7617, 7622, 7632, 7635, 7638, 7640, 7662, 7663, 7667, 7669, 7670, 7671, 7673, 7678, 7684, 7690, 7692, 7699, 7708, 7720, 7723, 7727, 7737, 7738, 7741, 7754, 7773, 7774, 7780, 7786, 7788, 7800, 7803, 7810, 7835, 7842, 7847, 7852, 7872, 7883, 7896, 7898, 7899, 7903, 7906, 7910, 7915, 7931, 7933, 7935, 7943, 7949, 7971, 7978, 7985, 7990, 8006, 8008, 8039, 8042, 8051, 8058, 8062, 8065, 8069, 8079, 8089, 8093, 8096, 8114, 8116, 8122, 8123, 8133, 8134, 8140, 8141, 8143, 8148, 8152, 8164, 8175, 8181, 8188, 8190, 8197, 8201, 8204, 8211, 8215, 8234, 8246, 8281, 8285, 8286, 8288, 8293, 8317, 8323, 8335, 8336, 8339, 8340, 8342, 8346, 8347, 8350, 8361, 8362, 8367, 8372, 8379, 8383, 8385, 8387, 8391, 8395, 8397, 8400, 8401, 8423, 8425, 8426, 8428, 8433, 8436, 8448, 8451, 8453, 8458, 8463, 8469, 8477, 8487, 8495, 8505, 8514, 8515, 8520, 8521, 8523, 8536, 8542, 8545, 8549, 8559, 8563, 8585, 8586, 8592, 8621, 8626, 8640, 8646, 8647, 8649, 8652, 8657, 8658, 8660, 8667, 8670, 8674, 8679, 8688, 8696, 8704, 8712, 8714, 8723, 8728, 8730, 8736, 8738, 8740, 8741, 8756, 8761, 8766, 8773, 8776, 8785, 8787, 8796, 8798, 8802, 8810, 8813, 8821, 8828, 8831, 8834, 8843, 8845, 8846, 8850, 8853, 8862, 8868, 8879, 8887, 8893, 8903, 8904, 8905, 8910, 8911, 8918, 8927, 8929, 8931, 8936, 8945, 8953, 8956, 8960, 8962, 8978, 8992, 8994, 8995, 9002, 9015, 9018, 9021, 9027, 9035, 9037, 9039, 9054, 9058, 9061, 9064, 9066, 9078, 9082, 9087, 9101, 9115, 9121, 9131, 9136, 9140, 9147, 9149, 9152, 9154, 9157, 9158, 9159, 9162, 9167, 9172, 9178, 9180, 9192, 9194, 9202, 9215, 9235, 9240, 9246, 9249, 9259, 9266, 9295, 9300, 9304, 9322, 9323, 9324, 9344, 9348, 9360, 9367, 9370, 9376, 9385, 9395, 9399, 9400, 9421, 9428, 9430, 9434, 9452, 9457, 9467, 9469, 9470, 9482, 9486, 9494, 9495, 9496, 9497, 9498, 9501, 9509, 9510, 9539, 9543, 9557, 9561, 9579, 9580, 9584, 9586, 9587, 9592, 9600, 9604, 9608, 9624, 9633, 9635, 9639, 9641, 9655, 9663, 9665, 9671, 9676, 9682, 9690, 9723, 9732, 9740, 9744, 9750, 9758, 9763, 9764, 9771, 9774, 9775, 9790, 9792, 9795, 9796, 9798, 9820, 9829, 9850, 9854, 9857, 9859, 9861, 9862, 9867, 9869, 9876, 9884, 9886, 9893, 9904, 9910, 9920, 9924, 9927, 9939, 9950, 9961, 9968, 9976, 9983, 9991, 9993, 9999, 10000, 10019, 10024, 10027, 10038, 10044, 10049, 10051, 10057, 10060, 10075, 10082, 10091, 10093, 10096, 10108, 10122, 10125, 10126, 10129, 10142, 10146, 10156, 10165, 10169, 10173, 10191, 10195, 10204, 10207, 10216, 10218, 10231, 10233, 10235, 10236, 10237, 10239, 10241, 10242, 10244, 10245, 10251, 10254, 10266, 10272, 10273, 10284, 10285, 10289, 10296, 10299, 10301, 10314, 10318, 10320, 10323, 10329, 10332, 10337, 10339, 10351, 10356, 10360, 10366, 10369, 10380, 10399, 10406, 10411, 10413, 10416, 10424, 10432, 10453, 10461, 10462, 10463, 10466, 10471, 10473, 10476, 10482, 10489, 10503, 10506, 10514, 10520, 10526, 10527, 10530, 10536, 10546, 10559, 10564, 10565, 10572, 10575, 10582, 10583, 10585, 10586, 10592, 10598, 10601, 10604, 10608, 10626, 10630, 10632, 10634, 10645, 10666, 10668, 10671, 10673, 10678, 10683, 10686, 10689, 10693, 10697, 10701, 10703, 10728, 10739, 10741, 10742, 10746, 10748, 10753, 10763, 10764, 10780, 10781, 10786, 10797, 10800, 10812, 10818, 10830, 10843, 10846, 10870, 10873, 10887, 10890, 10893, 10897, 10916, 10932, 10933, 10940, 10944, 10960, 10968, 10971, 10979, 10983, 10995, 10997, 10999, 11001, 11011, 11012, 11015, 11019, 11025, 11028, 11037, 11041, 11049, 11054, 11065, 11066, 11069, 11087, 11092, 11093, 11094, 11097, 11111, 11113, 11118, 11125, 11137, 11150, 11153, 11162, 11169, 11170, 11176, 11187, 11198, 11215, 11218, 11225, 11231, 11238, 11249, 11253, 11256, 11262, 11269, 11292, 11294, 11301, 11302, 11308, 11317, 11320, 11321, 11326, 11332, 11333, 11342, 11343, 11352, 11366, 11370, 11383, 11384, 11401, 11407, 11409, 11422, 11434, 11435, 11439, 11475, 11493, 11508, 11524, 11527, 11538, 11541, 11545, 11548, 11549, 11552, 11556, 11562, 11569, 11574, 11585, 11587, 11588, 11589, 11590, 11598, 11600, 11604, 11609, 11619, 11626, 11627, 11631, 11634, 11637, 11646, 11654, 11665, 11675, 11685, 11687, 11689, 11698, 11699, 11705, 11707, 11716, 11720, 11723, 11725, 11726, 11731, 11741, 11752, 11764, 11770, 11775, 11777, 11784, 11797, 11800, 11802, 11803, 11810, 11826, 11839, 11849, 11853, 11861, 11862, 11863, 11874, 11878, 11881, 11885, 11892, 11900, 11901, 11903, 11905, 11911, 11915, 11917, 11918, 11925, 11933, 11947, 11958, 11959, 11960, 11971, 11983, 11984, 11985, 11991, 12012, 12015, 12022, 12023, 12056, 12062, 12079, 12094, 12100, 12104, 12106, 12110, 12123, 12141, 12142, 12148, 12152, 12153, 12161, 12177, 12181, 12195, 12196, 12208, 12211, 12223, 12228, 12230, 12240, 12241, 12256, 12266, 12269, 12277, 12289, 12290, 12291, 12299, 12301, 12305, 12306, 12308, 12309, 12312, 12313, 12317, 12321, 12325, 12329, 12331, 12344, 12350, 12359, 12374, 12378, 12386, 12387, 12402, 12412, 12414, 12418, 12428, 12431, 12436, 12438, 12467, 12473, 12479, 12480, 12504, 12506, 12507, 12508, 12514, 12521, 12537, 12539, 12543, 12548, 12549, 12555, 12564, 12565, 12568, 12594, 12601, 12603, 12604, 12609, 12612, 12616, 12623, 12625, 12626, 12627, 12630, 12640, 12650, 12668, 12670, 12671, 12672, 12674, 12675, 12680, 12684, 12687, 12698, 12700, 12702, 12710, 12718, 12720, 12728, 12740, 12745, 12746, 12759, 12763, 12775, 12783, 12785, 12789, 12808, 12810, 12820, 12842, 12843, 12856, 12878, 12882, 12888, 12893, 12894, 12905, 12911, 12912, 12914, 12917, 12918, 12920, 12933, 12937, 12939, 12943, 12947, 12949, 12955, 12957, 12979, 12983, 12986, 12987, 12991, 13007, 13010, 13013, 13016, 13017, 13022, 13033, 13035, 13045, 13057, 13070, 13085, 13088, 13102, 13103, 13106, 13111, 13112, 13121, 13128, 13139, 13151, 13157, 13170, 13173, 13182, 13183, 13191, 13203, 13213, 13214, 13215, 13225, 13226, 13231, 13233, 13244, 13246, 13247, 13249, 13250, 13255, 13271, 13275, 13277, 13287, 13288, 13289, 13291, 13294, 13304, 13306, 13312, 13313, 13315, 13324, 13326, 13351, 13353, 13369, 13372, 13395, 13398, 13399, 13400, 13403, 13418, 13422, 13423, 13437, 13438, 13444, 13453, 13460, 13463, 13464, 13466, 13468, 13482, 13490, 13493, 13495, 13496, 13506, 13512, 13514, 13520, 13523, 13525, 13527, 13530, 13535, 13536, 13537, 13538, 13541, 13546, 13551, 13553, 13556, 13562, 13567, 13570, 13572, 13574, 13576, 13593, 13594, 13605, 13606, 13614, 13616, 13646, 13652, 13665, 13673, 13674, 13682, 13683, 13686, 13694, 13696, 13704, 13705, 13712, 13718, 13720, 13746, 13758, 13769, 13774, 13779, 13792, 13801, 13806, 13817, 13819, 13826, 13832, 13839, 13846, 13850, 13856, 13868, 13874, 13877, 13885, 13893, 13905, 13907, 13908, 13910, 13915, 13916, 13924, 13944, 13947, 13972, 13978, 13980, 13984, 13991, 13996, 14010, 14015, 14018, 14020, 14040, 14042, 14045, 14048, 14056, 14059, 14062, 14064, 14066, 14068, 14081, 14091, 14098, 14101, 14111, 14123, 14133, 14139, 14157, 14172, 14177, 14183, 14188, 14192, 14209, 14213, 14220, 14231, 14235, 14240, 14245, 14247, 14252, 14258, 14267, 14272, 14288, 14289, 14305, 14321, 14326, 14329, 14333, 14335, 14339, 14343, 14351, 14355, 14359, 14360, 14363, 14364, 14372, 14373, 14379, 14385, 14394, 14397, 14401, 14406, 14414, 14423, 14425, 14430, 14434, 14436, 14442, 14445, 14458, 14475, 14477, 14482, 14490, 14497, 14506, 14513, 14516, 14518, 14529, 14530, 14535, 14540, 14551, 14558, 14563, 14567, 14577, 14586, 14590, 14602, 14606, 14608, 14619, 14629, 14643, 14651, 14655, 14658, 14659, 14660, 14668, 14669, 14675, 14681, 14694, 14702, 14706, 14707, 14709, 14727, 14732, 14758, 14759, 14765, 14766, 14774, 14800, 14809, 14811, 14812, 14816, 14819, 14820, 14821, 14824, 14829, 14833, 14856, 14858, 14872, 14875, 14879, 14881, 14896, 14901, 14904, 14921, 14922, 14923, 14937, 14939, 14941, 14945, 14947, 14949, 14957, 14961, 14964, 14974, 14976, 14979, 14982, 14989, 14990, 14996, 15000, 15001, 15006, 15008, 15012, 15025, 15026, 15030, 15031, 15038, 15040, 15047, 15049, 15059, 15064, 15071, 15084, 15097, 15098, 15110, 15112, 15127, 15133, 15135, 15142, 15143, 15146, 15155, 15166, 15167, 15168, 15170, 15173, 15186, 15198, 15206, 15208, 15210, 15212, 15215, 15219, 15231, 15233, 15236, 15238, 15241, 15242, 15252, 15259, 15260, 15264, 15290, 15293, 15298, 15307, 15311, 15318, 15323, 15327, 15331, 15333, 15337, 15343, 15347, 15350, 15351, 15354, 15359, 15368, 15374, 15375, 15379, 15390, 15391, 15392, 15401, 15402, 15403, 15411, 15421, 15434, 15435, 15441, 15448, 15449, 15485, 15496, 15511, 15517, 15525, 15527, 15535, 15537, 15540, 15554, 15570, 15574, 15575, 15583, 15588, 15593, 15602, 15614, 15615, 15616, 15629, 15631, 15646, 15649, 15651, 15655, 15658, 15670, 15672, 15680, 15686, 15697, 15698, 15700, 15701, 15716, 15717, 15718, 15726, 15733, 15745, 15767, 15768, 15770, 15772, 15773, 15779, 15786, 15787, 15788, 15794, 15799, 15800, 15807, 15810, 15812, 15818, 15825, 15829, 15832, 15849, 15850, 15855, 15856, 15862, 15863, 15864, 15865, 15867, 15869, 15878, 15882, 15887, 15892, 15895, 15903, 15916, 15921, 15924, 15929, 15938, 15940, 15948, 15949, 15958, 15963, 15966, 15967, 15971, 15983, 15991, 15995, 16000, 16005, 16008, 16014, 16016, 16017, 16022, 16039, 16046, 16050, 16052, 16068, 16069, 16076, 16080, 16085, 16089, 16111, 16113, 16124, 16126, 16131, 16133, 16135, 16136, 16143, 16148, 16156, 16158, 16165, 16170, 16178, 16187, 16203, 16205, 16211, 16212, 16216, 16217, 16221, 16229, 16231, 16234, 16235, 16245, 16255, 16270, 16271, 16272, 16277, 16284, 16295, 16306, 16310, 16318, 16321, 16322, 16325, 16326, 16333, 16338, 16349, 16358, 16385, 16386, 16387, 16388, 16400, 16408, 16427, 16428, 16433, 16442, 16444, 16446, 16454, 16455, 16462, 16465, 16467, 16472, 16490, 16499, 16505, 16511, 16526, 16535, 16539, 16552, 16555, 16565, 16571, 16593, 16595, 16596, 16602, 16603, 16617, 16628, 16629, 16631, 16632, 16638, 16649, 16651, 16665, 16671, 16674, 16677, 16679, 16689, 16699, 16711, 16714, 16719, 16724, 16735, 16742, 16744, 16745, 16748, 16751, 16752, 16760, 16768, 16776, 16785, 16793, 16801, 16802, 16813, 16815, 16821, 16822, 16823, 16827, 16831, 16836, 16841, 16851, 16871, 16877, 16896, 16897, 16903, 16906, 16907, 16911, 16914, 16915, 16918, 16920, 16928, 16929, 16933, 16941, 16947, 16951, 16952, 16956, 16961, 16964, 16968, 16970, 16971, 16972, 16978, 16986, 16999, 17005, 17015, 17017, 17029, 17031, 17036, 17041, 17046, 17060, 17067, 17069, 17071, 17083, 17099, 17103, 17104, 17113, 17116, 17121, 17137, 17145, 17149, 17168, 17169, 17172, 17177, 17180, 17184, 17189, 17190, 17200, 17202, 17204, 17205, 17211, 17213, 17224, 17227, 17229, 17248, 17249, 17256, 17258, 17259, 17275, 17278, 17279, 17281, 17284, 17292, 17294, 17295, 17297, 17307, 17309, 17327, 17334, 17339, 17356, 17357, 17359, 17364, 17372, 17376, 17377, 17391, 17394, 17397, 17402, 17405, 17418, 17420, 17436, 17441, 17442, 17446, 17457, 17459, 17474, 17477, 17478, 17480, 17484, 17485, 17491, 17495, 17499, 17502, 17514, 17531, 17534, 17537, 17541, 17543, 17560, 17572, 17573, 17576, 17577, 17580, 17587, 17588, 17609, 17628, 17636, 17659, 17661, 17673, 17679, 17682, 17685, 17697, 17711, 17717, 17728, 17733, 17749, 17757, 17776, 17778, 17787, 17806, 17810, 17814, 17817, 17820, 17822, 17823, 17832, 17839, 17840, 17851, 17854, 17868, 17871, 17873, 17882, 17887, 17896, 17902, 17906, 17914, 17915, 17929, 17930, 17932, 17935, 17937, 17953, 17962, 17967, 17969, 17976, 17977, 17988, 17998, 18003, 18005, 18014, 18016, 18034, 18037, 18044, 18049, 18053, 18054, 18064, 18074, 18095, 18097, 18099, 18116, 18128, 18147, 18153, 18159, 18160, 18163, 18164, 18165, 18180, 18186, 18192, 18193, 18201, 18209, 18213, 18215, 18224, 18226, 18229, 18230, 18246, 18251, 18252, 18253, 18256, 18265, 18275, 18276, 18277, 18280, 18284, 18286, 18300, 18317, 18324, 18326, 18337, 18340, 18341, 18342, 18355, 18357, 18368, 18370, 18376, 18384, 18389, 18391, 18401, 18409, 18429, 18432, 18443, 18445, 18448, 18449, 18450, 18451, 18454, 18461, 18464, 18465, 18468, 18470, 18473, 18474, 18475, 18482, 18484, 18487, 18488, 18491, 18496, 18500, 18503, 18505, 18506, 18523, 18525, 18542, 18545, 18547, 18549, 18552, 18553, 18554, 18570, 18574, 18575, 18584, 18588, 18589, 18591, 18594, 18606, 18618, 18622, 18623, 18637, 18643, 18645, 18652, 18655, 18660, 18667, 18675, 18679, 18680, 18681, 18685, 18698, 18699, 18700, 18707, 18713, 18714, 18721, 18723, 18731, 18734, 18739, 18774, 18776, 18784, 18785, 18786, 18793, 18807, 18812, 18817, 18826, 18849, 18852, 18865, 18867, 18878, 18894, 18897, 18904, 18908, 18912, 18920, 18928, 18931, 18938, 18942, 18947, 18948, 18950, 18966, 18977, 18982, 18988, 18997, 19001, 19002, 19008, 19012, 19015, 19049, 19052, 19063, 19075, 19084, 19090, 19094, 19099, 19113, 19120, 19121, 19126, 19129, 19153, 19158, 19161, 19170, 19173, 19180, 19184, 19188, 19192, 19197, 19206, 19208, 19209, 19218, 19220, 19225, 19241, 19242, 19250, 19259, 19287, 19289, 19290, 19296, 19298, 19308, 19332, 19342, 19343, 19345, 19356, 19379, 19381, 19383, 19387, 19393, 19394, 19395, 19413, 19415, 19429, 19451, 19469, 19476, 19478, 19484, 19488, 19489, 19491, 19492, 19493, 19501, 19504, 19507, 19516, 19517, 19522, 19529, 19533, 19554, 19555, 19558, 19575, 19578, 19582, 19587, 19598, 19602, 19612, 19613, 19614, 19625, 19630, 19631, 19633, 19645, 19646, 19649, 19681, 19692, 19694, 19703, 19714, 19733, 19743, 19744, 19745, 19746, 19750, 19751, 19752, 19754, 19756, 19757, 19764, 19771, 19773, 19774, 19775, 19780, 19829, 19832, 19833, 19835, 19840, 19850, 19851, 19860, 19861, 19868, 19869, 19879, 19885, 19888, 19893, 19902, 19903, 19905, 19908, 19914, 19917, 19918, 19920, 19923, 19927, 19937, 19939, 19946, 19959, 19965, 19968, 19969, 19976, 19978, 19987, 19998, 20003, 20007, 20010, 20024, 20025, 20026, 20027, 20033, 20035, 20041, 20043, 20048, 20064, 20088, 20096, 20099, 20103, 20106, 20110, 20114, 20121, 20122, 20128, 20133, 20136, 20140, 20144, 20149, 20184, 20186, 20190, 20199, 20201, 20221, 20222, 20226, 20228, 20237, 20251, 20254, 20257, 20264, 20265, 20270, 20271, 20285, 20294, 20300, 20316, 20328, 20359, 20360, 20361, 20362, 20365, 20367, 20377, 20384, 20387, 20389, 20390, 20400, 20403, 20404, 20408, 20410, 20414, 20426, 20452, 20455, 20457, 20461, 20462, 20469, 20470, 20477, 20488, 20491, 20499, 20510, 20511, 20519, 20527, 20528, 20531, 20532, 20534, 20540, 20544, 20553, 20565, 20573, 20578, 20579, 20592, 20599, 20600, 20613, 20621, 20623, 20631, 20632, 20642, 20643, 20647, 20652, 20656, 20664, 20681, 20682, 20684, 20690, 20703, 20708, 20723, 20726, 20746, 20748, 20750, 20751, 20752, 20754, 20758, 20759, 20761, 20762, 20779, 20794, 20796, 20800, 20803, 20810, 20824, 20835, 20842, 20844, 20852, 20858, 20863, 20897, 20912, 20916, 20917, 20918, 20924, 20930, 20932, 20939, 20946, 20961, 20973, 20994, 20995, 20996, 20997, 20998, 21000, 21001, 21002, 21010, 21022, 21029, 21032, 21037, 21044, 21049, 21050, 21053, 21054, 21061, 21068, 21075, 21076, 21078, 21089, 21091, 21092, 21103, 21110, 21119, 21133, 21134, 21136, 21137, 21138, 21144, 21149, 21152, 21157, 21159, 21172, 21178, 21180, 21183, 21186, 21189, 21193, 21195, 21211, 21221, 21227, 21231, 21232, 21236, 21243, 21252, 21260, 21269, 21273, 21284, 21304, 21312, 21316, 21330, 21337, 21354, 21358, 21362, 21363, 21373, 21375, 21377, 21388, 21391, 21395, 21401, 21407, 21408, 21445, 21450, 21455, 21456, 21459, 21461, 21463, 21465, 21479, 21480, 21485, 21487, 21489, 21491, 21494, 21496, 21503, 21505, 21506, 21518, 21528, 21532, 21538, 21540, 21551, 21556, 21562, 21563, 21564, 21568, 21573, 21599, 21604, 21605, 21606, 21613, 21614, 21615, 21618, 21622, 21633, 21635, 21643, 21644, 21654, 21658, 21660, 21663, 21667, 21672, 21673, 21675, 21679, 21683, 21691, 21697, 21700, 21706, 21716, 21727, 21735, 21753, 21754, 21758, 21759, 21765, 21773, 21777, 21788, 21790, 21797, 21816, 21818, 21821, 21826, 21829, 21830, 21834, 21839, 21843, 21856, 21871, 21876, 21887, 21888, 21915, 21916, 21921, 21922, 21924, 21926, 21927, 21928, 21931, 21932, 21933, 21945, 21961, 21962, 21974, 21984, 21992, 22000, 22002, 22003, 22004, 22036, 22038, 22049, 22059, 22073, 22104, 22120, 22127, 22129, 22138, 22142, 22143, 22145, 22147, 22150, 22158, 22167, 22173, 22176, 22182, 22186, 22187, 22213, 22216, 22217, 22230, 22244, 22247, 22253, 22255, 22258, 22259, 22262, 22263, 22275, 22283, 22284, 22303, 22315, 22316, 22324, 22326, 22337, 22358, 22359, 22362, 22364, 22365, 22367, 22368, 22377, 22382, 22394, 22396, 22402, 22416, 22423, 22440, 22443, 22450, 22465, 22470, 22485, 22489, 22501, 22511, 22522, 22535, 22539, 22542, 22543, 22548, 22551, 22560, 22565, 22566, 22569, 22572, 22576, 22579, 22584, 22585, 22592, 22598, 22603, 22614, 22618, 22621, 22629, 22641, 22643, 22648, 22670, 22673, 22676, 22689, 22693, 22708, 22712, 22725, 22732, 22741, 22757, 22759, 22761, 22764, 22768, 22786, 22801, 22805, 22806, 22810, 22818, 22821, 22822, 22825, 22826, 22830, 22831, 22836, 22837, 22840, 22843, 22844, 22850, 22854, 22856, 22878, 22888, 22893, 22894, 22895, 22904, 22914, 22915, 22917, 22924, 22936, 22944, 22951, 22976, 22997, 22998, 23001, 23006, 23008, 23012, 23014, 23017, 23025, 23036, 23044, 23048, 23055, 23058, 23065, 23070, 23072, 23077, 23096, 23097, 23109, 23111, 23128, 23131, 23138, 23139, 23145, 23148, 23156, 23162, 23168, 23182, 23191, 23199, 23200, 23206, 23208, 23210, 23213, 23231, 23239, 23242, 23244, 23247, 23265, 23269, 23273, 23279, 23280, 23281, 23289, 23290, 23292, 23306, 23328, 23340, 23348, 23349, 23355, 23360, 23369, 23370, 23386, 23396, 23398, 23404, 23408, 23412, 23415, 23417, 23420, 23422, 23430, 23435, 23437, 23438, 23446, 23453, 23457, 23471, 23474, 23487, 23504, 23505, 23517, 23531, 23533, 23535, 23549, 23554, 23568, 23578, 23590, 23594, 23601, 23604, 23605, 23610, 23612, 23625, 23630, 23634, 23637, 23648, 23655, 23656, 23664, 23667, 23681, 23684, 23706, 23719, 23720, 23721, 23724, 23733, 23744, 23749, 23756, 23762, 23776, 23778, 23781, 23791, 23799, 23803, 23806, 23815, 23820, 23825, 23831, 23832, 23841, 23846, 23859, 23871, 23876, 23884, 23901, 23917, 23918, 23922, 23924, 23933, 23935, 23936, 23939, 23946, 23954, 23963, 23966, 23972, 23977, 23979, 23991, 23996, 24008, 24010, 24011, 24012, 24016, 24019, 24027, 24030, 24033, 24034, 24039, 24041, 24044, 24049, 24051, 24052, 24055, 24058, 24070, 24083, 24092, 24102, 24110, 24126, 24133, 24154, 24164, 24165, 24175, 24180, 24197, 24198, 24202, 24209, 24223, 24235, 24238, 24240, 24250, 24261, 24266, 24267, 24274, 24277, 24282, 24295, 24297, 24298, 24299, 24306, 24307, 24311, 24317, 24323, 24324, 24331, 24335, 24337, 24338, 24343, 24350, 24357, 24371, 24380, 24383, 24389, 24392, 24395, 24405, 24418, 24424, 24425, 24428, 24445, 24453, 24458, 24472, 24473, 24476, 24477, 24485, 24496, 24511, 24516, 24522, 24523, 24536, 24544, 24549, 24557, 24571, 24577, 24579, 24581, 24587, 24588, 24593, 24596, 24598, 24601, 24611, 24613, 24622, 24645, 24655, 24656, 24664, 24669, 24675, 24676, 24680, 24683, 24699, 24706, 24720, 24722, 24738, 24739, 24762, 24768, 24779, 24783, 24784, 24816, 24818, 24824, 24831, 24837, 24850, 24851, 24870, 24871, 24872, 24876, 24880, 24886, 24889, 24896, 24897, 24901, 24904, 24911, 24930, 24943, 24946, 24947, 24960, 24961, 24971, 24972, 24983, 24986, 24994, 24999, 25009, 25019, 25031, 25036, 25042, 25044, 25049, 25053, 25054, 25062, 25086, 25088, 25097, 25109, 25123, 25124, 25128, 25136, 25138, 25142, 25144, 25152, 25164, 25165, 25169, 25187, 25192, 25193, 25209, 25210, 25211, 25219, 25222, 25223, 25225, 25230, 25238, 25244, 25249, 25259, 25261, 25263, 25268, 25279, 25283, 25292, 25293, 25295, 25296, 25302, 25305, 25306, 25321, 25328, 25329, 25330, 25371, 25387, 25394, 25405, 25421, 25428, 25429, 25432, 25433, 25440, 25445, 25446, 25452, 25468, 25469, 25471, 25478, 25480, 25495, 25506, 25515, 25518, 25520, 25523, 25525, 25527, 25550, 25554, 25563, 25566, 25575, 25577, 25580, 25592, 25597, 25598, 25599, 25602, 25615, 25622, 25625, 25638, 25644, 25647, 25666, 25674, 25681, 25693, 25712, 25714, 25719, 25723, 25747, 25757, 25794, 25795, 25798, 25803, 25805, 25810, 25813, 25816, 25817, 25828, 25829, 25836, 25846, 25851, 25853, 25854, 25855, 25857, 25874, 25885, 25886, 25889, 25894, 25897, 25901, 25902, 25903, 25906, 25923, 25937, 25941, 25950, 25957, 25962, 25971, 25981, 25984, 25986, 25988, 25998, 26015, 26022, 26033, 26035, 26041, 26042, 26044, 26050, 26077, 26079, 26082, 26084, 26085, 26090, 26092, 26114, 26132, 26135, 26136, 26143, 26144, 26155, 26161, 26169, 26171, 26172, 26174, 26179, 26184, 26187, 26188, 26194, 26195, 26205, 26209, 26212, 26220, 26222, 26223, 26224, 26225, 26227, 26229, 26231, 26233, 26237, 26250, 26251, 26257, 26260, 26261, 26283, 26291, 26299, 26301, 26304, 26305, 26306, 26308, 26318, 26322, 26325, 26332, 26334, 26335, 26341, 26362, 26364, 26366, 26371, 26376, 26383, 26384, 26387, 26394, 26395, 26399, 26408, 26417, 26420, 26428, 26442, 26443, 26445, 26450, 26453, 26458, 26459, 26469, 26482, 26486, 26487, 26495, 26499, 26504, 26505, 26512, 26518, 26526, 26530, 26546, 26547, 26551, 26556, 26560, 26564, 26579, 26581, 26582, 26590, 26595, 26601, 26622, 26623, 26630, 26641, 26658, 26671, 26673, 26675, 26699, 26701, 26710, 26713, 26717, 26727, 26735, 26739, 26740, 26744, 26745, 26747, 26764, 26773, 26778, 26786, 26794, 26797, 26801, 26807, 26813, 26816, 26830, 26831, 26832, 26842, 26845, 26847, 26860, 26867, 26878, 26883, 26887, 26890, 26894, 26904, 26905, 26907, 26912, 26915, 26918, 26919, 26931, 26936, 26948, 26952, 26957, 26973, 26974, 26976, 26977, 26978, 26980, 26982, 26985, 26987, 27000, 27043, 27047, 27050, 27051, 27054, 27056, 27060, 27065, 27066, 27079, 27082, 27094, 27102, 27103, 27109, 27120, 27128, 27132, 27133, 27134, 27139, 27151, 27159, 27167, 27172, 27188, 27189, 27194, 27201, 27206, 27216, 27218, 27222, 27236, 27241, 27242, 27249, 27252, 27257, 27270, 27281, 27289, 27292, 27294, 27297, 27303, 27305, 27306, 27311, 27313, 27326, 27334, 27335, 27341, 27357, 27367, 27387, 27390, 27394, 27396, 27401, 27409, 27411, 27418, 27420, 27424, 27427, 27428, 27430, 27439, 27450, 27458, 27463, 27466, 27470, 27485, 27492, 27496, 27500, 27503, 27507, 27508, 27509, 27511, 27512, 27515, 27519, 27530, 27535, 27545, 27546, 27564, 27569, 27571, 27572, 27573, 27577, 27585, 27586, 27592, 27594, 27598, 27601, 27605, 27607, 27609, 27613, 27614, 27619, 27620, 27621, 27625, 27634, 27645, 27648, 27651, 27654, 27658, 27680, 27693, 27696, 27697, 27718, 27722, 27728, 27736, 27738, 27740, 27742, 27752, 27753, 27754, 27768, 27774, 27782, 27784, 27786, 27787, 27788, 27797, 27798, 27802, 27803, 27809, 27811, 27821, 27826, 27831, 27839, 27843, 27844, 27846, 27851, 27866, 27875, 27900, 27901, 27907, 27909, 27915, 27916, 27918, 27925, 27926, 27935, 27936, 27943, 27947, 27951, 27954, 27961, 27962, 27970, 27971, 27973, 27979, 27986, 27989, 27991, 27993, 27996, 28000, 28024, 28025, 28026, 28048, 28049, 28053, 28061, 28062, 28067, 28071, 28073, 28077, 28091, 28092, 28096, 28098, 28101, 28105, 28110, 28112, 28127, 28130, 28134, 28135, 28150, 28151, 28153, 28156, 28158, 28164, 28167, 28172, 28178, 28192, 28201, 28216, 28219, 28222, 28233, 28234, 28265, 28267, 28277, 28281, 28282, 28287, 28291, 28299, 28301, 28303, 28308, 28309, 28312, 28320, 28337, 28339, 28351, 28354, 28355, 28362, 28366, 28373, 28381, 28383, 28384, 28392, 28403, 28408, 28410, 28416, 28436, 28449, 28452, 28458, 28468, 28469, 28473, 28485, 28489, 28498, 28499, 28514, 28525, 28530, 28541, 28545, 28550, 28551, 28559, 28561, 28572, 28580, 28581, 28594, 28607, 28614, 28618, 28631, 28634, 28637, 28640, 28655, 28659, 28666, 28672, 28705, 28708, 28710, 28713, 28715, 28716, 28725, 28743, 28757, 28769, 28775, 28776, 28789, 28791, 28819, 28832, 28845, 28848, 28849, 28864, 28878, 28879, 28887, 28889, 28894, 28917, 28920, 28929, 28931, 28932, 28940, 28949, 28963, 28968, 28974, 28989, 28995, 28998, 29013, 29015, 29020, 29025, 29028, 29035, 29039, 29042, 29043, 29044, 29045, 29060, 29061, 29062, 29073, 29079, 29094, 29096, 29102, 29103, 29122, 29125, 29128, 29141, 29142, 29151, 29155, 29158, 29161, 29178, 29181, 29182, 29185, 29191, 29198, 29202, 29204, 29225, 29234, 29237, 29251, 29257, 29259, 29267, 29275, 29280, 29285, 29288, 29298, 29301, 29314, 29316, 29336, 29340, 29349, 29350, 29354, 29357, 29363, 29366, 29368, 29372, 29373, 29376, 29381, 29383, 29386, 29398, 29419, 29428, 29436, 29470, 29487, 29496, 29513, 29523, 29537, 29539, 29542, 29547, 29582, 29587, 29593, 29599, 29600, 29603, 29618, 29622, 29626, 29633, 29638, 29649, 29650, 29652, 29653, 29667, 29669, 29671, 29674, 29675, 29680, 29683, 29703, 29709, 29710, 29718, 29724, 29728, 29735, 29736, 29738, 29742, 29749, 29750, 29752, 29759, 29778, 29787, 29788, 29789, 29795, 29796, 29798, 29834, 29844, 29845, 29848, 29874, 29875, 29879, 29894, 29897, 29899, 29900, 29901, 29911, 29914, 29915, 29932, 29938, 29940, 29943, 29965, 29975, 29994, 29995, 30002, 30008, 30009, 30010, 30011, 30017, 30018, 30019, 30023, 30025, 30028, 30031, 30049, 30055, 30061, 30062, 30064, 30068, 30071, 30074, 30075, 30077, 30088, 30089, 30092, 30103, 30112, 30115, 30119, 30121, 30122, 30134, 30135, 30137, 30140, 30141, 30144, 30150, 30158, 30162, 30164, 30166, 30167, 30170, 30177, 30180, 30210, 30213, 30214, 30224, 30229, 30238, 30251, 30256, 30262, 30264, 30275, 30279, 30286, 30287, 30292, 30296, 30300, 30303, 30314, 30315, 30317, 30321, 30323, 30325, 30326, 30331, 30344, 30347, 30366, 30369, 30371, 30377, 30379, 30396, 30407, 30409, 30416, 30443, 30464, 30471, 30473, 30481, 30486, 30488, 30500, 30507, 30508, 30525, 30532, 30535, 30549, 30551, 30552, 30553, 30564, 30570, 30572, 30573, 30578, 30584, 30602, 30605, 30609, 30624, 30631, 30633, 30638, 30656, 30658, 30659, 30668, 30703, 30706, 30715, 30728, 30734, 30736, 30742, 30747, 30749, 30754, 30778, 30789, 30791, 30793, 30796, 30799, 30809, 30811, 30815, 30818, 30821, 30822, 30829, 30830, 30839, 30848, 30850, 30857, 30871, 30876, 30883, 30887, 30888, 30889, 30892, 30895, 30897, 30898, 30905, 30911, 30921, 30927, 30935, 30948, 30951, 30952, 30965, 30969, 30970, 30981, 30983, 30987, 31008, 31009, 31018, 31027, 31034, 31035, 31037, 31047, 31052, 31053, 31061, 31063, 31078, 31081, 31087, 31108, 31109, 31111, 31115, 31135, 31136, 31139, 31154, 31172, 31173, 31185, 31187, 31188, 31189, 31191, 31221, 31224, 31232, 31233, 31234, 31238, 31239, 31250, 31259, 31260, 31262, 31271, 31274, 31298, 31314, 31317, 31319, 31321, 31322, 31323, 31328, 31339, 31342, 31344, 31368, 31385, 31388, 31389, 31410, 31414, 31418, 31421, 31424, 31439, 31441, 31442, 31451, 31459, 31471, 31472, 31474, 31479, 31482, 31490, 31493, 31495, 31499, 31501, 31505, 31508, 31518, 31538, 31543, 31552, 31553, 31561, 31583, 31592, 31606, 31611, 31613, 31615, 31620, 31625, 31629, 31631, 31634, 31638, 31658, 31663, 31665, 31671, 31674, 31678, 31683, 31687, 31698, 31708, 31713, 31716, 31718, 31722, 31725, 31727, 31728, 31736, 31743, 31747, 31748, 31759, 31760, 31794, 31801, 31814, 31833, 31835, 31836, 31840, 31852, 31865, 31874, 31875, 31877, 31880, 31893, 31899, 31903, 31907, 31908, 31922, 31923, 31924, 31926, 31929, 31931, 31940, 31947, 31952, 31960, 31963, 31965, 31969, 31972, 31982, 31990, 32001, 32005, 32011, 32020, 32022, 32026, 32027, 32036, 32045, 32046, 32048, 32055, 32058, 32074, 32075, 32079, 32082, 32083, 32085, 32087, 32088, 32098, 32104, 32107, 32113, 32116, 32120, 32122, 32124, 32129, 32133, 32136, 32148, 32151, 32156, 32160, 32167, 32180, 32188, 32189, 32197, 32199, 32208, 32209, 32211, 32212, 32216, 32218, 32219, 32222, 32231, 32233, 32242, 32244, 32245, 32251, 32254, 32271, 32276, 32283, 32285, 32286, 32301, 32309, 32312, 32313, 32314, 32322, 32327, 32328, 32351, 32353, 32361, 32364, 32367, 32371, 32383, 32392, 32402, 32423, 32432, 32434, 32438, 32442, 32447, 32452, 32468, 32470, 32476, 32477, 32479, 32484, 32507, 32512, 32516, 32527, 32534, 32545, 32546, 32548, 32554, 32557]\n"
     ]
    }
   ],
   "source": [
    "outliers_above1 = under_50k_clean_df[under_50k_clean_df[\"education.num\"] > upper_bound1].index.tolist()\n",
    "print(outliers_above1)"
   ]
  },
  {
   "cell_type": "code",
   "execution_count": 24,
   "metadata": {},
   "outputs": [
    {
     "data": {
      "text/plain": [
       "(16151, 15)"
      ]
     },
     "execution_count": 24,
     "metadata": {},
     "output_type": "execute_result"
    }
   ],
   "source": [
    "under_50k_clean_df=under_50k_clean_df.drop(outliers_above1)\n",
    "under_50k_clean_df.shape"
   ]
  },
  {
   "cell_type": "code",
   "execution_count": 25,
   "metadata": {},
   "outputs": [],
   "source": [
    "education_over_50k_clean = over_50k_clean_df[\"education.num\"]\n",
    "education_under_50k_clean = under_50k_clean_df[\"education.num\"]"
   ]
  },
  {
   "cell_type": "code",
   "execution_count": 26,
   "metadata": {},
   "outputs": [
    {
     "data": {
      "image/png": "[encoded data removed]",
      "text/plain": [
       "<Figure size 432x288 with 1 Axes>"
      ]
     },
     "metadata": {
      "needs_background": "light"
     },
     "output_type": "display_data"
    }
   ],
   "source": [
    "graph = [education_over_50k_clean, education_under_50k_clean]\n",
    "labels = [\"Over 50k income\", \"Under 50k income\"]\n",
    "fig1, ax1 = plt.subplots()\n",
    "ax1.set_title(\"Educational attainment for over and under 50k income\")\n",
    "ax1.set_ylabel(\"Educational attainment\")\n",
    "ax1.boxplot(graph, labels=labels)\n",
    "plt.show()"
   ]
  },
  {
   "cell_type": "code",
   "execution_count": 27,
   "metadata": {},
   "outputs": [
    {
     "data": {
      "text/plain": [
       "Ttest_indResult(statistic=85.56558323984719, pvalue=0.0)"
      ]
     },
     "execution_count": 27,
     "metadata": {},
     "output_type": "execute_result"
    }
   ],
   "source": [
    "stats.ttest_ind(education_over_50k_clean, education_under_50k_clean, equal_var=False)"
   ]
  },
  {
   "cell_type": "markdown",
   "metadata": {},
   "source": [
    "# Workhours"
   ]
  },
  {
   "cell_type": "code",
   "execution_count": 28,
   "metadata": {},
   "outputs": [],
   "source": [
    "workhours_over_50k = replaced_df[\"hours.per.week\"][replaced_df[\"income\"] == \">50K\"]\n",
    "workhours_under_50k = replaced_df[\"hours.per.week\"][replaced_df[\"income\"] == \"<=50K\"]"
   ]
  },
  {
   "cell_type": "code",
   "execution_count": 29,
   "metadata": {},
   "outputs": [
    {
     "data": {
      "image/png": "[encoded data removed]",
      "text/plain": [
       "<Figure size 432x288 with 1 Axes>"
      ]
     },
     "metadata": {
      "needs_background": "light"
     },
     "output_type": "display_data"
    }
   ],
   "source": [
    "graph = [workhours_over_50k, workhours_under_50k]\n",
    "labels = [\"Over 50k income\", \"Under 50k income\"]\n",
    "fig1, ax1 = plt.subplots()\n",
    "ax1.set_title(\"Hours worked per week for over and under 50k income\")\n",
    "ax1.set_ylabel(\"Hours worked per week\")\n",
    "ax1.boxplot(graph, labels=labels)\n",
    "plt.show()"
   ]
  },
  {
   "cell_type": "code",
   "execution_count": 30,
   "metadata": {},
   "outputs": [
    {
     "data": {
      "text/plain": [
       "Ttest_indResult(statistic=45.123095093109875, pvalue=0.0)"
      ]
     },
     "execution_count": 30,
     "metadata": {},
     "output_type": "execute_result"
    }
   ],
   "source": [
    "stats.ttest_ind(workhours_over_50k, workhours_under_50k, equal_var=False)"
   ]
  },
  {
   "cell_type": "markdown",
   "metadata": {},
   "source": [
    "# Age"
   ]
  },
  {
   "cell_type": "code",
   "execution_count": 34,
   "metadata": {},
   "outputs": [],
   "source": [
    "age_over_50k = over_50k_df[\"age\"]\n",
    "age_under_50k = under_50k_df[\"age\"]"
   ]
  },
  {
   "cell_type": "code",
   "execution_count": 35,
   "metadata": {},
   "outputs": [
    {
     "data": {
      "image/png": "[encoded data removed]",
      "text/plain": [
       "<Figure size 432x288 with 1 Axes>"
      ]
     },
     "metadata": {
      "needs_background": "light"
     },
     "output_type": "display_data"
    }
   ],
   "source": [
    "graph = [age_over_50k, age_under_50k]\n",
    "labels = [\"Over 50k income\", \"Under 50k income\"]\n",
    "fig1, ax1 = plt.subplots()\n",
    "ax1.set_title(\"Age for over and under 50k income\")\n",
    "ax1.set_ylabel(\"Age\")\n",
    "ax1.boxplot(graph, labels=labels)\n",
    "plt.show()"
   ]
  },
  {
   "cell_type": "code",
   "execution_count": 36,
   "metadata": {},
   "outputs": [
    {
     "data": {
      "text/plain": [
       "Ttest_indResult(statistic=50.264210024707836, pvalue=0.0)"
      ]
     },
     "execution_count": 36,
     "metadata": {},
     "output_type": "execute_result"
    }
   ],
   "source": [
    "stats.ttest_ind(age_over_50k, age_under_50k, equal_var=False)"
   ]
  },
  {
   "cell_type": "markdown",
   "metadata": {},
   "source": [
    "# Age and Education correlation"
   ]
  },
  {
   "cell_type": "code",
   "execution_count": 39,
   "metadata": {},
   "outputs": [],
   "source": [
    "age = replaced_df[\"age\"]"
   ]
  },
  {
   "cell_type": "code",
   "execution_count": 40,
   "metadata": {},
   "outputs": [],
   "source": [
    "education = replaced_df[\"education.num\"]"
   ]
  },
  {
   "cell_type": "code",
   "execution_count": 44,
   "metadata": {},
   "outputs": [
    {
     "name": "stdout",
     "output_type": "stream",
     "text": [
      "The r-squared is: 0.001334235570146718\n"
     ]
    },
    {
     "data": {
      "image/png": "[encoded data removed]",
      "text/plain": [
       "<Figure size 432x288 with 1 Axes>"
      ]
     },
     "metadata": {
      "needs_background": "light"
     },
     "output_type": "display_data"
    }
   ],
   "source": [
    "x_values = age\n",
    "y_values = education\n",
    "(slope, intercept, rvalue, pvalue, stderr) = linregress(x_values, y_values)\n",
    "regress_values = x_values * slope + intercept\n",
    "line_eq = \"y = \" + str(round(slope,2)) + \"x + \" + str(round(intercept,2))\n",
    "print(f\"The r-squared is: {rvalue**2}\")\n",
    "plt.scatter(x_values,y_values)\n",
    "plt.plot(x_values,regress_values,\"r-\")\n",
    "plt.annotate(line_eq,(70,2),fontsize=15,color=\"red\")\n",
    "plt.title(\"Age vs. Educational Attainment\")\n",
    "plt.xlabel(\"Age\")\n",
    "plt.ylabel(\"Educational Attainment\")\n",
    "plt.show()"
   ]
  },
  {
   "cell_type": "markdown",
   "metadata": {},
   "source": [
    "# Workplace type employment"
   ]
  },
  {
   "cell_type": "code",
   "execution_count": 48,
   "metadata": {},
   "outputs": [],
   "source": [
    "workclass_over_50k = over_50k_df[\"workclass\"].value_counts()"
   ]
  },
  {
   "cell_type": "code",
   "execution_count": 49,
   "metadata": {},
   "outputs": [
    {
     "data": {
      "image/png": "[encoded data removed]",
      "text/plain": [
       "<Figure size 432x288 with 1 Axes>"
      ]
     },
     "metadata": {},
     "output_type": "display_data"
    }
   ],
   "source": [
    "workclass_over_50k.plot(kind=\"pie\", autopct=\"%1.1f%%\")\n",
    "plt.title(\"Over 50k Income by Workclass\")\n",
    "plt.ylabel(\"\")\n",
    "plt.show()"
   ]
  },
  {
   "cell_type": "code",
   "execution_count": 50,
   "metadata": {},
   "outputs": [],
   "source": [
    "workclass_under_50k = under_50k_df[\"workclass\"].value_counts()"
   ]
  },
  {
   "cell_type": "markdown",
   "metadata": {},
   "source": [
    "# Income by workclass"
   ]
  },
  {
   "cell_type": "markdown",
   "metadata": {},
   "source": [
    "## Private sector income"
   ]
  },
  {
   "cell_type": "code",
   "execution_count": 51,
   "metadata": {},
   "outputs": [
    {
     "data": {
      "image/png": "[encoded data removed]",
      "text/plain": [
       "<Figure size 432x288 with 1 Axes>"
      ]
     },
     "metadata": {},
     "output_type": "display_data"
    }
   ],
   "source": [
    "workclass_under_50k.plot(kind=\"pie\", autopct=\"%1.1f%%\")\n",
    "plt.title(\"Under 50k Income by Workclass\")\n",
    "plt.ylabel(\"\")\n",
    "plt.show()"
   ]
  },
  {
   "cell_type": "code",
   "execution_count": 56,
   "metadata": {},
   "outputs": [],
   "source": [
    "private_income = replaced_df[\"income\"][replaced_df[\"workclass\"] == \"Private\"].value_counts()"
   ]
  },
  {
   "cell_type": "code",
   "execution_count": 57,
   "metadata": {},
   "outputs": [
    {
     "data": {
      "image/png": "[encoded data removed]",
      "text/plain": [
       "<Figure size 432x288 with 1 Axes>"
      ]
     },
     "metadata": {},
     "output_type": "display_data"
    }
   ],
   "source": [
    "private_income.plot(kind=\"pie\", autopct=\"%1.1f%%\")\n",
    "plt.title(\"Private workclass income\")\n",
    "plt.ylabel(\"\")\n",
    "plt.show()"
   ]
  },
  {
   "cell_type": "markdown",
   "metadata": {},
   "source": [
    "## Local gov income"
   ]
  },
  {
   "cell_type": "code",
   "execution_count": 58,
   "metadata": {},
   "outputs": [],
   "source": [
    "local_gov_income = replaced_df[\"income\"][replaced_df[\"workclass\"] == \"Local-gov\"].value_counts()"
   ]
  },
  {
   "cell_type": "code",
   "execution_count": 59,
   "metadata": {},
   "outputs": [
    {
     "data": {
      "image/png": "[encoded data removed]",
      "text/plain": [
       "<Figure size 432x288 with 1 Axes>"
      ]
     },
     "metadata": {},
     "output_type": "display_data"
    }
   ],
   "source": [
    "local_gov_income.plot(kind=\"pie\", autopct=\"%1.1f%%\")\n",
    "plt.title(\"Local Gov workclass income\")\n",
    "plt.ylabel(\"\")\n",
    "plt.show()"
   ]
  },
  {
   "cell_type": "code",
   "execution_count": null,
   "metadata": {},
   "outputs": [],
   "source": []
  }
 ],
 "metadata": {
  "kernelspec": {
   "display_name": "Python 3",
   "language": "python",
   "name": "python3"
  },
  "language_info": {
   "codemirror_mode": {
    "name": "ipython",
    "version": 3
   },
   "file_extension": ".py",
   "mimetype": "text/x-python",
   "name": "python",
   "nbconvert_exporter": "python",
   "pygments_lexer": "ipython3",
   "version": "3.6.10"
  }
 },
 "nbformat": 4,
 "nbformat_minor": 4
}
